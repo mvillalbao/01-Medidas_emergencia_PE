{
 "cells": [
  {
   "cell_type": "markdown",
   "id": "5092869a",
   "metadata": {},
   "source": [
    "# Introduction"
   ]
  },
  {
   "cell_type": "markdown",
   "id": "c42b6a27",
   "metadata": {},
   "source": [
    "**This notebook reads a directory of pdf files, extracts the texts using an OCR package (pytesseract), finetunes an OpenAI Curie model, and runs the model on a subdirectory of pdf files. <br><br>The structure of the notebook goes like this:**\n",
    "1. [Setup](#Setup)\n",
    "2. [OCR Text Extraction](#OCR-Text-Extraction)\n",
    "3. [Training Data Preparation](#Training-Data-Preparation)\n",
    "4. [Fine Tuning OpenAI's Curie Model](#Fine-Tuning-OpenAI's-Curie-Model)\n",
    "5. [Validation Data Preparation](#Validation-Data-Preparation)\n",
    "6. [Running Fine Tuned Model](#Running-Fine-Tuned-Model)"
   ]
  },
  {
   "cell_type": "markdown",
   "id": "87300c30",
   "metadata": {},
   "source": [
    "# Setup"
   ]
  },
  {
   "cell_type": "code",
   "execution_count": 1,
   "id": "9ba9d271",
   "metadata": {},
   "outputs": [],
   "source": [
    "from pdf2image import convert_from_bytes\n",
    "import pytesseract\n",
    "import os\n",
    "import pandas as pd\n",
    "from tqdm import tqdm\n",
    "import re\n",
    "import openai\n",
    "import tiktoken\n",
    "import random\n",
    "import json\n",
    "import fitz\n",
    "import time\n",
    "import requests\n",
    "from requests.packages.urllib3.util import ssl_\n",
    "import warnings\n",
    "from requests.packages.urllib3.exceptions import InsecureRequestWarning"
   ]
  },
  {
   "cell_type": "code",
   "execution_count": 2,
   "id": "33596941",
   "metadata": {},
   "outputs": [
    {
     "data": {
      "text/plain": [
       "'C:\\\\Users\\\\matia\\\\OneDrive - Universidad del Pacífico\\\\01-Medidas_emergencia_PE\\\\01-DATA_PERU\\\\03-CODE\\\\Base de Reporte'"
      ]
     },
     "execution_count": 2,
     "metadata": {},
     "output_type": "execute_result"
    }
   ],
   "source": [
    "os.getcwd()"
   ]
  },
  {
   "cell_type": "markdown",
   "id": "70b407e0",
   "metadata": {},
   "source": [
    "**Set own root directory.**"
   ]
  },
  {
   "cell_type": "code",
   "execution_count": 3,
   "id": "7912d8f5",
   "metadata": {},
   "outputs": [],
   "source": [
    "root = r'C:\\Users\\matia\\OneDrive - Universidad del Pacífico\\01-Medidas_emergencia_PE'\n",
    "os.chdir(root)"
   ]
  },
  {
   "cell_type": "markdown",
   "id": "b302a47d",
   "metadata": {},
   "source": [
    "**We also define other important directories.**"
   ]
  },
  {
   "cell_type": "code",
   "execution_count": 4,
   "id": "487dc667",
   "metadata": {},
   "outputs": [],
   "source": [
    "data_raw = root + r'\\01-DATA_PERU\\01-DATA_RAW'\n",
    "data_pro = root + r'\\01-DATA_PERU\\02-DATA_PROCESSED'\n",
    "documentation = root + r'\\01-DATA_PERU\\04-DATA_DOCUMENTATION'"
   ]
  },
  {
   "cell_type": "markdown",
   "id": "c2470fe7",
   "metadata": {},
   "source": [
    "# PDF Document Scraping"
   ]
  },
  {
   "cell_type": "code",
   "execution_count": 5,
   "id": "d501c45e",
   "metadata": {},
   "outputs": [
    {
     "data": {
      "text/html": [
       "<div>\n",
       "<style scoped>\n",
       "    .dataframe tbody tr th:only-of-type {\n",
       "        vertical-align: middle;\n",
       "    }\n",
       "\n",
       "    .dataframe tbody tr th {\n",
       "        vertical-align: top;\n",
       "    }\n",
       "\n",
       "    .dataframe thead th {\n",
       "        text-align: right;\n",
       "    }\n",
       "</style>\n",
       "<table border=\"1\" class=\"dataframe\">\n",
       "  <thead>\n",
       "    <tr style=\"text-align: right;\">\n",
       "      <th></th>\n",
       "      <th>codigoconvocatoria</th>\n",
       "      <th>n_cod_contrato</th>\n",
       "      <th>urlcontrato</th>\n",
       "      <th>fecha_suscripcion_contrato</th>\n",
       "      <th>year_suscripcion</th>\n",
       "      <th>n_item1</th>\n",
       "      <th>ruc_proveedor1</th>\n",
       "      <th>ruc_destinatario_pago1</th>\n",
       "      <th>n_item2</th>\n",
       "      <th>ruc_proveedor2</th>\n",
       "      <th>...</th>\n",
       "      <th>ruc_destinatario_pago64</th>\n",
       "      <th>n_item65</th>\n",
       "      <th>ruc_proveedor65</th>\n",
       "      <th>ruc_destinatario_pago65</th>\n",
       "      <th>n_item66</th>\n",
       "      <th>ruc_proveedor66</th>\n",
       "      <th>ruc_destinatario_pago66</th>\n",
       "      <th>n_item67</th>\n",
       "      <th>ruc_proveedor67</th>\n",
       "      <th>ruc_destinatario_pago67</th>\n",
       "    </tr>\n",
       "  </thead>\n",
       "  <tbody>\n",
       "    <tr>\n",
       "      <th>0</th>\n",
       "      <td>590320</td>\n",
       "      <td>2008355</td>\n",
       "      <td>http://zonasegura.seace.gob.pe/documentos//srv...</td>\n",
       "      <td>2020-07-13</td>\n",
       "      <td>2020.0</td>\n",
       "      <td>223</td>\n",
       "      <td>20503300525</td>\n",
       "      <td>20503300525</td>\n",
       "      <td>NaN</td>\n",
       "      <td></td>\n",
       "      <td>...</td>\n",
       "      <td></td>\n",
       "      <td>NaN</td>\n",
       "      <td></td>\n",
       "      <td></td>\n",
       "      <td>NaN</td>\n",
       "      <td></td>\n",
       "      <td></td>\n",
       "      <td>NaN</td>\n",
       "      <td></td>\n",
       "      <td></td>\n",
       "    </tr>\n",
       "    <tr>\n",
       "      <th>1</th>\n",
       "      <td>590320</td>\n",
       "      <td>2006287</td>\n",
       "      <td>http://zonasegura.seace.gob.pe/documentos//srv...</td>\n",
       "      <td>2020-08-11</td>\n",
       "      <td>2020.0</td>\n",
       "      <td>2</td>\n",
       "      <td>20503300525</td>\n",
       "      <td>20503300525</td>\n",
       "      <td>NaN</td>\n",
       "      <td></td>\n",
       "      <td>...</td>\n",
       "      <td></td>\n",
       "      <td>NaN</td>\n",
       "      <td></td>\n",
       "      <td></td>\n",
       "      <td>NaN</td>\n",
       "      <td></td>\n",
       "      <td></td>\n",
       "      <td>NaN</td>\n",
       "      <td></td>\n",
       "      <td></td>\n",
       "    </tr>\n",
       "    <tr>\n",
       "      <th>2</th>\n",
       "      <td>590320</td>\n",
       "      <td>2003330</td>\n",
       "      <td>http://zonasegura.seace.gob.pe/documentos//srv...</td>\n",
       "      <td>2020-05-28</td>\n",
       "      <td>2020.0</td>\n",
       "      <td>192</td>\n",
       "      <td>20536390201</td>\n",
       "      <td>20536390201</td>\n",
       "      <td>338.0</td>\n",
       "      <td>20536390201</td>\n",
       "      <td>...</td>\n",
       "      <td></td>\n",
       "      <td>NaN</td>\n",
       "      <td></td>\n",
       "      <td></td>\n",
       "      <td>NaN</td>\n",
       "      <td></td>\n",
       "      <td></td>\n",
       "      <td>NaN</td>\n",
       "      <td></td>\n",
       "      <td></td>\n",
       "    </tr>\n",
       "    <tr>\n",
       "      <th>3</th>\n",
       "      <td>591706</td>\n",
       "      <td>2025400</td>\n",
       "      <td>http://zonasegura.seace.gob.pe/documentos//srv...</td>\n",
       "      <td>2020-11-10</td>\n",
       "      <td>2020.0</td>\n",
       "      <td>33</td>\n",
       "      <td>20255361695</td>\n",
       "      <td>20255361695</td>\n",
       "      <td>34.0</td>\n",
       "      <td>20255361695</td>\n",
       "      <td>...</td>\n",
       "      <td></td>\n",
       "      <td>NaN</td>\n",
       "      <td></td>\n",
       "      <td></td>\n",
       "      <td>NaN</td>\n",
       "      <td></td>\n",
       "      <td></td>\n",
       "      <td>NaN</td>\n",
       "      <td></td>\n",
       "      <td></td>\n",
       "    </tr>\n",
       "    <tr>\n",
       "      <th>4</th>\n",
       "      <td>590320</td>\n",
       "      <td>2006532</td>\n",
       "      <td>http://zonasegura.seace.gob.pe/documentos//srv...</td>\n",
       "      <td>2020-06-26</td>\n",
       "      <td>2020.0</td>\n",
       "      <td>295</td>\n",
       "      <td>20503300525</td>\n",
       "      <td>20503300525</td>\n",
       "      <td>386.0</td>\n",
       "      <td>20503300525</td>\n",
       "      <td>...</td>\n",
       "      <td></td>\n",
       "      <td>NaN</td>\n",
       "      <td></td>\n",
       "      <td></td>\n",
       "      <td>NaN</td>\n",
       "      <td></td>\n",
       "      <td></td>\n",
       "      <td>NaN</td>\n",
       "      <td></td>\n",
       "      <td></td>\n",
       "    </tr>\n",
       "    <tr>\n",
       "      <th>...</th>\n",
       "      <td>...</td>\n",
       "      <td>...</td>\n",
       "      <td>...</td>\n",
       "      <td>...</td>\n",
       "      <td>...</td>\n",
       "      <td>...</td>\n",
       "      <td>...</td>\n",
       "      <td>...</td>\n",
       "      <td>...</td>\n",
       "      <td>...</td>\n",
       "      <td>...</td>\n",
       "      <td>...</td>\n",
       "      <td>...</td>\n",
       "      <td>...</td>\n",
       "      <td>...</td>\n",
       "      <td>...</td>\n",
       "      <td>...</td>\n",
       "      <td>...</td>\n",
       "      <td>...</td>\n",
       "      <td>...</td>\n",
       "      <td>...</td>\n",
       "    </tr>\n",
       "    <tr>\n",
       "      <th>7495</th>\n",
       "      <td>667558</td>\n",
       "      <td>2037565</td>\n",
       "      <td>https://prodapp2.seace.gob.pe/portalseace-uiwd...</td>\n",
       "      <td>2020-12-15</td>\n",
       "      <td>2020.0</td>\n",
       "      <td>5</td>\n",
       "      <td>20332970411</td>\n",
       "      <td>20332970411</td>\n",
       "      <td>NaN</td>\n",
       "      <td></td>\n",
       "      <td>...</td>\n",
       "      <td></td>\n",
       "      <td>NaN</td>\n",
       "      <td></td>\n",
       "      <td></td>\n",
       "      <td>NaN</td>\n",
       "      <td></td>\n",
       "      <td></td>\n",
       "      <td>NaN</td>\n",
       "      <td></td>\n",
       "      <td></td>\n",
       "    </tr>\n",
       "    <tr>\n",
       "      <th>7496</th>\n",
       "      <td>743189</td>\n",
       "      <td>2080139</td>\n",
       "      <td>https://prodapp2.seace.gob.pe/portalseace-uiwd...</td>\n",
       "      <td>2021-10-21</td>\n",
       "      <td>2021.0</td>\n",
       "      <td>1</td>\n",
       "      <td>20521691191</td>\n",
       "      <td>20521691191</td>\n",
       "      <td>NaN</td>\n",
       "      <td></td>\n",
       "      <td>...</td>\n",
       "      <td></td>\n",
       "      <td>NaN</td>\n",
       "      <td></td>\n",
       "      <td></td>\n",
       "      <td>NaN</td>\n",
       "      <td></td>\n",
       "      <td></td>\n",
       "      <td>NaN</td>\n",
       "      <td></td>\n",
       "      <td></td>\n",
       "    </tr>\n",
       "    <tr>\n",
       "      <th>7497</th>\n",
       "      <td>839608</td>\n",
       "      <td>2142276</td>\n",
       "      <td>https://prodapp2.seace.gob.pe/portalseace-uiwd...</td>\n",
       "      <td>2022-09-14</td>\n",
       "      <td>2022.0</td>\n",
       "      <td>1</td>\n",
       "      <td>20100096341</td>\n",
       "      <td>20100096341</td>\n",
       "      <td>NaN</td>\n",
       "      <td></td>\n",
       "      <td>...</td>\n",
       "      <td></td>\n",
       "      <td>NaN</td>\n",
       "      <td></td>\n",
       "      <td></td>\n",
       "      <td>NaN</td>\n",
       "      <td></td>\n",
       "      <td></td>\n",
       "      <td>NaN</td>\n",
       "      <td></td>\n",
       "      <td></td>\n",
       "    </tr>\n",
       "    <tr>\n",
       "      <th>7498</th>\n",
       "      <td>706847</td>\n",
       "      <td>2058868</td>\n",
       "      <td>https://prodapp2.seace.gob.pe/portalseace-uiwd...</td>\n",
       "      <td>2021-05-31</td>\n",
       "      <td>2021.0</td>\n",
       "      <td>1</td>\n",
       "      <td>20600144252</td>\n",
       "      <td>20600144252</td>\n",
       "      <td>NaN</td>\n",
       "      <td></td>\n",
       "      <td>...</td>\n",
       "      <td></td>\n",
       "      <td>NaN</td>\n",
       "      <td></td>\n",
       "      <td></td>\n",
       "      <td>NaN</td>\n",
       "      <td></td>\n",
       "      <td></td>\n",
       "      <td>NaN</td>\n",
       "      <td></td>\n",
       "      <td></td>\n",
       "    </tr>\n",
       "    <tr>\n",
       "      <th>7499</th>\n",
       "      <td>718713</td>\n",
       "      <td>2074361</td>\n",
       "      <td>https://prodapp2.seace.gob.pe/portalseace-uiwd...</td>\n",
       "      <td>2021-08-27</td>\n",
       "      <td>2021.0</td>\n",
       "      <td>1</td>\n",
       "      <td>20505328281</td>\n",
       "      <td>20505328281</td>\n",
       "      <td>NaN</td>\n",
       "      <td></td>\n",
       "      <td>...</td>\n",
       "      <td></td>\n",
       "      <td>NaN</td>\n",
       "      <td></td>\n",
       "      <td></td>\n",
       "      <td>NaN</td>\n",
       "      <td></td>\n",
       "      <td></td>\n",
       "      <td>NaN</td>\n",
       "      <td></td>\n",
       "      <td></td>\n",
       "    </tr>\n",
       "  </tbody>\n",
       "</table>\n",
       "<p>7500 rows × 206 columns</p>\n",
       "</div>"
      ],
      "text/plain": [
       "      codigoconvocatoria  n_cod_contrato  \\\n",
       "0                 590320         2008355   \n",
       "1                 590320         2006287   \n",
       "2                 590320         2003330   \n",
       "3                 591706         2025400   \n",
       "4                 590320         2006532   \n",
       "...                  ...             ...   \n",
       "7495              667558         2037565   \n",
       "7496              743189         2080139   \n",
       "7497              839608         2142276   \n",
       "7498              706847         2058868   \n",
       "7499              718713         2074361   \n",
       "\n",
       "                                            urlcontrato  \\\n",
       "0     http://zonasegura.seace.gob.pe/documentos//srv...   \n",
       "1     http://zonasegura.seace.gob.pe/documentos//srv...   \n",
       "2     http://zonasegura.seace.gob.pe/documentos//srv...   \n",
       "3     http://zonasegura.seace.gob.pe/documentos//srv...   \n",
       "4     http://zonasegura.seace.gob.pe/documentos//srv...   \n",
       "...                                                 ...   \n",
       "7495  https://prodapp2.seace.gob.pe/portalseace-uiwd...   \n",
       "7496  https://prodapp2.seace.gob.pe/portalseace-uiwd...   \n",
       "7497  https://prodapp2.seace.gob.pe/portalseace-uiwd...   \n",
       "7498  https://prodapp2.seace.gob.pe/portalseace-uiwd...   \n",
       "7499  https://prodapp2.seace.gob.pe/portalseace-uiwd...   \n",
       "\n",
       "     fecha_suscripcion_contrato  year_suscripcion  n_item1 ruc_proveedor1  \\\n",
       "0                    2020-07-13            2020.0      223    20503300525   \n",
       "1                    2020-08-11            2020.0        2    20503300525   \n",
       "2                    2020-05-28            2020.0      192    20536390201   \n",
       "3                    2020-11-10            2020.0       33    20255361695   \n",
       "4                    2020-06-26            2020.0      295    20503300525   \n",
       "...                         ...               ...      ...            ...   \n",
       "7495                 2020-12-15            2020.0        5    20332970411   \n",
       "7496                 2021-10-21            2021.0        1    20521691191   \n",
       "7497                 2022-09-14            2022.0        1    20100096341   \n",
       "7498                 2021-05-31            2021.0        1    20600144252   \n",
       "7499                 2021-08-27            2021.0        1    20505328281   \n",
       "\n",
       "     ruc_destinatario_pago1  n_item2 ruc_proveedor2  ...  \\\n",
       "0               20503300525      NaN                 ...   \n",
       "1               20503300525      NaN                 ...   \n",
       "2               20536390201    338.0    20536390201  ...   \n",
       "3               20255361695     34.0    20255361695  ...   \n",
       "4               20503300525    386.0    20503300525  ...   \n",
       "...                     ...      ...            ...  ...   \n",
       "7495            20332970411      NaN                 ...   \n",
       "7496            20521691191      NaN                 ...   \n",
       "7497            20100096341      NaN                 ...   \n",
       "7498            20600144252      NaN                 ...   \n",
       "7499            20505328281      NaN                 ...   \n",
       "\n",
       "     ruc_destinatario_pago64  n_item65 ruc_proveedor65  \\\n",
       "0                                  NaN                   \n",
       "1                                  NaN                   \n",
       "2                                  NaN                   \n",
       "3                                  NaN                   \n",
       "4                                  NaN                   \n",
       "...                      ...       ...             ...   \n",
       "7495                               NaN                   \n",
       "7496                               NaN                   \n",
       "7497                               NaN                   \n",
       "7498                               NaN                   \n",
       "7499                               NaN                   \n",
       "\n",
       "     ruc_destinatario_pago65  n_item66 ruc_proveedor66  \\\n",
       "0                                  NaN                   \n",
       "1                                  NaN                   \n",
       "2                                  NaN                   \n",
       "3                                  NaN                   \n",
       "4                                  NaN                   \n",
       "...                      ...       ...             ...   \n",
       "7495                               NaN                   \n",
       "7496                               NaN                   \n",
       "7497                               NaN                   \n",
       "7498                               NaN                   \n",
       "7499                               NaN                   \n",
       "\n",
       "     ruc_destinatario_pago66  n_item67 ruc_proveedor67 ruc_destinatario_pago67  \n",
       "0                                  NaN                                          \n",
       "1                                  NaN                                          \n",
       "2                                  NaN                                          \n",
       "3                                  NaN                                          \n",
       "4                                  NaN                                          \n",
       "...                      ...       ...             ...                     ...  \n",
       "7495                               NaN                                          \n",
       "7496                               NaN                                          \n",
       "7497                               NaN                                          \n",
       "7498                               NaN                                          \n",
       "7499                               NaN                                          \n",
       "\n",
       "[7500 rows x 206 columns]"
      ]
     },
     "execution_count": 5,
     "metadata": {},
     "output_type": "execute_result"
    }
   ],
   "source": [
    "OSCE_main_sample = pd.read_stata(data_pro + r'\\OSCE_main_sample.dta', convert_dates=True, convert_categoricals=True, index_col=None, convert_missing=False, preserve_dtypes=True, columns=None, order_categoricals=True, chunksize=None, iterator=False, compression='infer', storage_options=None)\n",
    "OSCE_main_sample"
   ]
  },
  {
   "cell_type": "code",
   "execution_count": 6,
   "id": "2518e575",
   "metadata": {},
   "outputs": [],
   "source": [
    "save_directory = documentation + r'\\Main_sample\\downloaded_pdfs'\n",
    "\n",
    "# Create the directory if it doesn't exist\n",
    "if not os.path.exists(save_directory):\n",
    "    os.makedirs(save_directory)"
   ]
  },
  {
   "cell_type": "code",
   "execution_count": 7,
   "id": "32b939c2",
   "metadata": {
    "scrolled": true
   },
   "outputs": [
    {
     "name": "stderr",
     "output_type": "stream",
     "text": [
      "  0%|                                                                                | 10/7500 [00:00<02:34, 48.49it/s]"
     ]
    },
    {
     "name": "stdout",
     "output_type": "stream",
     "text": [
      "Failed to download PDF 2008355 from http://zonasegura.seace.gob.pe/documentos//srv/nfs4/contratos/007a7972-8634-4d85-8b0e-6f7426e90c92. Status code: 404\n",
      "Failed to download PDF 2006287 from http://zonasegura.seace.gob.pe/documentos//srv/nfs4/contratos/00cd9ad5-3c62-4075-b2a6-e650697288dc. Status code: 404\n",
      "Failed to download PDF 2003330 from http://zonasegura.seace.gob.pe/documentos//srv/nfs4/contratos/01750b3f-9674-45f8-a7a4-644ea8e30daf. Status code: 404\n",
      "Failed to download PDF 2025400 from http://zonasegura.seace.gob.pe/documentos//srv/nfs4/contratos/01cf55b1-0fe7-4033-9bed-1f9faab2e062. Status code: 404\n",
      "Failed to download PDF 2006532 from http://zonasegura.seace.gob.pe/documentos//srv/nfs4/contratos/01e63e7a-ae05-49ee-a61e-f3cec69cd26a. Status code: 404\n",
      "Failed to download PDF 2017187 from http://zonasegura.seace.gob.pe/documentos//srv/nfs4/contratos/022e262b-af91-4591-9e4a-237149d4afe8. Status code: 404\n",
      "Failed to download PDF 2033785 from http://zonasegura.seace.gob.pe/documentos//srv/nfs4/contratos/02822096-b462-473a-999d-2aab5ffeb4c2. Status code: 404\n",
      "Failed to download PDF 2018690 from http://zonasegura.seace.gob.pe/documentos//srv/nfs4/contratos/028d1691-dda2-47c8-ae73-1fc781daa026. Status code: 404\n",
      "Failed to download PDF 2008130 from http://zonasegura.seace.gob.pe/documentos//srv/nfs4/contratos/02922647-74f8-4589-a315-ef31678c4368. Status code: 404\n",
      "Failed to download PDF 2008064 from http://zonasegura.seace.gob.pe/documentos//srv/nfs4/contratos/029ba0ef-cc1b-4b8a-9764-2855475bcea5. Status code: 404\n",
      "Failed to download PDF 2005678 from http://zonasegura.seace.gob.pe/documentos//srv/nfs4/contratos/02de0a68-c929-45b5-b0ea-a506adef6fc1. Status code: 404\n",
      "Failed to download PDF 2007393 from http://zonasegura.seace.gob.pe/documentos//srv/nfs4/contratos/030fc63b-c481-4706-ab81-66501ab5915d. Status code: 404\n"
     ]
    },
    {
     "name": "stderr",
     "output_type": "stream",
     "text": [
      "  0%|▏                                                                               | 22/7500 [00:00<02:22, 52.60it/s]"
     ]
    },
    {
     "name": "stdout",
     "output_type": "stream",
     "text": [
      "Failed to download PDF 2016315 from http://zonasegura.seace.gob.pe/documentos//srv/nfs4/contratos/04192377-860e-4e28-82b3-2b45668c9800. Status code: 404\n",
      "Failed to download PDF 2011169 from http://zonasegura.seace.gob.pe/documentos//srv/nfs4/contratos/046379c9-51ea-4cdf-83a4-5934675c50a0. Status code: 404\n",
      "Failed to download PDF 2014882 from http://zonasegura.seace.gob.pe/documentos//srv/nfs4/contratos/068d2a89-de53-41ab-a843-9836948ad200. Status code: 404\n",
      "Failed to download PDF 2011181 from http://zonasegura.seace.gob.pe/documentos//srv/nfs4/contratos/06e0264c-8ae0-45b1-a181-c902db5bc8b5. Status code: 404\n",
      "Failed to download PDF 2039549 from http://zonasegura.seace.gob.pe/documentos//srv/nfs4/contratos/07430560-ece4-424f-9290-16aa85ac530c. Status code: 404\n",
      "Failed to download PDF 2004538 from http://zonasegura.seace.gob.pe/documentos//srv/nfs4/contratos/07a3f16a-f337-45e3-b595-8ac068c7b401. Status code: 404\n",
      "Failed to download PDF 2005534 from http://zonasegura.seace.gob.pe/documentos//srv/nfs4/contratos/07e363df-c9bd-48c9-b462-cb8751c82617. Status code: 404\n",
      "Failed to download PDF 2002969 from http://zonasegura.seace.gob.pe/documentos//srv/nfs4/contratos/07f68c2c-678a-48b7-bbc0-1b72c191656f. Status code: 404\n",
      "Failed to download PDF 2047801 from http://zonasegura.seace.gob.pe/documentos//srv/nfs4/contratos/08ca4de2-f798-4078-97de-ef392ab879a0. Status code: 404\n",
      "Failed to download PDF 2045687 from http://zonasegura.seace.gob.pe/documentos//srv/nfs4/contratos/08e8a096-03c9-44c3-97b6-704dfac44799. Status code: 404\n",
      "Failed to download PDF 2021829 from http://zonasegura.seace.gob.pe/documentos//srv/nfs4/contratos/092b89d0-4939-46f1-bdf8-71d1565f545e. Status code: 404\n",
      "Failed to download PDF 2043701 from http://zonasegura.seace.gob.pe/documentos//srv/nfs4/contratos/0995ad91-82d2-4689-8064-cf3a50d5c899. Status code: 404\n"
     ]
    },
    {
     "name": "stderr",
     "output_type": "stream",
     "text": [
      "  0%|▎                                                                               | 35/7500 [00:00<02:12, 56.16it/s]"
     ]
    },
    {
     "name": "stdout",
     "output_type": "stream",
     "text": [
      "Failed to download PDF 2168639 from http://zonasegura.seace.gob.pe/documentos//srv/nfs4/contratos/09be878e-ee91-4e68-aee1-ca4523d99fea. Status code: 404\n",
      "Failed to download PDF 2008302 from http://zonasegura.seace.gob.pe/documentos//srv/nfs4/contratos/0aa825bd-1bc2-4d1c-8f7a-68cdde81e6b7. Status code: 404\n",
      "Failed to download PDF 2017223 from http://zonasegura.seace.gob.pe/documentos//srv/nfs4/contratos/0ab7ce96-4358-47ac-8e68-75f5012031e0. Status code: 404\n",
      "Failed to download PDF 2004611 from http://zonasegura.seace.gob.pe/documentos//srv/nfs4/contratos/0b3514c6-8a64-441c-9070-73f9dae983cb. Status code: 404\n",
      "Failed to download PDF 2002722 from http://zonasegura.seace.gob.pe/documentos//srv/nfs4/contratos/0ccb448f-bf23-42ce-9dac-dfd200205d07. Status code: 404\n",
      "Failed to download PDF 2047917 from http://zonasegura.seace.gob.pe/documentos//srv/nfs4/contratos/0d7d7ed1-1fd6-486d-a98d-ccc0e25887c7. Status code: 404\n",
      "Failed to download PDF 2025169 from http://zonasegura.seace.gob.pe/documentos//srv/nfs4/contratos/0de6c7da-b0ee-494a-973f-0eb92c47832a. Status code: 404\n",
      "Failed to download PDF 2006862 from http://zonasegura.seace.gob.pe/documentos//srv/nfs4/contratos/0e01bb17-9e45-46bf-b720-0aca2e93f39a. Status code: 404\n",
      "Failed to download PDF 2006213 from http://zonasegura.seace.gob.pe/documentos//srv/nfs4/contratos/0e2bead8-d1e4-4505-8f22-ed810f79c53f. Status code: 404\n",
      "Failed to download PDF 2015285 from http://zonasegura.seace.gob.pe/documentos//srv/nfs4/contratos/0e4037a1-7fd0-4b0d-9504-0b5cc4e4c329. Status code: 404\n",
      "Failed to download PDF 2003089 from http://zonasegura.seace.gob.pe/documentos//srv/nfs4/contratos/0e967381-8be4-4c50-be90-4aaa5f2bf998. Status code: 404\n",
      "Failed to download PDF 2007677 from http://zonasegura.seace.gob.pe/documentos//srv/nfs4/contratos/0f273147-3bd0-427f-88df-308253764e01. Status code: 404\n",
      "Failed to download PDF 2006519 from http://zonasegura.seace.gob.pe/documentos//srv/nfs4/contratos/0f3deaa2-edb5-4cc2-b139-3725d740813d. Status code: 404\n"
     ]
    },
    {
     "name": "stderr",
     "output_type": "stream",
     "text": [
      "  1%|▌                                                                               | 47/7500 [00:00<02:16, 54.69it/s]"
     ]
    },
    {
     "name": "stdout",
     "output_type": "stream",
     "text": [
      "Failed to download PDF 2006984 from http://zonasegura.seace.gob.pe/documentos//srv/nfs4/contratos/0f51c018-8083-4be5-a054-4f988d640cf8. Status code: 404\n",
      "Failed to download PDF 2006842 from http://zonasegura.seace.gob.pe/documentos//srv/nfs4/contratos/0feef6e3-5d0f-427e-b996-0c489f0f39f1. Status code: 404\n",
      "Failed to download PDF 2016732 from http://zonasegura.seace.gob.pe/documentos//srv/nfs4/contratos/0fef59f5-28bc-4cbc-8f71-df9eaf63e20e. Status code: 404\n",
      "Failed to download PDF 2014563 from http://zonasegura.seace.gob.pe/documentos//srv/nfs4/contratos/1019c9c5-0e62-40a3-b4c7-3ce8687c0889. Status code: 404\n",
      "Failed to download PDF 2012122 from http://zonasegura.seace.gob.pe/documentos//srv/nfs4/contratos/113c95a2-8f05-4066-9dfb-9cfa887dabbe. Status code: 404\n",
      "Failed to download PDF 2015512 from http://zonasegura.seace.gob.pe/documentos//srv/nfs4/contratos/1253a8e2-e177-4641-89a2-ee24f50ee565. Status code: 404\n",
      "Failed to download PDF 2016673 from http://zonasegura.seace.gob.pe/documentos//srv/nfs4/contratos/1260cdc4-df1f-4f26-b194-833066a7e876. Status code: 404\n",
      "Failed to download PDF 2069888 from http://zonasegura.seace.gob.pe/documentos//srv/nfs4/contratos/1261fff8-9df0-439a-8464-4fb3aae08fb1. Status code: 404\n",
      "Failed to download PDF 2007156 from http://zonasegura.seace.gob.pe/documentos//srv/nfs4/contratos/12716120-28a6-4f20-a7cf-ecff4eac22a0. Status code: 404\n",
      "Failed to download PDF 2015602 from http://zonasegura.seace.gob.pe/documentos//srv/nfs4/contratos/12af7c7e-2e8d-491b-a9f5-18ad5e8f107e. Status code: 404\n",
      "Failed to download PDF 2010850 from http://zonasegura.seace.gob.pe/documentos//srv/nfs4/contratos/133d0b1f-9ad0-4cdc-9696-88b91eb8a5f1. Status code: 404\n",
      "Failed to download PDF 2045704 from http://zonasegura.seace.gob.pe/documentos//srv/nfs4/contratos/13421bd8-3be0-4d50-aed1-ac6f8f993af5. Status code: 404\n"
     ]
    },
    {
     "name": "stderr",
     "output_type": "stream",
     "text": [
      "  1%|▋                                                                               | 60/7500 [00:01<02:11, 56.51it/s]"
     ]
    },
    {
     "name": "stdout",
     "output_type": "stream",
     "text": [
      "Failed to download PDF 2008547 from http://zonasegura.seace.gob.pe/documentos//srv/nfs4/contratos/13ec12c6-bf68-45f9-b2d2-532bc72cb783. Status code: 404\n",
      "Failed to download PDF 2005200 from http://zonasegura.seace.gob.pe/documentos//srv/nfs4/contratos/145fd019-9130-4fcc-b166-b0825c2175cc. Status code: 404\n",
      "Failed to download PDF 2006265 from http://zonasegura.seace.gob.pe/documentos//srv/nfs4/contratos/148e415b-64fe-41c4-99cb-480b7d55c88e. Status code: 404\n",
      "Failed to download PDF 2012578 from http://zonasegura.seace.gob.pe/documentos//srv/nfs4/contratos/14a540f7-3b14-4793-96c9-cdaecf5e86f8. Status code: 404\n",
      "Failed to download PDF 2007646 from http://zonasegura.seace.gob.pe/documentos//srv/nfs4/contratos/14df29c9-8382-43c9-ac9f-34bed262637c. Status code: 404\n",
      "Failed to download PDF 2014176 from http://zonasegura.seace.gob.pe/documentos//srv/nfs4/contratos/1540d6e5-1c6b-4914-8950-e0b82f13acf6. Status code: 404\n",
      "Failed to download PDF 2022960 from http://zonasegura.seace.gob.pe/documentos//srv/nfs4/contratos/156ec63b-e2ed-4272-a080-46224fffdfc2. Status code: 404\n",
      "Failed to download PDF 2007619 from http://zonasegura.seace.gob.pe/documentos//srv/nfs4/contratos/1579c22b-2527-461c-999e-683eaaafc32b. Status code: 404\n",
      "Failed to download PDF 2025219 from http://zonasegura.seace.gob.pe/documentos//srv/nfs4/contratos/1582db10-ce81-486c-9675-592c325dc088. Status code: 404\n",
      "Failed to download PDF 2009793 from http://zonasegura.seace.gob.pe/documentos//srv/nfs4/contratos/15c469f2-9302-4970-9675-a6ab11a53d90. Status code: 404\n",
      "Failed to download PDF 2009285 from http://zonasegura.seace.gob.pe/documentos//srv/nfs4/contratos/15d25b49-c663-4cf7-a46c-366ba688261f. Status code: 404\n"
     ]
    },
    {
     "name": "stderr",
     "output_type": "stream",
     "text": [
      "  1%|▊                                                                               | 72/7500 [00:01<02:09, 57.28it/s]"
     ]
    },
    {
     "name": "stdout",
     "output_type": "stream",
     "text": [
      "Failed to download PDF 2015718 from http://zonasegura.seace.gob.pe/documentos//srv/nfs4/contratos/1622b6b9-7fe4-4676-87ed-231af7e48d41. Status code: 404\n",
      "Failed to download PDF 2006234 from http://zonasegura.seace.gob.pe/documentos//srv/nfs4/contratos/16325632-1312-42aa-bdf4-df56303c22c7. Status code: 404\n",
      "Failed to download PDF 2007787 from http://zonasegura.seace.gob.pe/documentos//srv/nfs4/contratos/163ee66b-ddff-4860-a0d6-d5e6fc359882. Status code: 404\n",
      "Failed to download PDF 2012601 from http://zonasegura.seace.gob.pe/documentos//srv/nfs4/contratos/16941fba-a42f-4e23-b20d-c6122bd29be1. Status code: 404\n",
      "Failed to download PDF 2005273 from http://zonasegura.seace.gob.pe/documentos//srv/nfs4/contratos/16f93def-f0e7-423a-9044-d13aeea1c831. Status code: 404\n",
      "Failed to download PDF 2016300 from http://zonasegura.seace.gob.pe/documentos//srv/nfs4/contratos/171ed191-961a-4b9d-b7b4-c9c8d03df2f3. Status code: 404\n",
      "Failed to download PDF 2008273 from http://zonasegura.seace.gob.pe/documentos//srv/nfs4/contratos/175c5105-561a-4faa-86be-a51792bd2e43. Status code: 404\n",
      "Failed to download PDF 2008350 from http://zonasegura.seace.gob.pe/documentos//srv/nfs4/contratos/17c03eb9-addf-4733-9edc-d490dd9f21da. Status code: 404\n",
      "Failed to download PDF 2003905 from http://zonasegura.seace.gob.pe/documentos//srv/nfs4/contratos/17e85390-991c-4277-9a51-31152310d59f. Status code: 404\n",
      "Failed to download PDF 2035503 from http://zonasegura.seace.gob.pe/documentos//srv/nfs4/contratos/17f45950-86a9-4fe9-901b-1c51d6d18433. Status code: 404\n",
      "Failed to download PDF 2035526 from http://zonasegura.seace.gob.pe/documentos//srv/nfs4/contratos/181a4121-e1fc-472a-975f-64bd0315f2ac. Status code: 404\n",
      "Failed to download PDF 2014830 from http://zonasegura.seace.gob.pe/documentos//srv/nfs4/contratos/1882ace3-c6ba-41b0-b9cb-94c556470e98. Status code: 404\n"
     ]
    },
    {
     "name": "stderr",
     "output_type": "stream",
     "text": [
      "\r\n",
      "  1%|▊                                                                               | 78/7500 [00:01<02:08, 57.89it/s]"
     ]
    },
    {
     "name": "stdout",
     "output_type": "stream",
     "text": [
      "Failed to download PDF 2010334 from http://zonasegura.seace.gob.pe/documentos//srv/nfs4/contratos/18d3e516-471d-4723-aed1-bb7f593054c8. Status code: 404\n",
      "Failed to download PDF 2011465 from http://zonasegura.seace.gob.pe/documentos//srv/nfs4/contratos/19241e0e-1c73-444d-b205-f4f3c3de5954. Status code: 404\n",
      "Failed to download PDF 2005743 from http://zonasegura.seace.gob.pe/documentos//srv/nfs4/contratos/19f249a2-9ec0-48eb-932d-d6e38928618f. Status code: 404\n",
      "Failed to download PDF 2019673 from http://zonasegura.seace.gob.pe/documentos//srv/nfs4/contratos/1a28a351-3a5e-47a8-911a-fb44cd54c02c. Status code: 404\n",
      "Failed to download PDF 2011126 from http://zonasegura.seace.gob.pe/documentos//srv/nfs4/contratos/1a73002b-4be0-4441-9656-eaffc74472d2. Status code: 404\n",
      "Failed to download PDF 2006177 from http://zonasegura.seace.gob.pe/documentos//srv/nfs4/contratos/1a8cf639-8bad-43fe-9b4e-23788c8fa943. Status code: 404\n",
      "Failed to download PDF 2007817 from http://zonasegura.seace.gob.pe/documentos//srv/nfs4/contratos/1b20684f-a89a-4c4a-a493-06559af8ad62. Status code: 404\n",
      "Failed to download PDF 2004068 from http://zonasegura.seace.gob.pe/documentos//srv/nfs4/contratos/1bf13aa1-d4ab-459f-a857-79cf4f85f0d7. Status code: 404\n",
      "Failed to download PDF 2009765 from http://zonasegura.seace.gob.pe/documentos//srv/nfs4/contratos/1d56b186-9537-4f15-a15f-47be5e7340ea. Status code: 404\n",
      "Failed to download PDF 2019948 from http://zonasegura.seace.gob.pe/documentos//srv/nfs4/contratos/1dac14b3-d687-47e7-8ac2-408abcafeb7f. Status code: 404\n",
      "Failed to download PDF 2046643 from http://zonasegura.seace.gob.pe/documentos//srv/nfs4/contratos/1e4643a0-62b2-4fe5-8bb4-acdb5b62f8ea. Status code: 404\n",
      "Failed to download PDF 2020115 from http://zonasegura.seace.gob.pe/documentos//srv/nfs4/contratos/1fda9ab2-9845-47a0-ab9a-31cd11fb845f. Status code: 404\n"
     ]
    },
    {
     "name": "stderr",
     "output_type": "stream",
     "text": [
      "  1%|▉                                                                               | 92/7500 [00:01<02:02, 60.37it/s]"
     ]
    },
    {
     "name": "stdout",
     "output_type": "stream",
     "text": [
      "Failed to download PDF 2002628 from http://zonasegura.seace.gob.pe/documentos//srv/nfs4/contratos/203a2274-8cf9-4a9e-80cd-5dbe5eb72487. Status code: 404\n",
      "Failed to download PDF 2029005 from http://zonasegura.seace.gob.pe/documentos//srv/nfs4/contratos/204bc3d7-cd20-4c90-b982-0504508ef3ec. Status code: 404\n",
      "Failed to download PDF 2016621 from http://zonasegura.seace.gob.pe/documentos//srv/nfs4/contratos/20c7d692-b9aa-4f1e-a461-75138cbbdc23. Status code: 404\n",
      "Failed to download PDF 2017259 from http://zonasegura.seace.gob.pe/documentos//srv/nfs4/contratos/211b214e-d001-439b-ae36-a334fd42b12e. Status code: 404\n",
      "Failed to download PDF 2012185 from http://zonasegura.seace.gob.pe/documentos//srv/nfs4/contratos/2146afe7-9bf8-4d9a-9d12-02a4b24470fb. Status code: 404\n",
      "Failed to download PDF 2016288 from http://zonasegura.seace.gob.pe/documentos//srv/nfs4/contratos/2259b2b9-d55d-493b-a985-68daa1e2dc94. Status code: 404\n",
      "Failed to download PDF 2022430 from http://zonasegura.seace.gob.pe/documentos//srv/nfs4/contratos/2275aea4-7ffa-4131-8d22-703a51ab1ded. Status code: 404\n",
      "Failed to download PDF 2006173 from http://zonasegura.seace.gob.pe/documentos//srv/nfs4/contratos/22797da8-8c12-40cd-a415-ab1291920ef0. Status code: 404\n",
      "Failed to download PDF 2004831 from http://zonasegura.seace.gob.pe/documentos//srv/nfs4/contratos/24688660-0b97-4b0b-ab12-2b0f76767f2f. Status code: 404\n",
      "Failed to download PDF 2014336 from http://zonasegura.seace.gob.pe/documentos//srv/nfs4/contratos/24c9012f-4468-4211-871d-795ff089066d. Status code: 404\n",
      "Failed to download PDF 2003039 from http://zonasegura.seace.gob.pe/documentos//srv/nfs4/contratos/25764b66-8c28-4ee7-82db-f9f024b489aa. Status code: 404\n",
      "Failed to download PDF 2019928 from http://zonasegura.seace.gob.pe/documentos//srv/nfs4/contratos/25f5f03d-e23d-4a55-aa85-63214dfb5a62. Status code: 404\n",
      "Failed to download PDF 2035604 from http://zonasegura.seace.gob.pe/documentos//srv/nfs4/contratos/2654ce53-a057-4933-bc99-02ad7b112b86. Status code: 404\n",
      "Failed to download PDF 2023655 from http://zonasegura.seace.gob.pe/documentos//srv/nfs4/contratos/265c9d7e-923a-44bd-8743-7ab97bc853d4. Status code: 404\n"
     ]
    },
    {
     "name": "stderr",
     "output_type": "stream",
     "text": [
      "  2%|█▏                                                                             | 113/7500 [00:01<01:55, 63.91it/s]"
     ]
    },
    {
     "name": "stdout",
     "output_type": "stream",
     "text": [
      "Failed to download PDF 2008292 from http://zonasegura.seace.gob.pe/documentos//srv/nfs4/contratos/26750752-f4c6-4951-950b-57ec0be414f8. Status code: 404\n",
      "Failed to download PDF 2011108 from http://zonasegura.seace.gob.pe/documentos//srv/nfs4/contratos/272763ce-d1e8-4fb9-9c68-ef8aed739a06. Status code: 404\n",
      "Failed to download PDF 2029713 from http://zonasegura.seace.gob.pe/documentos//srv/nfs4/contratos/277396e9-f519-4385-8630-b90d8a4235c3. Status code: 404\n",
      "Failed to download PDF 2044306 from http://zonasegura.seace.gob.pe/documentos//srv/nfs4/contratos/2854f153-6304-4f31-ba90-66fe4a89b3f0. Status code: 404\n",
      "Failed to download PDF 2008254 from http://zonasegura.seace.gob.pe/documentos//srv/nfs4/contratos/2a34a702-b491-4021-a0a3-1a89a9def4cd. Status code: 404\n",
      "Failed to download PDF 2028182 from http://zonasegura.seace.gob.pe/documentos//srv/nfs4/contratos/2a4711a3-aff6-4187-a565-840f9c1cbb0e. Status code: 404\n",
      "Failed to download PDF 2013549 from http://zonasegura.seace.gob.pe/documentos//srv/nfs4/contratos/2ad56908-bfc0-4395-b0bb-7042cc1a4302. Status code: 404\n",
      "Failed to download PDF 2011968 from http://zonasegura.seace.gob.pe/documentos//srv/nfs4/contratos/2b0cc649-06b2-465b-8179-a4a25832d20b. Status code: 404\n",
      "Failed to download PDF 2005832 from http://zonasegura.seace.gob.pe/documentos//srv/nfs4/contratos/2c6622f6-38fe-42f1-a5a9-4012fae5a2e0. Status code: 404\n",
      "Failed to download PDF 2012659 from http://zonasegura.seace.gob.pe/documentos//srv/nfs4/contratos/2c88ce03-894e-4c6b-93ef-6a31ec8bbe2b. Status code: 404\n",
      "Failed to download PDF 2007113 from http://zonasegura.seace.gob.pe/documentos//srv/nfs4/contratos/2d6c4dbc-79e8-4f2c-a825-43e8fc269784. Status code: 404\n",
      "Failed to download PDF 2008434 from http://zonasegura.seace.gob.pe/documentos//srv/nfs4/contratos/2e714fb0-057d-4c83-bb3f-be2870c7bc6d. Status code: 404\n",
      "Failed to download PDF 2013939 from http://zonasegura.seace.gob.pe/documentos//srv/nfs4/contratos/2e9b77a3-6393-4152-a19d-bc010a19e8ba. Status code: 404\n",
      "Failed to download PDF 2014120 from http://zonasegura.seace.gob.pe/documentos//srv/nfs4/contratos/2f11cb4f-c785-4870-bca4-1a27fe7cbc8f. Status code: 404\n",
      "Failed to download PDF 2022950 from http://zonasegura.seace.gob.pe/documentos//srv/nfs4/contratos/2f406056-1df7-446d-8804-cc2b0d8fc922. Status code: 404\n"
     ]
    },
    {
     "name": "stderr",
     "output_type": "stream",
     "text": [
      "\r\n",
      "  2%|█▎                                                                             | 120/7500 [00:02<01:55, 64.07it/s]"
     ]
    },
    {
     "name": "stdout",
     "output_type": "stream",
     "text": [
      "Failed to download PDF 2029923 from http://zonasegura.seace.gob.pe/documentos//srv/nfs4/contratos/30098ff3-b7f6-438a-8c48-6df78c38e3cd. Status code: 404\n",
      "Failed to download PDF 2037013 from http://zonasegura.seace.gob.pe/documentos//srv/nfs4/contratos/30d3b0db-3ce8-4295-a5ab-c12e1b5f6c02. Status code: 404\n",
      "Failed to download PDF 2011990 from http://zonasegura.seace.gob.pe/documentos//srv/nfs4/contratos/30dd4066-730e-4cfe-b1f8-76bfe9135c1d. Status code: 404\n",
      "Failed to download PDF 2039516 from http://zonasegura.seace.gob.pe/documentos//srv/nfs4/contratos/315f2163-9255-41e9-9085-cf57bca12751. Status code: 404\n",
      "Failed to download PDF 2012647 from http://zonasegura.seace.gob.pe/documentos//srv/nfs4/contratos/318066a8-2be1-4e51-84ad-c2f5c77f7193. Status code: 404\n",
      "Failed to download PDF 2008165 from http://zonasegura.seace.gob.pe/documentos//srv/nfs4/contratos/31858d8b-c63c-42f0-9998-35688def0b67. Status code: 404\n",
      "Failed to download PDF 2012078 from http://zonasegura.seace.gob.pe/documentos//srv/nfs4/contratos/319a4d55-e208-4561-8a62-fd734e34033f. Status code: 404\n",
      "Failed to download PDF 2010508 from http://zonasegura.seace.gob.pe/documentos//srv/nfs4/contratos/31ac1042-4ad0-41c7-b392-0600876a4e9f. Status code: 404\n",
      "Failed to download PDF 2016896 from http://zonasegura.seace.gob.pe/documentos//srv/nfs4/contratos/31b8127e-1062-4841-8d0c-5ed4e49e40c9. Status code: 404\n",
      "Failed to download PDF 2030209 from http://zonasegura.seace.gob.pe/documentos//srv/nfs4/contratos/32685cdb-c87f-4088-901f-6316006a8153. Status code: 404\n",
      "Failed to download PDF 2008030 from http://zonasegura.seace.gob.pe/documentos//srv/nfs4/contratos/3276af56-7532-45cc-b3d1-d5e7722b0804. Status code: 404\n",
      "Failed to download PDF 2061239 from http://zonasegura.seace.gob.pe/documentos//srv/nfs4/contratos/327cb1e7-7e16-4a31-8f46-6673f6de0967. Status code: 404\n"
     ]
    },
    {
     "name": "stderr",
     "output_type": "stream",
     "text": [
      "  2%|█▍                                                                             | 134/7500 [00:02<02:00, 61.28it/s]"
     ]
    },
    {
     "name": "stdout",
     "output_type": "stream",
     "text": [
      "Failed to download PDF 2007118 from http://zonasegura.seace.gob.pe/documentos//srv/nfs4/contratos/33babb5e-408d-45cf-bf72-c5024832d8fb. Status code: 404\n",
      "Failed to download PDF 2008776 from http://zonasegura.seace.gob.pe/documentos//srv/nfs4/contratos/345d955d-72bc-499c-a1bc-0f7eb6833b2e. Status code: 404\n",
      "Failed to download PDF 2037271 from http://zonasegura.seace.gob.pe/documentos//srv/nfs4/contratos/3498b192-42c6-4f07-a6a4-fe50c858c6af. Status code: 404\n",
      "Failed to download PDF 2014718 from http://zonasegura.seace.gob.pe/documentos//srv/nfs4/contratos/34b014be-9144-49fb-9008-efa82687672d. Status code: 404\n",
      "Failed to download PDF 2052184 from http://zonasegura.seace.gob.pe/documentos//srv/nfs4/contratos/34c0b7b6-100d-4ecf-bb2f-75df272b02be. Status code: 404\n",
      "Failed to download PDF 2006592 from http://zonasegura.seace.gob.pe/documentos//srv/nfs4/contratos/34de9f47-6553-4edb-a8c6-17ab3bc84b68. Status code: 404\n",
      "Failed to download PDF 2003276 from http://zonasegura.seace.gob.pe/documentos//srv/nfs4/contratos/3647078c-47f0-4c79-b4eb-dad5bee6f4f0. Status code: 404\n",
      "Failed to download PDF 2039522 from http://zonasegura.seace.gob.pe/documentos//srv/nfs4/contratos/36476022-11ac-4599-abb0-b10d91f912af. Status code: 404\n",
      "Failed to download PDF 2023486 from http://zonasegura.seace.gob.pe/documentos//srv/nfs4/contratos/37ec0db0-dab1-4f05-a4d9-5c538e0dd9dc. Status code: 404\n",
      "Failed to download PDF 2035555 from http://zonasegura.seace.gob.pe/documentos//srv/nfs4/contratos/38b94efc-2ff7-4746-831c-e90b44f8b01e. Status code: 404\n",
      "Failed to download PDF 2012280 from http://zonasegura.seace.gob.pe/documentos//srv/nfs4/contratos/3910e591-229f-4da9-a771-274c55122a94. Status code: 404\n",
      "Failed to download PDF 2013750 from http://zonasegura.seace.gob.pe/documentos//srv/nfs4/contratos/3a5b7d7b-a460-425e-af72-c3f01248c80f. Status code: 404\n",
      "Failed to download PDF 2013700 from http://zonasegura.seace.gob.pe/documentos//srv/nfs4/contratos/3a5c02b3-4a7c-423b-8128-fbf9293b4d6d. Status code: 404\n"
     ]
    },
    {
     "name": "stderr",
     "output_type": "stream",
     "text": [
      "  2%|█▌                                                                             | 148/7500 [00:02<01:57, 62.76it/s]"
     ]
    },
    {
     "name": "stdout",
     "output_type": "stream",
     "text": [
      "Failed to download PDF 2005810 from http://zonasegura.seace.gob.pe/documentos//srv/nfs4/contratos/3bf86cef-e628-4f75-b837-b6198ea3baff. Status code: 404\n",
      "Failed to download PDF 2012595 from http://zonasegura.seace.gob.pe/documentos//srv/nfs4/contratos/3ccc4904-7a8f-407f-9387-a5f19ba11ff8. Status code: 404\n",
      "Failed to download PDF 2018458 from http://zonasegura.seace.gob.pe/documentos//srv/nfs4/contratos/3ceb5723-771b-4aab-996f-94049d7c781d. Status code: 404\n",
      "Failed to download PDF 2020104 from http://zonasegura.seace.gob.pe/documentos//srv/nfs4/contratos/3dd63896-aa8a-425e-8806-ebb016d64541. Status code: 404\n",
      "Failed to download PDF 2015580 from http://zonasegura.seace.gob.pe/documentos//srv/nfs4/contratos/3e19d543-7c23-4478-a098-04a6313c2a75. Status code: 404\n",
      "Failed to download PDF 2003215 from http://zonasegura.seace.gob.pe/documentos//srv/nfs4/contratos/3e88e6e9-f621-455d-9533-2dc1d6c6c021. Status code: 404\n",
      "Failed to download PDF 2023030 from http://zonasegura.seace.gob.pe/documentos//srv/nfs4/contratos/3eb07f84-8735-43a5-8c23-ba80a3e04a61. Status code: 404\n",
      "Failed to download PDF 2007154 from http://zonasegura.seace.gob.pe/documentos//srv/nfs4/contratos/3fb488f9-1ad2-4eac-8882-8355bf3f7057. Status code: 404\n",
      "Failed to download PDF 2008356 from http://zonasegura.seace.gob.pe/documentos//srv/nfs4/contratos/4098f1a5-7a45-40aa-b90c-3935c1733f0f. Status code: 404\n",
      "Failed to download PDF 2012749 from http://zonasegura.seace.gob.pe/documentos//srv/nfs4/contratos/415fe4d6-3447-48d4-acdc-4a23adf29c7b. Status code: 404\n",
      "Failed to download PDF 2023844 from http://zonasegura.seace.gob.pe/documentos//srv/nfs4/contratos/41d46577-7718-4e0b-ae3e-f0837b28b731. Status code: 404\n",
      "Failed to download PDF 2007338 from http://zonasegura.seace.gob.pe/documentos//srv/nfs4/contratos/42968791-9083-44de-8776-a1c1a7dad157. Status code: 404\n",
      "Failed to download PDF 2023181 from http://zonasegura.seace.gob.pe/documentos//srv/nfs4/contratos/43d1e567-f34e-46f3-bc4f-1cd0df40315d. Status code: 404\n",
      "Failed to download PDF 2021509 from http://zonasegura.seace.gob.pe/documentos//srv/nfs4/contratos/43f983a1-71ad-4e2b-b403-79ebe00d990a. Status code: 404\n",
      "Failed to download PDF 2007685 from http://zonasegura.seace.gob.pe/documentos//srv/nfs4/contratos/44a75951-063e-4305-9b51-d8b276fcb07c. Status code: 404\n"
     ]
    },
    {
     "name": "stderr",
     "output_type": "stream",
     "text": [
      "  2%|█▋                                                                             | 162/7500 [00:02<02:00, 60.91it/s]"
     ]
    },
    {
     "name": "stdout",
     "output_type": "stream",
     "text": [
      "Failed to download PDF 2010708 from http://zonasegura.seace.gob.pe/documentos//srv/nfs4/contratos/44ab2bfc-b8c6-439e-b47e-535f9fcee7a6. Status code: 404\n",
      "Failed to download PDF 2008352 from http://zonasegura.seace.gob.pe/documentos//srv/nfs4/contratos/44b10135-5fd3-401d-b8de-3fd8ed6bc75a. Status code: 404\n",
      "Failed to download PDF 2054741 from http://zonasegura.seace.gob.pe/documentos//srv/nfs4/contratos/4508d699-195e-4973-bc65-0f1b5806981e. Status code: 404\n",
      "Failed to download PDF 2008360 from http://zonasegura.seace.gob.pe/documentos//srv/nfs4/contratos/4566521b-981a-4071-b287-3fb116cc7e4c. Status code: 404\n",
      "Failed to download PDF 2006043 from http://zonasegura.seace.gob.pe/documentos//srv/nfs4/contratos/4576d1e2-ab52-4cc8-ac70-c067e2e9b468. Status code: 404\n",
      "Failed to download PDF 2035033 from http://zonasegura.seace.gob.pe/documentos//srv/nfs4/contratos/45847467-7a61-4024-9ed9-ecfcab3fbe14. Status code: 404\n",
      "Failed to download PDF 2003202 from http://zonasegura.seace.gob.pe/documentos//srv/nfs4/contratos/45bddbeb-2ecf-46a6-92f3-80c7d7beba14. Status code: 404\n",
      "Failed to download PDF 2014337 from http://zonasegura.seace.gob.pe/documentos//srv/nfs4/contratos/45cff215-afee-4c0e-a644-10bf4cbf581b. Status code: 404\n",
      "Failed to download PDF 2013176 from http://zonasegura.seace.gob.pe/documentos//srv/nfs4/contratos/45f0dfb5-c7b6-4fc1-9ec7-7f5193e8c0c8. Status code: 404\n",
      "Failed to download PDF 2024572 from http://zonasegura.seace.gob.pe/documentos//srv/nfs4/contratos/46384346-4b0c-4c52-bfcd-187065db4223. Status code: 404\n",
      "Failed to download PDF 2003049 from http://zonasegura.seace.gob.pe/documentos//srv/nfs4/contratos/46af15ae-44bf-47f1-80d7-c34e28bf3316. Status code: 404\n",
      "Failed to download PDF 2028867 from http://zonasegura.seace.gob.pe/documentos//srv/nfs4/contratos/474ac882-b40f-4446-975f-6b0e740529eb. Status code: 404\n",
      "Failed to download PDF 2044634 from http://zonasegura.seace.gob.pe/documentos//srv/nfs4/contratos/48097373-97c8-4f48-af3e-594e92ba8145. Status code: 404\n",
      "Failed to download PDF 2019975 from http://zonasegura.seace.gob.pe/documentos//srv/nfs4/contratos/4818d66d-5d68-40c8-9d2d-f642f3074972. Status code: 404\n"
     ]
    },
    {
     "name": "stderr",
     "output_type": "stream",
     "text": [
      "  2%|█▊                                                                             | 175/7500 [00:02<02:05, 58.30it/s]"
     ]
    },
    {
     "name": "stdout",
     "output_type": "stream",
     "text": [
      "Failed to download PDF 2034594 from http://zonasegura.seace.gob.pe/documentos//srv/nfs4/contratos/485bcc96-164d-441f-9794-7d54341d8b31. Status code: 404\n",
      "Failed to download PDF 2013201 from http://zonasegura.seace.gob.pe/documentos//srv/nfs4/contratos/48b0aec4-cc4a-4c85-891a-7fbfe087738a. Status code: 404\n",
      "Failed to download PDF 2002995 from http://zonasegura.seace.gob.pe/documentos//srv/nfs4/contratos/4912747a-a003-4bd2-9f82-09159f0d0ce2. Status code: 404\n",
      "Failed to download PDF 2012087 from http://zonasegura.seace.gob.pe/documentos//srv/nfs4/contratos/49502421-76b6-4a0d-9edc-8c83090070d6. Status code: 404\n",
      "Failed to download PDF 2011342 from http://zonasegura.seace.gob.pe/documentos//srv/nfs4/contratos/4a143581-8538-4913-babd-27ef611be0a1. Status code: 404\n",
      "Failed to download PDF 2015627 from http://zonasegura.seace.gob.pe/documentos//srv/nfs4/contratos/4ae0bff3-2bac-457d-9632-0ba6a54cef7c. Status code: 404\n",
      "Failed to download PDF 2028518 from http://zonasegura.seace.gob.pe/documentos//srv/nfs4/contratos/4b150c78-107c-4b46-9d55-2231c4bcd1c5. Status code: 404\n",
      "Failed to download PDF 2004516 from http://zonasegura.seace.gob.pe/documentos//srv/nfs4/contratos/4bfb6ce3-f0d7-4547-affa-5d2c0530f5d0. Status code: 404\n",
      "Failed to download PDF 2051626 from http://zonasegura.seace.gob.pe/documentos//srv/nfs4/contratos/4d2b83b8-ffd5-4a04-994c-791b047e219e. Status code: 404\n",
      "Failed to download PDF 2040332 from http://zonasegura.seace.gob.pe/documentos//srv/nfs4/contratos/4db65823-eb83-43b5-b1dd-17e4b6d3d3a5. Status code: 404\n",
      "Failed to download PDF 2030174 from http://zonasegura.seace.gob.pe/documentos//srv/nfs4/contratos/4db700e0-bfba-476d-9583-c6b8babf4848. Status code: 404\n",
      "Failed to download PDF 2006374 from http://zonasegura.seace.gob.pe/documentos//srv/nfs4/contratos/4e4e295c-b89e-407e-bbd8-86d7f518dbcc. Status code: 404\n"
     ]
    },
    {
     "name": "stderr",
     "output_type": "stream",
     "text": [
      "  2%|█▉                                                                             | 187/7500 [00:03<02:10, 55.98it/s]"
     ]
    },
    {
     "name": "stdout",
     "output_type": "stream",
     "text": [
      "Failed to download PDF 2014378 from http://zonasegura.seace.gob.pe/documentos//srv/nfs4/contratos/4ea49652-a432-4bcd-8249-60801bc23a89. Status code: 404\n",
      "Failed to download PDF 2026851 from http://zonasegura.seace.gob.pe/documentos//srv/nfs4/contratos/4f3d705c-30e3-44e5-8421-b45cd0de5785. Status code: 404\n",
      "Failed to download PDF 2020227 from http://zonasegura.seace.gob.pe/documentos//srv/nfs4/contratos/4f7c349f-704f-4aeb-bc87-789e63885b62. Status code: 404\n",
      "Failed to download PDF 2006369 from http://zonasegura.seace.gob.pe/documentos//srv/nfs4/contratos/4f982ef3-92ab-4034-90a3-373489b1d26a. Status code: 404\n",
      "Failed to download PDF 2005982 from http://zonasegura.seace.gob.pe/documentos//srv/nfs4/contratos/4fde3931-cd29-4199-a4fd-30fe69cd38d7. Status code: 404\n",
      "Failed to download PDF 2010970 from http://zonasegura.seace.gob.pe/documentos//srv/nfs4/contratos/4fe70c7a-1b13-4339-b4bb-05124e2d0772. Status code: 404\n",
      "Failed to download PDF 2003050 from http://zonasegura.seace.gob.pe/documentos//srv/nfs4/contratos/501db2fd-d2b0-4361-b5d0-4ef3b9b1e45b. Status code: 404\n",
      "Failed to download PDF 2026880 from http://zonasegura.seace.gob.pe/documentos//srv/nfs4/contratos/5028c2a8-9a62-41a5-aec9-d05f48223611. Status code: 404\n",
      "Failed to download PDF 2019875 from http://zonasegura.seace.gob.pe/documentos//srv/nfs4/contratos/5088954f-7023-4263-9fe6-a77f868dcd66. Status code: 404\n",
      "Failed to download PDF 2006379 from http://zonasegura.seace.gob.pe/documentos//srv/nfs4/contratos/50949bac-997d-4530-b780-c1f3d9b75cb8. Status code: 404\n",
      "Failed to download PDF 2035636 from http://zonasegura.seace.gob.pe/documentos//srv/nfs4/contratos/50a296e6-eef2-423e-a7df-8e513cdeb50d. Status code: 404\n"
     ]
    },
    {
     "name": "stderr",
     "output_type": "stream",
     "text": [
      "  3%|██                                                                             | 200/7500 [00:03<02:06, 57.72it/s]"
     ]
    },
    {
     "name": "stdout",
     "output_type": "stream",
     "text": [
      "Failed to download PDF 2011136 from http://zonasegura.seace.gob.pe/documentos//srv/nfs4/contratos/50ddca24-5e3b-461b-b302-126c9d8ec4bb. Status code: 404\n",
      "Failed to download PDF 2010845 from http://zonasegura.seace.gob.pe/documentos//srv/nfs4/contratos/52519bbf-1c67-4791-9311-8dd4cea8bbda. Status code: 404\n",
      "Failed to download PDF 2002823 from http://zonasegura.seace.gob.pe/documentos//srv/nfs4/contratos/525ae75f-eafd-4c00-a4f3-0751ee0ae8aa. Status code: 404\n",
      "Failed to download PDF 2007795 from http://zonasegura.seace.gob.pe/documentos//srv/nfs4/contratos/531708fc-41ce-4e12-b136-8238ebc36923. Status code: 404\n",
      "Failed to download PDF 2006428 from http://zonasegura.seace.gob.pe/documentos//srv/nfs4/contratos/5370a494-a8d8-45df-82b5-10478bd4700c. Status code: 404\n",
      "Failed to download PDF 2015955 from http://zonasegura.seace.gob.pe/documentos//srv/nfs4/contratos/537d22a0-7cd2-4b1c-a90b-5b28fa5373fb. Status code: 404\n",
      "Failed to download PDF 2006867 from http://zonasegura.seace.gob.pe/documentos//srv/nfs4/contratos/54010ac7-e047-4385-a2da-273ee1890312. Status code: 404\n",
      "Failed to download PDF 2016264 from http://zonasegura.seace.gob.pe/documentos//srv/nfs4/contratos/54985f3f-4c91-4476-95a2-4f1fb2176dcc. Status code: 404\n",
      "Failed to download PDF 2018960 from http://zonasegura.seace.gob.pe/documentos//srv/nfs4/contratos/54f72553-9eef-44e5-8e60-ae9e28168ba0. Status code: 404\n",
      "Failed to download PDF 2007161 from http://zonasegura.seace.gob.pe/documentos//srv/nfs4/contratos/55e9fcfa-d9a6-46d9-98aa-2d16aa6be180. Status code: 404\n",
      "Failed to download PDF 2038845 from http://zonasegura.seace.gob.pe/documentos//srv/nfs4/contratos/56476aed-0167-4ab3-8f28-03e65ee146d2. Status code: 404\n",
      "Failed to download PDF 2012085 from http://zonasegura.seace.gob.pe/documentos//srv/nfs4/contratos/56559fe1-ef5a-42b7-ace5-eb40f035f701. Status code: 404\n",
      "Failed to download PDF 2017013 from http://zonasegura.seace.gob.pe/documentos//srv/nfs4/contratos/56ac593c-9152-443b-bd3e-78c0e2ac23eb. Status code: 404\n",
      "Failed to download PDF 2075833 from http://zonasegura.seace.gob.pe/documentos//srv/nfs4/contratos/56b5a5f5-719c-49cd-9439-57e243458ddc. Status code: 404\n"
     ]
    },
    {
     "name": "stderr",
     "output_type": "stream",
     "text": [
      "  3%|██▎                                                                            | 214/7500 [00:03<01:58, 61.35it/s]"
     ]
    },
    {
     "name": "stdout",
     "output_type": "stream",
     "text": [
      "Failed to download PDF 2044299 from http://zonasegura.seace.gob.pe/documentos//srv/nfs4/contratos/570199ea-7f42-41c1-9bb1-8d190e44f7a5. Status code: 404\n",
      "Failed to download PDF 2049658 from http://zonasegura.seace.gob.pe/documentos//srv/nfs4/contratos/578dbf25-24c8-49c7-a461-d9679cc2c7ab. Status code: 404\n",
      "Failed to download PDF 2019401 from http://zonasegura.seace.gob.pe/documentos//srv/nfs4/contratos/58bec086-b2b9-4d0e-ae09-ba1b62984e8f. Status code: 404\n",
      "Failed to download PDF 2016738 from http://zonasegura.seace.gob.pe/documentos//srv/nfs4/contratos/58fbc150-e463-48c3-8c64-e8c7e6f917f8. Status code: 404\n",
      "Failed to download PDF 2014203 from http://zonasegura.seace.gob.pe/documentos//srv/nfs4/contratos/5931e8b4-acc1-4b9e-b39a-c41b8d763ed3. Status code: 404\n",
      "Failed to download PDF 2003285 from http://zonasegura.seace.gob.pe/documentos//srv/nfs4/contratos/5a06cba1-f8cd-4ce6-981b-1dd5e07cceac. Status code: 404\n",
      "Failed to download PDF 2007344 from http://zonasegura.seace.gob.pe/documentos//srv/nfs4/contratos/5a5c8c97-549f-4e6d-aec3-9fed3a0dd337. Status code: 404\n",
      "Failed to download PDF 2014928 from http://zonasegura.seace.gob.pe/documentos//srv/nfs4/contratos/5c9554cd-ae44-4f7f-9b45-6a4359f22930. Status code: 404\n",
      "Failed to download PDF 2003900 from http://zonasegura.seace.gob.pe/documentos//srv/nfs4/contratos/5d2d066e-9140-4a95-ba88-d3ae76241f02. Status code: 404\n",
      "Failed to download PDF 2023900 from http://zonasegura.seace.gob.pe/documentos//srv/nfs4/contratos/5d5aa10b-c965-4d72-a2e0-6c91cd2b043d. Status code: 404\n",
      "Failed to download PDF 2004656 from http://zonasegura.seace.gob.pe/documentos//srv/nfs4/contratos/5e43d5a5-659a-43cd-8bbc-625512e756b2. Status code: 404\n",
      "Failed to download PDF 2016334 from http://zonasegura.seace.gob.pe/documentos//srv/nfs4/contratos/5e84ed29-af85-46d9-b127-cae7e666d1da. Status code: 404\n",
      "Failed to download PDF 2023165 from http://zonasegura.seace.gob.pe/documentos//srv/nfs4/contratos/5eb93271-7a77-4824-9a0b-1602e8c8b0c9. Status code: 404\n",
      "Failed to download PDF 2007342 from http://zonasegura.seace.gob.pe/documentos//srv/nfs4/contratos/5ef863fb-ebf6-4463-a455-1672e3975f2f. Status code: 404\n"
     ]
    },
    {
     "name": "stderr",
     "output_type": "stream",
     "text": [
      "  3%|██▍                                                                            | 228/7500 [00:03<02:01, 60.01it/s]"
     ]
    },
    {
     "name": "stdout",
     "output_type": "stream",
     "text": [
      "Failed to download PDF 2010542 from http://zonasegura.seace.gob.pe/documentos//srv/nfs4/contratos/5f7c2a0c-b1e8-4862-a74d-8b87412ba714. Status code: 404\n",
      "Failed to download PDF 2015725 from http://zonasegura.seace.gob.pe/documentos//srv/nfs4/contratos/5fb66e4f-0e54-443a-b15e-09852cd9c857. Status code: 404\n",
      "Failed to download PDF 2008622 from http://zonasegura.seace.gob.pe/documentos//srv/nfs4/contratos/5fd478e7-a77e-49e5-8b41-5c171590ec9b. Status code: 404\n",
      "Failed to download PDF 2039580 from http://zonasegura.seace.gob.pe/documentos//srv/nfs4/contratos/5fdb366a-3d69-4e53-ae95-3b0a47e5db11. Status code: 404\n",
      "Failed to download PDF 2017183 from http://zonasegura.seace.gob.pe/documentos//srv/nfs4/contratos/5fdb487c-568d-4ff9-bc4f-a5b34d415213. Status code: 404\n",
      "Failed to download PDF 2011379 from http://zonasegura.seace.gob.pe/documentos//srv/nfs4/contratos/60a5f15c-08a9-433c-a39b-cbb329d173c3. Status code: 404\n",
      "Failed to download PDF 2016115 from http://zonasegura.seace.gob.pe/documentos//srv/nfs4/contratos/60b16e98-a1c9-496e-9f1a-8726e31e9883. Status code: 404\n",
      "Failed to download PDF 2039704 from http://zonasegura.seace.gob.pe/documentos//srv/nfs4/contratos/60bb2aa3-6119-491f-b482-1505eb504342. Status code: 404\n",
      "Failed to download PDF 2006836 from http://zonasegura.seace.gob.pe/documentos//srv/nfs4/contratos/62c8321d-c114-419f-9fd2-b46d3fc2f0bc. Status code: 404\n",
      "Failed to download PDF 2002416 from http://zonasegura.seace.gob.pe/documentos//srv/nfs4/contratos/637c16aa-0c1f-4628-b5b2-81c995eeb1ce. Status code: 404\n",
      "Failed to download PDF 2007300 from http://zonasegura.seace.gob.pe/documentos//srv/nfs4/contratos/63a843b2-72ee-4a62-8fcb-0a49e191c232. Status code: 404\n",
      "Failed to download PDF 2013751 from http://zonasegura.seace.gob.pe/documentos//srv/nfs4/contratos/63c0b0f1-0a31-432a-b3fb-31d3683b3156. Status code: 404\n",
      "Failed to download PDF 2042894 from http://zonasegura.seace.gob.pe/documentos//srv/nfs4/contratos/63c71b73-2e09-44e6-a1fb-5bed34b35902. Status code: 404\n"
     ]
    },
    {
     "name": "stderr",
     "output_type": "stream",
     "text": [
      "  3%|██▌                                                                            | 241/7500 [00:04<02:05, 57.83it/s]"
     ]
    },
    {
     "name": "stdout",
     "output_type": "stream",
     "text": [
      "Failed to download PDF 2019757 from http://zonasegura.seace.gob.pe/documentos//srv/nfs4/contratos/63e131e3-5d6f-439a-8ed4-6ad98c7c13a0. Status code: 404\n",
      "Failed to download PDF 2006853 from http://zonasegura.seace.gob.pe/documentos//srv/nfs4/contratos/6411839f-38e8-4f3a-88dd-9a2a2f6f85ce. Status code: 404\n",
      "Failed to download PDF 2005428 from http://zonasegura.seace.gob.pe/documentos//srv/nfs4/contratos/647cda39-0748-42fa-80e3-00f2c5ef8458. Status code: 404\n",
      "Failed to download PDF 2012974 from http://zonasegura.seace.gob.pe/documentos//srv/nfs4/contratos/64a80bf7-9902-42e4-b3b3-a72766b4c1fc. Status code: 404\n",
      "Failed to download PDF 2008950 from http://zonasegura.seace.gob.pe/documentos//srv/nfs4/contratos/64d3a13c-2c32-45df-bfcc-65d1ebabf03c. Status code: 404\n",
      "Failed to download PDF 2005313 from http://zonasegura.seace.gob.pe/documentos//srv/nfs4/contratos/654b842c-29f8-4236-8e44-2b745ab79d96. Status code: 404\n",
      "Failed to download PDF 2037902 from http://zonasegura.seace.gob.pe/documentos//srv/nfs4/contratos/6568fcbc-8c05-4f9e-abc2-2a12f90abc47. Status code: 404\n",
      "Failed to download PDF 2016327 from http://zonasegura.seace.gob.pe/documentos//srv/nfs4/contratos/6598df52-3ee3-4aaf-8921-27e158b8fed1. Status code: 404\n",
      "Failed to download PDF 2011356 from http://zonasegura.seace.gob.pe/documentos//srv/nfs4/contratos/65d6233b-af27-4ad8-96ce-2e5c0864edf8. Status code: 404\n",
      "Failed to download PDF 2004779 from http://zonasegura.seace.gob.pe/documentos//srv/nfs4/contratos/661369b8-b579-4881-a7ae-b32ba907dbf8. Status code: 404\n",
      "Failed to download PDF 2052461 from http://zonasegura.seace.gob.pe/documentos//srv/nfs4/contratos/665e7d7f-44b1-446b-ac38-39944349dadd. Status code: 404\n",
      "Failed to download PDF 2007483 from http://zonasegura.seace.gob.pe/documentos//srv/nfs4/contratos/66652200-b075-4081-8d2b-e69e1c7f0ad8. Status code: 404\n"
     ]
    },
    {
     "name": "stderr",
     "output_type": "stream",
     "text": [
      "  3%|██▋                                                                            | 254/7500 [00:04<02:02, 59.14it/s]"
     ]
    },
    {
     "name": "stdout",
     "output_type": "stream",
     "text": [
      "Failed to download PDF 2016052 from http://zonasegura.seace.gob.pe/documentos//srv/nfs4/contratos/667069a3-534e-4d13-9edf-079fd0d6e5d3. Status code: 404\n",
      "Failed to download PDF 2017218 from http://zonasegura.seace.gob.pe/documentos//srv/nfs4/contratos/66e213a1-d925-4bfd-a28d-4f1b5cdb30e3. Status code: 404\n",
      "Failed to download PDF 2016001 from http://zonasegura.seace.gob.pe/documentos//srv/nfs4/contratos/676c93a8-6529-46bf-9efc-017938306f92. Status code: 404\n",
      "Failed to download PDF 2005288 from http://zonasegura.seace.gob.pe/documentos//srv/nfs4/contratos/67e5fad4-6f7d-48ee-8f23-d2a4f8bd9be5. Status code: 404\n",
      "Failed to download PDF 2007250 from http://zonasegura.seace.gob.pe/documentos//srv/nfs4/contratos/685d8852-db1e-4937-ab54-6ceecdd1fd2e. Status code: 404\n",
      "Failed to download PDF 2016847 from http://zonasegura.seace.gob.pe/documentos//srv/nfs4/contratos/6926b2aa-eed8-455c-a932-d610053d0494. Status code: 404\n",
      "Failed to download PDF 2016855 from http://zonasegura.seace.gob.pe/documentos//srv/nfs4/contratos/696e46e6-12c8-440b-ac1d-8a406c6dfbbe. Status code: 404\n",
      "Failed to download PDF 2003470 from http://zonasegura.seace.gob.pe/documentos//srv/nfs4/contratos/6994b047-117b-49e4-b74d-ce4a847feba8. Status code: 404\n",
      "Failed to download PDF 2074692 from http://zonasegura.seace.gob.pe/documentos//srv/nfs4/contratos/6a2ba96e-8d3c-47f5-b10b-fbcb9796b5a3. Status code: 404\n",
      "Failed to download PDF 2016480 from http://zonasegura.seace.gob.pe/documentos//srv/nfs4/contratos/6aaee7f1-50b0-4152-a48c-9b24ec69447c. Status code: 404\n",
      "Failed to download PDF 2014518 from http://zonasegura.seace.gob.pe/documentos//srv/nfs4/contratos/6ad491de-b673-4294-aadc-b8d7242211eb. Status code: 404\n",
      "Failed to download PDF 2016409 from http://zonasegura.seace.gob.pe/documentos//srv/nfs4/contratos/6b938e29-44d2-4ecd-8943-fb6b49cc9616. Status code: 404\n",
      "Failed to download PDF 2020648 from http://zonasegura.seace.gob.pe/documentos//srv/nfs4/contratos/6ba7a6e3-7ea6-46c3-b86a-4af88dd932a6. Status code: 404\n",
      "Failed to download PDF 2013690 from http://zonasegura.seace.gob.pe/documentos//srv/nfs4/contratos/6bcfbfeb-f2f0-4c8a-ae52-cca9d65c7c3c. Status code: 404\n"
     ]
    },
    {
     "name": "stderr",
     "output_type": "stream",
     "text": [
      "  4%|██▊                                                                            | 267/7500 [00:04<02:02, 58.86it/s]"
     ]
    },
    {
     "name": "stdout",
     "output_type": "stream",
     "text": [
      "Failed to download PDF 2012194 from http://zonasegura.seace.gob.pe/documentos//srv/nfs4/contratos/6c892538-579b-4122-a7f4-c924dbdd59cb. Status code: 404\n",
      "Failed to download PDF 2018624 from http://zonasegura.seace.gob.pe/documentos//srv/nfs4/contratos/6cc42982-241e-4d06-a672-617ab7170302. Status code: 404\n",
      "Failed to download PDF 2010034 from http://zonasegura.seace.gob.pe/documentos//srv/nfs4/contratos/6cd3d606-7a02-4a24-9d4a-2197bf125662. Status code: 404\n",
      "Failed to download PDF 2002717 from http://zonasegura.seace.gob.pe/documentos//srv/nfs4/contratos/6d1a9e64-8e43-47f0-9c03-303d5ec66be8. Status code: 404\n",
      "Failed to download PDF 2016191 from http://zonasegura.seace.gob.pe/documentos//srv/nfs4/contratos/6d625a73-85f9-4e5a-b75d-fc080f800bcd. Status code: 404\n",
      "Failed to download PDF 2012300 from http://zonasegura.seace.gob.pe/documentos//srv/nfs4/contratos/6e5571a3-2d8d-4b25-b231-c9b9035e8e05. Status code: 404\n",
      "Failed to download PDF 2008214 from http://zonasegura.seace.gob.pe/documentos//srv/nfs4/contratos/6e85f391-5f33-4055-966e-ae5380b4da1c. Status code: 404\n",
      "Failed to download PDF 2016418 from http://zonasegura.seace.gob.pe/documentos//srv/nfs4/contratos/6f3ec501-35bd-4858-829a-831c744eb168. Status code: 404\n",
      "Failed to download PDF 2014156 from http://zonasegura.seace.gob.pe/documentos//srv/nfs4/contratos/6f49c61c-9796-4331-9790-029449135bcb. Status code: 404\n",
      "Failed to download PDF 2007414 from http://zonasegura.seace.gob.pe/documentos//srv/nfs4/contratos/6f826118-2b72-432f-824d-e810ddd8615b. Status code: 404\n",
      "Failed to download PDF 2012167 from http://zonasegura.seace.gob.pe/documentos//srv/nfs4/contratos/6fb3fb1b-821f-44f0-ae7e-35131c03c1ee. Status code: 404\n",
      "Failed to download PDF 2043070 from http://zonasegura.seace.gob.pe/documentos//srv/nfs4/contratos/6ffc8120-8175-47ea-ad1b-4f3d3129a594. Status code: 404\n",
      "Failed to download PDF 2010393 from http://zonasegura.seace.gob.pe/documentos//srv/nfs4/contratos/702b8c56-a183-492e-9272-2e3d9e434edb. Status code: 404\n"
     ]
    },
    {
     "name": "stderr",
     "output_type": "stream",
     "text": [
      "  4%|██▉                                                                            | 279/7500 [00:04<02:09, 55.63it/s]"
     ]
    },
    {
     "name": "stdout",
     "output_type": "stream",
     "text": [
      "Failed to download PDF 2047422 from http://zonasegura.seace.gob.pe/documentos//srv/nfs4/contratos/702da2d6-79ce-4cc6-a8e4-90000f741224. Status code: 404\n",
      "Failed to download PDF 2005281 from http://zonasegura.seace.gob.pe/documentos//srv/nfs4/contratos/70588da1-a209-48f0-9e2d-4916920eca80. Status code: 404\n",
      "Failed to download PDF 2014197 from http://zonasegura.seace.gob.pe/documentos//srv/nfs4/contratos/708da2b2-eb95-4f9f-b631-2d9c2210a291. Status code: 404\n",
      "Failed to download PDF 2009579 from http://zonasegura.seace.gob.pe/documentos//srv/nfs4/contratos/71a5d94a-f3a3-490e-abb9-b9e251b71426. Status code: 404\n",
      "Failed to download PDF 2013882 from http://zonasegura.seace.gob.pe/documentos//srv/nfs4/contratos/71d73487-dc17-47f8-aab4-e93ad0c533c4. Status code: 404\n",
      "Failed to download PDF 2004528 from http://zonasegura.seace.gob.pe/documentos//srv/nfs4/contratos/7220d415-550f-4a40-b0b9-5d2796e252f4. Status code: 404\n",
      "Failed to download PDF 2008594 from http://zonasegura.seace.gob.pe/documentos//srv/nfs4/contratos/725cba4e-944e-430b-bcd5-b7a272b7f929. Status code: 404\n",
      "Failed to download PDF 2003047 from http://zonasegura.seace.gob.pe/documentos//srv/nfs4/contratos/7273229c-38dd-41d7-86f4-255213cff2bf. Status code: 404\n",
      "Failed to download PDF 2017208 from http://zonasegura.seace.gob.pe/documentos//srv/nfs4/contratos/734dca9a-7762-47d4-a212-aa49e8d5c0f9. Status code: 404\n",
      "Failed to download PDF 2006587 from http://zonasegura.seace.gob.pe/documentos//srv/nfs4/contratos/7454237a-8c3b-4919-86bc-402873cd7a58. Status code: 404\n",
      "Failed to download PDF 2043514 from http://zonasegura.seace.gob.pe/documentos//srv/nfs4/contratos/74b15d7f-5750-4e4c-b844-0211a445e879. Status code: 404\n",
      "Failed to download PDF 2027048 from http://zonasegura.seace.gob.pe/documentos//srv/nfs4/contratos/74f368a9-eae2-4386-a680-009b57123927. Status code: 404\n"
     ]
    },
    {
     "name": "stderr",
     "output_type": "stream",
     "text": [
      "  4%|███                                                                            | 291/7500 [00:05<02:15, 53.37it/s]"
     ]
    },
    {
     "name": "stdout",
     "output_type": "stream",
     "text": [
      "Failed to download PDF 2012269 from http://zonasegura.seace.gob.pe/documentos//srv/nfs4/contratos/750b1097-f5e2-4838-a716-e64884662919. Status code: 404\n",
      "Failed to download PDF 2013162 from http://zonasegura.seace.gob.pe/documentos//srv/nfs4/contratos/75617b27-265f-41f2-9b61-fddaa610c1b2. Status code: 404\n",
      "Failed to download PDF 2011133 from http://zonasegura.seace.gob.pe/documentos//srv/nfs4/contratos/757ffe93-0fc2-4c77-9077-2f30bb42e4c0. Status code: 404\n",
      "Failed to download PDF 2006351 from http://zonasegura.seace.gob.pe/documentos//srv/nfs4/contratos/76648910-47c2-460c-87e3-38bdc00915a0. Status code: 404\n",
      "Failed to download PDF 2022156 from http://zonasegura.seace.gob.pe/documentos//srv/nfs4/contratos/767a5b1b-eb35-4bb0-84ab-a1ca4ea58b88. Status code: 404\n",
      "Failed to download PDF 2025163 from http://zonasegura.seace.gob.pe/documentos//srv/nfs4/contratos/76b0ff46-6446-498e-b9db-fd4ad108f010. Status code: 404\n",
      "Failed to download PDF 2038853 from http://zonasegura.seace.gob.pe/documentos//srv/nfs4/contratos/76b45371-d61b-4e09-ba78-f4a442f07f04. Status code: 404\n",
      "Failed to download PDF 2007229 from http://zonasegura.seace.gob.pe/documentos//srv/nfs4/contratos/773accf5-4314-4d86-9244-b56f4461d2ae. Status code: 404\n",
      "Failed to download PDF 2016923 from http://zonasegura.seace.gob.pe/documentos//srv/nfs4/contratos/7785aaa8-3ffb-4651-8521-918c34f498a5. Status code: 404\n",
      "Failed to download PDF 2012380 from http://zonasegura.seace.gob.pe/documentos//srv/nfs4/contratos/783a1be4-4d75-492b-a49f-1267800e1235. Status code: 404\n",
      "Failed to download PDF 2010340 from http://zonasegura.seace.gob.pe/documentos//srv/nfs4/contratos/788c68fb-eb83-4b03-9f39-f95743401bf2. Status code: 404\n"
     ]
    },
    {
     "name": "stderr",
     "output_type": "stream",
     "text": [
      "  4%|███▏                                                                           | 303/7500 [00:05<02:19, 51.51it/s]"
     ]
    },
    {
     "name": "stdout",
     "output_type": "stream",
     "text": [
      "Failed to download PDF 2006833 from http://zonasegura.seace.gob.pe/documentos//srv/nfs4/contratos/790dada1-e8a7-4fe5-8267-4858f7e3a1f7. Status code: 404\n",
      "Failed to download PDF 2018319 from http://zonasegura.seace.gob.pe/documentos//srv/nfs4/contratos/79abbaf6-65c9-4f2b-b2e8-41fcbeead96b. Status code: 404\n",
      "Failed to download PDF 2017801 from http://zonasegura.seace.gob.pe/documentos//srv/nfs4/contratos/7a3eaf39-88c8-4d31-a009-f3b5c9deb2d6. Status code: 404\n",
      "Failed to download PDF 2007336 from http://zonasegura.seace.gob.pe/documentos//srv/nfs4/contratos/7a61ad06-ce56-4904-ba1b-665175a9e5d7. Status code: 404\n",
      "Failed to download PDF 2013715 from http://zonasegura.seace.gob.pe/documentos//srv/nfs4/contratos/7b34cc9a-6d2b-47b4-9c64-c6d8cb2f143f. Status code: 404\n",
      "Failed to download PDF 2012150 from http://zonasegura.seace.gob.pe/documentos//srv/nfs4/contratos/7b70fb66-f2e8-4285-9dcf-aec0eb86fae3. Status code: 404\n",
      "Failed to download PDF 2014468 from http://zonasegura.seace.gob.pe/documentos//srv/nfs4/contratos/7b8513d4-05e6-47a7-8961-607805389cbc. Status code: 404\n",
      "Failed to download PDF 2016733 from http://zonasegura.seace.gob.pe/documentos//srv/nfs4/contratos/7b89389a-7179-4620-a400-8421dc03e91d. Status code: 404\n",
      "Failed to download PDF 2017145 from http://zonasegura.seace.gob.pe/documentos//srv/nfs4/contratos/7bfa9542-a39f-4f57-b86c-d40b15f9481c. Status code: 404\n",
      "Failed to download PDF 2011343 from http://zonasegura.seace.gob.pe/documentos//srv/nfs4/contratos/7c278d8a-1ee9-4b29-aaab-c1901a06cc16. Status code: 404\n"
     ]
    },
    {
     "name": "stderr",
     "output_type": "stream",
     "text": [
      "\r\n",
      "  4%|███▎                                                                           | 309/7500 [00:05<02:21, 50.97it/s]"
     ]
    },
    {
     "name": "stdout",
     "output_type": "stream",
     "text": [
      "Failed to download PDF 2023909 from http://zonasegura.seace.gob.pe/documentos//srv/nfs4/contratos/7e16e123-675e-4472-9f9c-cc1a8f73b383. Status code: 404\n",
      "Failed to download PDF 2017769 from http://zonasegura.seace.gob.pe/documentos//srv/nfs4/contratos/7e348d5a-dc19-4333-8171-0d9544dd925d. Status code: 404\n",
      "Failed to download PDF 2041995 from http://zonasegura.seace.gob.pe/documentos//srv/nfs4/contratos/7e6db6c8-c5e6-40c3-868c-0e5d5240d0b3. Status code: 404\n",
      "Failed to download PDF 2051644 from http://zonasegura.seace.gob.pe/documentos//srv/nfs4/contratos/7eb163a3-d5b7-4a34-a694-22f221df25a9. Status code: 404\n",
      "Failed to download PDF 2018387 from http://zonasegura.seace.gob.pe/documentos//srv/nfs4/contratos/7f4b3009-5fd6-48e7-b26b-a86e54bf48b5. Status code: 404\n",
      "Failed to download PDF 2024791 from http://zonasegura.seace.gob.pe/documentos//srv/nfs4/contratos/7f6c815a-da25-4e14-9836-af8f8498a62b. Status code: 404\n",
      "Failed to download PDF 2035541 from http://zonasegura.seace.gob.pe/documentos//srv/nfs4/contratos/82af490e-34d3-4b72-ad52-d945ea24c686. Status code: 404\n",
      "Failed to download PDF 2008715 from http://zonasegura.seace.gob.pe/documentos//srv/nfs4/contratos/82e21862-9667-4518-b10a-ca56f75ee45e. Status code: 404\n",
      "Failed to download PDF 2016192 from http://zonasegura.seace.gob.pe/documentos//srv/nfs4/contratos/82f39d2e-5fd6-49b4-a2dc-08925f49252f. Status code: 404\n",
      "Failed to download PDF 2031068 from http://zonasegura.seace.gob.pe/documentos//srv/nfs4/contratos/83aa3f0f-45ad-4aca-8c9c-52f0c14ad185. Status code: 404\n"
     ]
    },
    {
     "name": "stderr",
     "output_type": "stream",
     "text": [
      "  4%|███▍                                                                           | 321/7500 [00:05<02:20, 50.92it/s]"
     ]
    },
    {
     "name": "stdout",
     "output_type": "stream",
     "text": [
      "Failed to download PDF 2030499 from http://zonasegura.seace.gob.pe/documentos//srv/nfs4/contratos/84054651-3292-435d-a1ad-9a1f6330f256. Status code: 404\n",
      "Failed to download PDF 2016709 from http://zonasegura.seace.gob.pe/documentos//srv/nfs4/contratos/8453ee1f-08c1-49d0-aca7-e9d581687f51. Status code: 404\n",
      "Failed to download PDF 2014331 from http://zonasegura.seace.gob.pe/documentos//srv/nfs4/contratos/854444f4-d1c1-47e1-846f-0eb6f53d3126. Status code: 404\n",
      "Failed to download PDF 2008343 from http://zonasegura.seace.gob.pe/documentos//srv/nfs4/contratos/856edc52-8fad-48dc-9c99-1798368ee5e4. Status code: 404\n",
      "Failed to download PDF 2021475 from http://zonasegura.seace.gob.pe/documentos//srv/nfs4/contratos/85d360f5-5017-4e39-892b-782baced4964. Status code: 404\n",
      "Failed to download PDF 2011188 from http://zonasegura.seace.gob.pe/documentos//srv/nfs4/contratos/85e64a83-628c-49b1-9078-9d1216906693. Status code: 404\n",
      "Failed to download PDF 2015701 from http://zonasegura.seace.gob.pe/documentos//srv/nfs4/contratos/88a5d528-623e-4f57-ad8a-0c47ec8ac46d. Status code: 404\n",
      "Failed to download PDF 2007778 from http://zonasegura.seace.gob.pe/documentos//srv/nfs4/contratos/88ccc964-254c-4d80-a339-c9bb1ddfedd2. Status code: 404\n",
      "Failed to download PDF 2022749 from http://zonasegura.seace.gob.pe/documentos//srv/nfs4/contratos/89261089-fcb0-4d69-95f0-d7d654721212. Status code: 404\n",
      "Failed to download PDF 2015059 from http://zonasegura.seace.gob.pe/documentos//srv/nfs4/contratos/89734f4f-3380-4084-aad1-2094db5a73c5. Status code: 404\n",
      "Failed to download PDF 2012921 from http://zonasegura.seace.gob.pe/documentos//srv/nfs4/contratos/8a17e441-239f-41c6-8bcb-0d9764042f61. Status code: 404\n"
     ]
    },
    {
     "name": "stderr",
     "output_type": "stream",
     "text": [
      "  4%|███▌                                                                           | 333/7500 [00:05<02:17, 52.16it/s]"
     ]
    },
    {
     "name": "stdout",
     "output_type": "stream",
     "text": [
      "Failed to download PDF 2024542 from http://zonasegura.seace.gob.pe/documentos//srv/nfs4/contratos/8a56b4c3-c42e-43d3-b84f-e7a60f963d53. Status code: 404\n",
      "Failed to download PDF 2006604 from http://zonasegura.seace.gob.pe/documentos//srv/nfs4/contratos/8a645a78-10ca-40ff-889a-d2ed9a6e6fa3. Status code: 404\n",
      "Failed to download PDF 2012180 from http://zonasegura.seace.gob.pe/documentos//srv/nfs4/contratos/8aec04be-315c-4efc-b404-7ad6e0ce28b4. Status code: 404\n",
      "Failed to download PDF 2012314 from http://zonasegura.seace.gob.pe/documentos//srv/nfs4/contratos/8b179e46-6c35-42b8-affe-89f14eae8c05. Status code: 404\n",
      "Failed to download PDF 2020028 from http://zonasegura.seace.gob.pe/documentos//srv/nfs4/contratos/8b2a2bdf-b263-4b3a-8e21-6c76e945a540. Status code: 404\n",
      "Failed to download PDF 2003113 from http://zonasegura.seace.gob.pe/documentos//srv/nfs4/contratos/8b716e5f-23de-4b94-9094-b843e7e87525. Status code: 404\n",
      "Failed to download PDF 2029204 from http://zonasegura.seace.gob.pe/documentos//srv/nfs4/contratos/8bb825c2-e4cc-45b5-a1e4-a23f6c5803a7. Status code: 404\n",
      "Failed to download PDF 2015172 from http://zonasegura.seace.gob.pe/documentos//srv/nfs4/contratos/8c9737af-6079-4645-bc32-0c017b996908. Status code: 404\n",
      "Failed to download PDF 2011074 from http://zonasegura.seace.gob.pe/documentos//srv/nfs4/contratos/8d2fdb24-c6a1-4c85-9d7e-9ad3aa904012. Status code: 404\n",
      "Failed to download PDF 2037002 from http://zonasegura.seace.gob.pe/documentos//srv/nfs4/contratos/8d75b5a9-cd12-4b25-92c5-4d0b60d8dced. Status code: 404\n",
      "Failed to download PDF 2004540 from http://zonasegura.seace.gob.pe/documentos//srv/nfs4/contratos/8da51e4e-d3b7-43f4-a2c5-78fe68a83b5a. Status code: 404\n",
      "Failed to download PDF 2035313 from http://zonasegura.seace.gob.pe/documentos//srv/nfs4/contratos/8e4d5914-32b8-4785-a4e6-e568b1ec21a2. Status code: 404\n",
      "Failed to download PDF 2007327 from http://zonasegura.seace.gob.pe/documentos//srv/nfs4/contratos/8fcbc0ff-9480-4d7c-9303-667d76791142. Status code: 404\n"
     ]
    },
    {
     "name": "stderr",
     "output_type": "stream",
     "text": [
      "  5%|███▋                                                                           | 345/7500 [00:06<02:13, 53.79it/s]"
     ]
    },
    {
     "name": "stdout",
     "output_type": "stream",
     "text": [
      "Failed to download PDF 2043205 from http://zonasegura.seace.gob.pe/documentos//srv/nfs4/contratos/90f271fb-c4ad-4498-b309-2840f14af90b. Status code: 404\n",
      "Failed to download PDF 2005644 from http://zonasegura.seace.gob.pe/documentos//srv/nfs4/contratos/911f42fc-ba35-479d-8731-7546de403a43. Status code: 404\n",
      "Failed to download PDF 2013766 from http://zonasegura.seace.gob.pe/documentos//srv/nfs4/contratos/9143a566-efeb-4545-bdee-592367e03337. Status code: 404\n",
      "Failed to download PDF 2011080 from http://zonasegura.seace.gob.pe/documentos//srv/nfs4/contratos/9146b470-e87c-4b46-b5b3-c12badf02c15. Status code: 404\n",
      "Failed to download PDF 2028619 from http://zonasegura.seace.gob.pe/documentos//srv/nfs4/contratos/91a9bdd4-22bb-4e3f-afcd-3145b0e49c82. Status code: 404\n",
      "Failed to download PDF 2011228 from http://zonasegura.seace.gob.pe/documentos//srv/nfs4/contratos/924e1a85-ce30-4573-9772-4541d96a0fcc. Status code: 404\n",
      "Failed to download PDF 2016201 from http://zonasegura.seace.gob.pe/documentos//srv/nfs4/contratos/9261f550-ee17-47aa-8cb4-f7546321b8d8. Status code: 404\n",
      "Failed to download PDF 2014580 from http://zonasegura.seace.gob.pe/documentos//srv/nfs4/contratos/92942147-1609-4c8e-9c2c-a5692f88b771. Status code: 404\n",
      "Failed to download PDF 2016735 from http://zonasegura.seace.gob.pe/documentos//srv/nfs4/contratos/936d360f-4b41-42d8-94dc-3de1b0e91fb7. Status code: 404\n",
      "Failed to download PDF 2004135 from http://zonasegura.seace.gob.pe/documentos//srv/nfs4/contratos/94c19f6c-f5b3-4377-8d00-4ceefbf7bf36. Status code: 404\n",
      "Failed to download PDF 2034946 from http://zonasegura.seace.gob.pe/documentos//srv/nfs4/contratos/94d6d1a3-a2a8-43ca-a04b-c2091fa89079. Status code: 404\n",
      "Failed to download PDF 2018606 from http://zonasegura.seace.gob.pe/documentos//srv/nfs4/contratos/955ff4ee-6acc-4687-8a58-51546257e913. Status code: 404\n",
      "Failed to download PDF 2016699 from http://zonasegura.seace.gob.pe/documentos//srv/nfs4/contratos/95a21cc5-3e3b-4ee2-9c05-a36187e0b404. Status code: 404\n"
     ]
    },
    {
     "name": "stderr",
     "output_type": "stream",
     "text": [
      "  5%|███▊                                                                           | 358/7500 [00:06<02:04, 57.35it/s]"
     ]
    },
    {
     "name": "stdout",
     "output_type": "stream",
     "text": [
      "Failed to download PDF 2014115 from http://zonasegura.seace.gob.pe/documentos//srv/nfs4/contratos/95a74d33-e522-4652-b705-3ec08fa28483. Status code: 404\n",
      "Failed to download PDF 2012367 from http://zonasegura.seace.gob.pe/documentos//srv/nfs4/contratos/9667b28f-61d6-4172-b6ae-5a99d09dce08. Status code: 404\n",
      "Failed to download PDF 2004169 from http://zonasegura.seace.gob.pe/documentos//srv/nfs4/contratos/96e8bdeb-8023-49ef-baaa-1fb84997607a. Status code: 404\n",
      "Failed to download PDF 2008340 from http://zonasegura.seace.gob.pe/documentos//srv/nfs4/contratos/97465866-9ffe-41fd-8d1d-c29f2d4d8370. Status code: 404\n",
      "Failed to download PDF 2013785 from http://zonasegura.seace.gob.pe/documentos//srv/nfs4/contratos/985b1eaf-136b-4e33-ae97-bb1562d4b882. Status code: 404\n",
      "Failed to download PDF 2014753 from http://zonasegura.seace.gob.pe/documentos//srv/nfs4/contratos/98df0aec-3717-428f-8c47-7c1f8f9e81e0. Status code: 404\n",
      "Failed to download PDF 2047019 from http://zonasegura.seace.gob.pe/documentos//srv/nfs4/contratos/99cea941-18f7-4047-b3e6-9f63e9422a09. Status code: 404\n",
      "Failed to download PDF 2006552 from http://zonasegura.seace.gob.pe/documentos//srv/nfs4/contratos/99fbe783-b752-4ef6-9141-eacc0888f535. Status code: 404\n",
      "Failed to download PDF 2038339 from http://zonasegura.seace.gob.pe/documentos//srv/nfs4/contratos/9a277691-993a-4202-8196-b8131231a4ee. Status code: 404\n",
      "Failed to download PDF 2011238 from http://zonasegura.seace.gob.pe/documentos//srv/nfs4/contratos/9a93f45f-3662-45a3-bea1-a0d71b7762af. Status code: 404\n",
      "Failed to download PDF 2009569 from http://zonasegura.seace.gob.pe/documentos//srv/nfs4/contratos/9aa3b5b2-13b2-42f1-91d9-12acbb426d24. Status code: 404\n",
      "Failed to download PDF 2005264 from http://zonasegura.seace.gob.pe/documentos//srv/nfs4/contratos/9b4ba37a-ff8b-432a-89c0-b3ef6debc702. Status code: 404\n",
      "Failed to download PDF 2021948 from http://zonasegura.seace.gob.pe/documentos//srv/nfs4/contratos/9bad5c0c-678d-4b04-b065-95a31f87f33b. Status code: 404\n"
     ]
    },
    {
     "name": "stderr",
     "output_type": "stream",
     "text": [
      "  5%|███▉                                                                           | 372/7500 [00:06<01:59, 59.87it/s]"
     ]
    },
    {
     "name": "stdout",
     "output_type": "stream",
     "text": [
      "Failed to download PDF 2016263 from http://zonasegura.seace.gob.pe/documentos//srv/nfs4/contratos/9c79d983-9a39-4fc1-8761-58480c1eb139. Status code: 404\n",
      "Failed to download PDF 2028847 from http://zonasegura.seace.gob.pe/documentos//srv/nfs4/contratos/9c85fc7d-9372-4e44-bbbb-56df26ea0e7a. Status code: 404\n",
      "Failed to download PDF 2009653 from http://zonasegura.seace.gob.pe/documentos//srv/nfs4/contratos/9ccea327-6736-41f4-9df2-4cd971c36989. Status code: 404\n",
      "Failed to download PDF 2010080 from http://zonasegura.seace.gob.pe/documentos//srv/nfs4/contratos/9cf33419-8bb6-429c-8750-a956aa04dc0f. Status code: 404\n",
      "Failed to download PDF 2003458 from http://zonasegura.seace.gob.pe/documentos//srv/nfs4/contratos/9d398b34-822d-484a-ab27-a1cbe312c6d9. Status code: 404\n",
      "Failed to download PDF 2012143 from http://zonasegura.seace.gob.pe/documentos//srv/nfs4/contratos/9da31fa2-9d50-46ed-a1ed-dd91f1c445eb. Status code: 404\n",
      "Failed to download PDF 2025195 from http://zonasegura.seace.gob.pe/documentos//srv/nfs4/contratos/9e0e115e-7428-4261-af9c-07e5895fc493. Status code: 404\n",
      "Failed to download PDF 2005978 from http://zonasegura.seace.gob.pe/documentos//srv/nfs4/contratos/9e677f66-9088-4f24-b1d5-89cb4a39fee2. Status code: 404\n",
      "Failed to download PDF 2006365 from http://zonasegura.seace.gob.pe/documentos//srv/nfs4/contratos/9ebee63c-bce0-4204-891f-ff01d21badb4. Status code: 404\n",
      "Failed to download PDF 2006202 from http://zonasegura.seace.gob.pe/documentos//srv/nfs4/contratos/9f48e99e-724d-4e6c-bac8-40ef5fab4797. Status code: 404\n",
      "Failed to download PDF 2034883 from http://zonasegura.seace.gob.pe/documentos//srv/nfs4/contratos/9f5e928b-6f4a-4c03-a072-4fd1ee60b53a. Status code: 404\n",
      "Failed to download PDF 2066360 from http://zonasegura.seace.gob.pe/documentos//srv/nfs4/contratos/9fd8817a-c369-438c-810d-758d11eb0576. Status code: 404\n",
      "Failed to download PDF 2006829 from http://zonasegura.seace.gob.pe/documentos//srv/nfs4/contratos/a0c2f364-58d3-49d6-8b97-ff780b3587dd. Status code: 404\n"
     ]
    },
    {
     "name": "stderr",
     "output_type": "stream",
     "text": [
      "  5%|████                                                                           | 384/7500 [00:06<02:04, 57.14it/s]"
     ]
    },
    {
     "name": "stdout",
     "output_type": "stream",
     "text": [
      "Failed to download PDF 2007639 from http://zonasegura.seace.gob.pe/documentos//srv/nfs4/contratos/a271370e-4977-4982-ad8b-96613e6518f2. Status code: 404\n",
      "Failed to download PDF 2034950 from http://zonasegura.seace.gob.pe/documentos//srv/nfs4/contratos/a2f7d7dd-5aa4-4a6a-a28d-769a5affd95f. Status code: 404\n",
      "Failed to download PDF 2012431 from http://zonasegura.seace.gob.pe/documentos//srv/nfs4/contratos/a3ddaeab-0ce6-42b5-b5de-9bdb52fd9e07. Status code: 404\n",
      "Failed to download PDF 2004004 from http://zonasegura.seace.gob.pe/documentos//srv/nfs4/contratos/a4160560-67bd-4da4-8d09-8317d3d0e5c4. Status code: 404\n",
      "Failed to download PDF 2023246 from http://zonasegura.seace.gob.pe/documentos//srv/nfs4/contratos/a42697ad-da42-4da9-972f-d89679869167. Status code: 404\n",
      "Failed to download PDF 2039532 from http://zonasegura.seace.gob.pe/documentos//srv/nfs4/contratos/a4daf48e-46f5-4eac-97f3-854afd6ef39e. Status code: 404\n",
      "Failed to download PDF 2016301 from http://zonasegura.seace.gob.pe/documentos//srv/nfs4/contratos/a50158a4-7d9e-4849-9e81-984b73fbd5a5. Status code: 404\n",
      "Failed to download PDF 2006461 from http://zonasegura.seace.gob.pe/documentos//srv/nfs4/contratos/a514d527-d7cf-4a33-bb69-a5c15217947a. Status code: 404\n",
      "Failed to download PDF 2003714 from http://zonasegura.seace.gob.pe/documentos//srv/nfs4/contratos/a5e5ea4c-5283-4a17-8d0e-e538f339b1ae. Status code: 404\n",
      "Failed to download PDF 2018162 from http://zonasegura.seace.gob.pe/documentos//srv/nfs4/contratos/a61783e6-1c27-4510-8f62-732d15443ec5. Status code: 404\n",
      "Failed to download PDF 2016565 from http://zonasegura.seace.gob.pe/documentos//srv/nfs4/contratos/a7b16276-27ff-49e8-8b8a-3e225f22d8e0. Status code: 404\n",
      "Failed to download PDF 2012359 from http://zonasegura.seace.gob.pe/documentos//srv/nfs4/contratos/a811b889-021d-413c-b599-905bc037bd17. Status code: 404\n"
     ]
    },
    {
     "name": "stderr",
     "output_type": "stream",
     "text": [
      "  5%|████▏                                                                          | 396/7500 [00:06<02:07, 55.87it/s]"
     ]
    },
    {
     "name": "stdout",
     "output_type": "stream",
     "text": [
      "Failed to download PDF 2003403 from http://zonasegura.seace.gob.pe/documentos//srv/nfs4/contratos/a874bc97-e2a4-438c-aebf-6d0714298f23. Status code: 404\n",
      "Failed to download PDF 2011929 from http://zonasegura.seace.gob.pe/documentos//srv/nfs4/contratos/a8c24c54-4fb4-4bf7-890b-7d95895d52d5. Status code: 404\n",
      "Failed to download PDF 2011948 from http://zonasegura.seace.gob.pe/documentos//srv/nfs4/contratos/a8e07b22-b346-4e5c-82f4-42ff14b4cd62. Status code: 404\n",
      "Failed to download PDF 2007451 from http://zonasegura.seace.gob.pe/documentos//srv/nfs4/contratos/a91e5710-b222-489e-b08a-285a3f73dcfb. Status code: 404\n",
      "Failed to download PDF 2024726 from http://zonasegura.seace.gob.pe/documentos//srv/nfs4/contratos/a9fa9806-c217-4b67-b74b-f1bb130449ea. Status code: 404\n",
      "Failed to download PDF 2008569 from http://zonasegura.seace.gob.pe/documentos//srv/nfs4/contratos/a9fef9d4-f679-4f86-9c1d-5a824ca11906. Status code: 404\n",
      "Failed to download PDF 2009634 from http://zonasegura.seace.gob.pe/documentos//srv/nfs4/contratos/aa0ba911-a07a-4326-841d-e108c96aa688. Status code: 404\n",
      "Failed to download PDF 2028414 from http://zonasegura.seace.gob.pe/documentos//srv/nfs4/contratos/aa59fe6f-e597-4216-bb3e-e400809d1f40. Status code: 404\n",
      "Failed to download PDF 2008738 from http://zonasegura.seace.gob.pe/documentos//srv/nfs4/contratos/aa5a2dff-767f-40c6-a482-c1d2906e94fc. Status code: 404\n",
      "Failed to download PDF 2011726 from http://zonasegura.seace.gob.pe/documentos//srv/nfs4/contratos/aaad33da-11a7-4d3d-929d-e5cd47400323. Status code: 404\n",
      "Failed to download PDF 2006277 from http://zonasegura.seace.gob.pe/documentos//srv/nfs4/contratos/aba62753-fd34-4e5e-8589-813f4b5b1061. Status code: 404\n",
      "Failed to download PDF 2016353 from http://zonasegura.seace.gob.pe/documentos//srv/nfs4/contratos/ac176bc2-d870-49f0-9eda-c4675c554fe0. Status code: 404\n",
      "Failed to download PDF 2003520 from http://zonasegura.seace.gob.pe/documentos//srv/nfs4/contratos/ac531dd8-797d-47f8-85dc-e30f019ccad2. Status code: 404\n",
      "Failed to download PDF 2006149 from http://zonasegura.seace.gob.pe/documentos//srv/nfs4/contratos/acf79261-dae4-4984-9647-d3ee5b7750e7. Status code: 404\n"
     ]
    },
    {
     "name": "stderr",
     "output_type": "stream",
     "text": [
      "  5%|████▎                                                                          | 410/7500 [00:07<01:56, 61.04it/s]"
     ]
    },
    {
     "name": "stdout",
     "output_type": "stream",
     "text": [
      "Failed to download PDF 2006304 from http://zonasegura.seace.gob.pe/documentos//srv/nfs4/contratos/adc06826-f2d8-41a3-a36c-73c3b85ff69f. Status code: 404\n",
      "Failed to download PDF 2012171 from http://zonasegura.seace.gob.pe/documentos//srv/nfs4/contratos/ae3094dc-6a61-44a0-af5e-42c1e8f5c9f5. Status code: 404\n",
      "Failed to download PDF 2008729 from http://zonasegura.seace.gob.pe/documentos//srv/nfs4/contratos/aec81a9d-db58-4ca9-a2dc-6e1f64f8add7. Status code: 404\n",
      "Failed to download PDF 2014218 from http://zonasegura.seace.gob.pe/documentos//srv/nfs4/contratos/af5f96cb-267f-4dd7-8aeb-66e8f54f31d1. Status code: 404\n",
      "Failed to download PDF 2038676 from http://zonasegura.seace.gob.pe/documentos//srv/nfs4/contratos/af7b69eb-3526-4e42-81c1-3c2044c231bf. Status code: 404\n",
      "Failed to download PDF 2031887 from http://zonasegura.seace.gob.pe/documentos//srv/nfs4/contratos/b012d79f-d50e-4795-9337-d6b627fd3e87. Status code: 404\n",
      "Failed to download PDF 2040593 from http://zonasegura.seace.gob.pe/documentos//srv/nfs4/contratos/b19202e4-b2c8-4539-b725-ab111344eeb7. Status code: 404\n",
      "Failed to download PDF 2006865 from http://zonasegura.seace.gob.pe/documentos//srv/nfs4/contratos/b19d463c-f61d-4634-ad51-278279698aa3. Status code: 404\n",
      "Failed to download PDF 2009101 from http://zonasegura.seace.gob.pe/documentos//srv/nfs4/contratos/b2b0649d-d84f-4a48-b299-477192045199. Status code: 404\n",
      "Failed to download PDF 2010404 from http://zonasegura.seace.gob.pe/documentos//srv/nfs4/contratos/b2e50d5e-9395-4e58-a3c9-d6f0d69067cf. Status code: 404\n",
      "Failed to download PDF 2017244 from http://zonasegura.seace.gob.pe/documentos//srv/nfs4/contratos/b397d3f7-2f3e-4d31-9c93-38e5c716906a. Status code: 404\n",
      "Failed to download PDF 2016744 from http://zonasegura.seace.gob.pe/documentos//srv/nfs4/contratos/b3ab02c9-f250-4c16-be11-79795345b9cb. Status code: 404\n",
      "Failed to download PDF 2007046 from http://zonasegura.seace.gob.pe/documentos//srv/nfs4/contratos/b48d293a-6d03-466f-9945-a86c7f4da381. Status code: 404\n"
     ]
    },
    {
     "name": "stderr",
     "output_type": "stream",
     "text": [
      "  6%|████▍                                                                          | 424/7500 [00:07<01:57, 60.48it/s]"
     ]
    },
    {
     "name": "stdout",
     "output_type": "stream",
     "text": [
      "Failed to download PDF 2015120 from http://zonasegura.seace.gob.pe/documentos//srv/nfs4/contratos/b4a37749-dc63-494f-b9a0-e3c25b319358. Status code: 404\n",
      "Failed to download PDF 2014729 from http://zonasegura.seace.gob.pe/documentos//srv/nfs4/contratos/b553dec8-589f-4923-a916-a2231fbe080a. Status code: 404\n",
      "Failed to download PDF 2009117 from http://zonasegura.seace.gob.pe/documentos//srv/nfs4/contratos/b5e5ee86-159c-499f-88eb-b7804c70a338. Status code: 404\n",
      "Failed to download PDF 2006411 from http://zonasegura.seace.gob.pe/documentos//srv/nfs4/contratos/b66c39f9-9356-4396-b6a2-8b2306e3c847. Status code: 404\n",
      "Failed to download PDF 2037832 from http://zonasegura.seace.gob.pe/documentos//srv/nfs4/contratos/b6850c94-1387-42b0-8874-4ee8471aff2c. Status code: 404\n",
      "Failed to download PDF 2014798 from http://zonasegura.seace.gob.pe/documentos//srv/nfs4/contratos/b6e96e9c-d5c1-478b-aa67-1d0903379f48. Status code: 404\n",
      "Failed to download PDF 2007907 from http://zonasegura.seace.gob.pe/documentos//srv/nfs4/contratos/b6f13e63-3395-4edc-a9d4-8170be602609. Status code: 404\n",
      "Failed to download PDF 2043051 from http://zonasegura.seace.gob.pe/documentos//srv/nfs4/contratos/b81674ca-8743-4b3e-98f3-493809598165. Status code: 404\n",
      "Failed to download PDF 2003310 from http://zonasegura.seace.gob.pe/documentos//srv/nfs4/contratos/b8585492-fefb-4b6b-a909-00fcf2386aca. Status code: 404\n",
      "Failed to download PDF 2013969 from http://zonasegura.seace.gob.pe/documentos//srv/nfs4/contratos/b8b77508-273a-494d-876e-167a910fda45. Status code: 404\n",
      "Failed to download PDF 2009979 from http://zonasegura.seace.gob.pe/documentos//srv/nfs4/contratos/b9097b94-d0fe-472c-bb27-e80ee012a25b. Status code: 404\n",
      "Failed to download PDF 2006344 from http://zonasegura.seace.gob.pe/documentos//srv/nfs4/contratos/ba290b6a-f3ab-42bc-bd53-ec375b27d2dc. Status code: 404\n",
      "Failed to download PDF 2003224 from http://zonasegura.seace.gob.pe/documentos//srv/nfs4/contratos/ba6f45f4-50cc-4475-8a5e-46e15b1741f0. Status code: 404\n"
     ]
    },
    {
     "name": "stderr",
     "output_type": "stream",
     "text": [
      "  6%|████▌                                                                          | 438/7500 [00:07<01:56, 60.64it/s]"
     ]
    },
    {
     "name": "stdout",
     "output_type": "stream",
     "text": [
      "Failed to download PDF 2005987 from http://zonasegura.seace.gob.pe/documentos//srv/nfs4/contratos/badda260-c571-4e39-970a-4676b3dac271. Status code: 404\n",
      "Failed to download PDF 2047641 from http://zonasegura.seace.gob.pe/documentos//srv/nfs4/contratos/baf9da7e-c779-42a0-98d8-15fa5a2ea8e8. Status code: 404\n",
      "Failed to download PDF 2008953 from http://zonasegura.seace.gob.pe/documentos//srv/nfs4/contratos/bbafd277-6d9e-40b6-acce-96e5457b37c8. Status code: 404\n",
      "Failed to download PDF 2023837 from http://zonasegura.seace.gob.pe/documentos//srv/nfs4/contratos/bc88cf8f-fc59-4a67-b121-73695b763318. Status code: 404\n",
      "Failed to download PDF 2013155 from http://zonasegura.seace.gob.pe/documentos//srv/nfs4/contratos/bcce7b6f-1724-4dda-a576-68e9df6e3778. Status code: 404\n",
      "Failed to download PDF 2043075 from http://zonasegura.seace.gob.pe/documentos//srv/nfs4/contratos/bd0de192-b087-492f-a2cc-26d144d73b64. Status code: 404\n",
      "Failed to download PDF 2018365 from http://zonasegura.seace.gob.pe/documentos//srv/nfs4/contratos/bd2ea229-b68c-4720-bd8b-42f04a81664b. Status code: 404\n",
      "Failed to download PDF 2017012 from http://zonasegura.seace.gob.pe/documentos//srv/nfs4/contratos/bd4a1c24-de1b-450b-b3ca-c717c4460e72. Status code: 404\n",
      "Failed to download PDF 2036046 from http://zonasegura.seace.gob.pe/documentos//srv/nfs4/contratos/bd598d0b-04f2-4c01-a176-27dc950d3c93. Status code: 404\n",
      "Failed to download PDF 2023974 from http://zonasegura.seace.gob.pe/documentos//srv/nfs4/contratos/bd5c59d1-bec8-4145-b258-b1e964dbc73b. Status code: 404\n",
      "Failed to download PDF 2036064 from http://zonasegura.seace.gob.pe/documentos//srv/nfs4/contratos/bdc3e7f7-4dfa-474f-af90-863093c38054. Status code: 404\n",
      "Failed to download PDF 2076657 from http://zonasegura.seace.gob.pe/documentos//srv/nfs4/contratos/be081b19-db33-4133-9eb9-63ab9efa0376. Status code: 404\n",
      "Failed to download PDF 2013980 from http://zonasegura.seace.gob.pe/documentos//srv/nfs4/contratos/be5c69a1-c016-4b1e-a316-6efdda03ec61. Status code: 404\n",
      "Failed to download PDF 2016473 from http://zonasegura.seace.gob.pe/documentos//srv/nfs4/contratos/be8e701b-6eb6-49d2-9802-f7aa8e8aecb7. Status code: 404\n"
     ]
    },
    {
     "name": "stderr",
     "output_type": "stream",
     "text": [
      "  6%|████▊                                                                          | 452/7500 [00:07<01:55, 61.27it/s]"
     ]
    },
    {
     "name": "stdout",
     "output_type": "stream",
     "text": [
      "Failed to download PDF 2006338 from http://zonasegura.seace.gob.pe/documentos//srv/nfs4/contratos/bee6b879-b926-4d2d-9f49-5b175b2c901b. Status code: 404\n",
      "Failed to download PDF 2037044 from http://zonasegura.seace.gob.pe/documentos//srv/nfs4/contratos/bf5aefb1-1da0-4b5b-ab52-99195137ba64. Status code: 404\n",
      "Failed to download PDF 2016239 from http://zonasegura.seace.gob.pe/documentos//srv/nfs4/contratos/bfb154b7-23d3-4f83-b7e2-ca014ce591e2. Status code: 404\n",
      "Failed to download PDF 2036020 from http://zonasegura.seace.gob.pe/documentos//srv/nfs4/contratos/bfbe7320-5763-4fc0-a9d8-d6c10f0ed6ba. Status code: 404\n",
      "Failed to download PDF 2040873 from http://zonasegura.seace.gob.pe/documentos//srv/nfs4/contratos/c0e70e40-af5c-4b72-a69d-243e3e2f15fa. Status code: 404\n",
      "Failed to download PDF 2031914 from http://zonasegura.seace.gob.pe/documentos//srv/nfs4/contratos/c14577fb-d0b7-4e05-a9df-b2b12eab6a0d. Status code: 404\n",
      "Failed to download PDF 2024772 from http://zonasegura.seace.gob.pe/documentos//srv/nfs4/contratos/c1f1144f-ed48-44de-9941-f354a93bd298. Status code: 404\n",
      "Failed to download PDF 2005738 from http://zonasegura.seace.gob.pe/documentos//srv/nfs4/contratos/c25d7e60-5654-4881-8ae2-8c37b5d29213. Status code: 404\n",
      "Failed to download PDF 2007697 from http://zonasegura.seace.gob.pe/documentos//srv/nfs4/contratos/c285a701-d5ef-4d1e-a0da-ae11e7987d0d. Status code: 404\n",
      "Failed to download PDF 2020102 from http://zonasegura.seace.gob.pe/documentos//srv/nfs4/contratos/c28c6c1b-37f2-49db-8adb-6d98270cd480. Status code: 404\n",
      "Failed to download PDF 2002964 from http://zonasegura.seace.gob.pe/documentos//srv/nfs4/contratos/c2985a98-9b3f-4555-9965-de036fda384f. Status code: 404\n",
      "Failed to download PDF 2008313 from http://zonasegura.seace.gob.pe/documentos//srv/nfs4/contratos/c2f1e8eb-3336-4b08-bbde-8d4b4a396a08. Status code: 404\n",
      "Failed to download PDF 2003468 from http://zonasegura.seace.gob.pe/documentos//srv/nfs4/contratos/c2fb7869-5d4b-4eca-974c-13e3da4e29bd. Status code: 404\n",
      "Failed to download PDF 2013281 from http://zonasegura.seace.gob.pe/documentos//srv/nfs4/contratos/c3b290d1-dfa0-4091-a36a-f17724ae3fae. Status code: 404\n"
     ]
    },
    {
     "name": "stderr",
     "output_type": "stream",
     "text": [
      "  6%|████▉                                                                          | 466/7500 [00:08<01:56, 60.35it/s]"
     ]
    },
    {
     "name": "stdout",
     "output_type": "stream",
     "text": [
      "Failed to download PDF 2004069 from http://zonasegura.seace.gob.pe/documentos//srv/nfs4/contratos/c3d98951-11d9-43bd-9714-0ef8978668f4. Status code: 404\n",
      "Failed to download PDF 2016297 from http://zonasegura.seace.gob.pe/documentos//srv/nfs4/contratos/c3eb5373-7e39-4b45-9f6f-645a6076a56b. Status code: 404\n",
      "Failed to download PDF 2017735 from http://zonasegura.seace.gob.pe/documentos//srv/nfs4/contratos/c44580d0-935d-488b-87c6-1b6715bb1f89. Status code: 404\n",
      "Failed to download PDF 2005427 from http://zonasegura.seace.gob.pe/documentos//srv/nfs4/contratos/c460b126-2b55-4b16-9c85-b7bd549c3e75. Status code: 404\n",
      "Failed to download PDF 2007254 from http://zonasegura.seace.gob.pe/documentos//srv/nfs4/contratos/c506948b-9ceb-456b-8e26-5811d8034332. Status code: 404\n",
      "Failed to download PDF 2025728 from http://zonasegura.seace.gob.pe/documentos//srv/nfs4/contratos/c58f749d-338d-40e1-b16d-a0708c42ef40. Status code: 404\n",
      "Failed to download PDF 2019958 from http://zonasegura.seace.gob.pe/documentos//srv/nfs4/contratos/c5d46331-52f1-4672-8948-d5839e134722. Status code: 404\n",
      "Failed to download PDF 2007097 from http://zonasegura.seace.gob.pe/documentos//srv/nfs4/contratos/c63ac161-707e-4869-ad93-d524b6f2d31c. Status code: 404\n",
      "Failed to download PDF 2004484 from http://zonasegura.seace.gob.pe/documentos//srv/nfs4/contratos/c6500bd3-1f01-494e-9f35-dac320605c3d. Status code: 404\n",
      "Failed to download PDF 2005610 from http://zonasegura.seace.gob.pe/documentos//srv/nfs4/contratos/c6b497ce-7c96-4929-8406-8c516a80800b. Status code: 404\n",
      "Failed to download PDF 2035518 from http://zonasegura.seace.gob.pe/documentos//srv/nfs4/contratos/c6c758a0-ae4e-4f30-909d-699f030102dc. Status code: 404\n",
      "Failed to download PDF 2018602 from http://zonasegura.seace.gob.pe/documentos//srv/nfs4/contratos/c79277a2-91cf-48e5-a02d-fe9aaf2bd5bd. Status code: 404\n"
     ]
    },
    {
     "name": "stderr",
     "output_type": "stream",
     "text": [
      "  6%|█████                                                                          | 480/7500 [00:08<01:59, 58.96it/s]"
     ]
    },
    {
     "name": "stdout",
     "output_type": "stream",
     "text": [
      "Failed to download PDF 2012172 from http://zonasegura.seace.gob.pe/documentos//srv/nfs4/contratos/c7e148e0-7d48-4895-9d43-f15153a8367d. Status code: 404\n",
      "Failed to download PDF 2015105 from http://zonasegura.seace.gob.pe/documentos//srv/nfs4/contratos/c7fc3877-c664-45e6-8b0e-3b61c82317a8. Status code: 404\n",
      "Failed to download PDF 2017147 from http://zonasegura.seace.gob.pe/documentos//srv/nfs4/contratos/c8f9ac95-8c68-4bc6-9441-f6e6d4f947db. Status code: 404\n",
      "Failed to download PDF 2014963 from http://zonasegura.seace.gob.pe/documentos//srv/nfs4/contratos/c93d453e-6fea-45cc-adbc-38cf416d3b37. Status code: 404\n",
      "Failed to download PDF 2004854 from http://zonasegura.seace.gob.pe/documentos//srv/nfs4/contratos/c9683714-564a-4b55-b24a-ee65cbb8cd4e. Status code: 404\n",
      "Failed to download PDF 2011375 from http://zonasegura.seace.gob.pe/documentos//srv/nfs4/contratos/c99c312e-261a-460a-9b8d-77000efac1cf. Status code: 404\n",
      "Failed to download PDF 2016765 from http://zonasegura.seace.gob.pe/documentos//srv/nfs4/contratos/c9a009aa-09b2-4ae1-bbe9-9e96c2f9c169. Status code: 404\n",
      "Failed to download PDF 2016009 from http://zonasegura.seace.gob.pe/documentos//srv/nfs4/contratos/cac60b90-d669-4448-b46e-567dd26607fe. Status code: 404\n",
      "Failed to download PDF 2041263 from http://zonasegura.seace.gob.pe/documentos//srv/nfs4/contratos/cbc6d9bd-713d-4531-9891-44633880b2b6. Status code: 404\n",
      "Failed to download PDF 2051348 from http://zonasegura.seace.gob.pe/documentos//srv/nfs4/contratos/cbfc4e2f-dacb-4ac9-b577-7758e1ec9611. Status code: 404\n",
      "Failed to download PDF 2012348 from http://zonasegura.seace.gob.pe/documentos//srv/nfs4/contratos/cd189d0a-9664-4add-99e8-49e03e322e4f. Status code: 404\n",
      "Failed to download PDF 2008097 from http://zonasegura.seace.gob.pe/documentos//srv/nfs4/contratos/cd305a39-6181-4775-89af-607531b2e1dc. Status code: 404\n"
     ]
    },
    {
     "name": "stderr",
     "output_type": "stream",
     "text": [
      "\r\n",
      "  6%|█████                                                                          | 486/7500 [00:08<01:59, 58.82it/s]"
     ]
    },
    {
     "name": "stdout",
     "output_type": "stream",
     "text": [
      "Failed to download PDF 2015074 from http://zonasegura.seace.gob.pe/documentos//srv/nfs4/contratos/cd461a7f-9d20-4b57-945f-79ee3ff9a508. Status code: 404\n",
      "Failed to download PDF 2014741 from http://zonasegura.seace.gob.pe/documentos//srv/nfs4/contratos/cd8b257f-e382-4671-9b2a-90b5b0de4237. Status code: 404\n",
      "Failed to download PDF 2016428 from http://zonasegura.seace.gob.pe/documentos//srv/nfs4/contratos/cdc3a28c-6a5d-4501-8fbb-85730500511a. Status code: 404\n",
      "Failed to download PDF 2036092 from http://zonasegura.seace.gob.pe/documentos//srv/nfs4/contratos/ce499c4d-77de-4379-a996-8cb10e299af4. Status code: 404\n",
      "Failed to download PDF 2007346 from http://zonasegura.seace.gob.pe/documentos//srv/nfs4/contratos/ce6e8eb6-f347-44a9-8f4d-61c29101d63d. Status code: 404\n",
      "Failed to download PDF 2010822 from http://zonasegura.seace.gob.pe/documentos//srv/nfs4/contratos/ce8d2f53-9dc5-4346-b6ac-437cee7788e9. Status code: 404\n",
      "Failed to download PDF 2065888 from http://zonasegura.seace.gob.pe/documentos//srv/nfs4/contratos/cea42397-f24c-475f-8bb4-993187ff2c82. Status code: 404\n",
      "Failed to download PDF 2011903 from http://zonasegura.seace.gob.pe/documentos//srv/nfs4/contratos/cf7d9ed7-194f-401f-85a6-48df8c4c3b49. Status code: 404\n",
      "Failed to download PDF 2023343 from http://zonasegura.seace.gob.pe/documentos//srv/nfs4/contratos/cf83f570-98e8-4e17-8f04-6f24d1410db7. Status code: 404\n",
      "Failed to download PDF 2002980 from http://zonasegura.seace.gob.pe/documentos//srv/nfs4/contratos/cfb3bcfa-934e-4652-bb90-395876857caf. Status code: 404\n",
      "Failed to download PDF 2008325 from http://zonasegura.seace.gob.pe/documentos//srv/nfs4/contratos/cfbe369c-b3bc-49a2-8dbe-15df56da0b8c. Status code: 404\n",
      "Failed to download PDF 2075470 from http://zonasegura.seace.gob.pe/documentos//srv/nfs4/contratos/cfe99427-c969-4cce-a780-c038850b6f0c. Status code: 404\n"
     ]
    },
    {
     "name": "stderr",
     "output_type": "stream",
     "text": [
      "  7%|█████▎                                                                         | 500/7500 [00:08<01:55, 60.46it/s]"
     ]
    },
    {
     "name": "stdout",
     "output_type": "stream",
     "text": [
      "Failed to download PDF 2041812 from http://zonasegura.seace.gob.pe/documentos//srv/nfs4/contratos/d01e6c08-ac8d-4404-bd7b-7deb58b09eed. Status code: 404\n",
      "Failed to download PDF 2006506 from http://zonasegura.seace.gob.pe/documentos//srv/nfs4/contratos/d04483eb-981c-4e28-9d33-1127a284f7d0. Status code: 404\n",
      "Failed to download PDF 2016730 from http://zonasegura.seace.gob.pe/documentos//srv/nfs4/contratos/d07952ce-3805-4a2e-b1c1-8ab0115b044f. Status code: 404\n",
      "Failed to download PDF 2051477 from http://zonasegura.seace.gob.pe/documentos//srv/nfs4/contratos/d0c1cf12-421a-4631-8879-cb3d03a584f9. Status code: 404\n",
      "Failed to download PDF 2013933 from http://zonasegura.seace.gob.pe/documentos//srv/nfs4/contratos/d0e7af8a-e691-4db7-b117-fc3531f9232f. Status code: 404\n",
      "Failed to download PDF 2003396 from http://zonasegura.seace.gob.pe/documentos//srv/nfs4/contratos/d19107ad-cb37-4dc7-95d8-0237ae3822ca. Status code: 404\n",
      "Failed to download PDF 2006821 from http://zonasegura.seace.gob.pe/documentos//srv/nfs4/contratos/d34af293-afd2-4bdf-9211-1d5642d4d790. Status code: 404\n",
      "Failed to download PDF 2012589 from http://zonasegura.seace.gob.pe/documentos//srv/nfs4/contratos/d36dda81-021c-4ec2-b297-d1eabb0489da. Status code: 404\n",
      "Failed to download PDF 2015487 from http://zonasegura.seace.gob.pe/documentos//srv/nfs4/contratos/d3bfdf35-b124-43ae-8391-b5a16b040a57. Status code: 404\n",
      "Failed to download PDF 2028465 from http://zonasegura.seace.gob.pe/documentos//srv/nfs4/contratos/d42dfca6-1a39-45cf-b98a-51fcbec1e51b. Status code: 404\n",
      "Failed to download PDF 2049659 from http://zonasegura.seace.gob.pe/documentos//srv/nfs4/contratos/d44eaccd-20b3-4e3e-b397-89d6c9d0a1a5. Status code: 404\n",
      "Failed to download PDF 2004129 from http://zonasegura.seace.gob.pe/documentos//srv/nfs4/contratos/d491982a-7e34-4ad0-bdf2-5ca8ea16a027. Status code: 404\n",
      "Failed to download PDF 2010056 from http://zonasegura.seace.gob.pe/documentos//srv/nfs4/contratos/d4c7e4f1-a671-4612-b4d1-de6b0f58d108. Status code: 404\n"
     ]
    },
    {
     "name": "stderr",
     "output_type": "stream",
     "text": [
      "  7%|█████▍                                                                         | 513/7500 [00:08<02:01, 57.55it/s]"
     ]
    },
    {
     "name": "stdout",
     "output_type": "stream",
     "text": [
      "Failed to download PDF 2003235 from http://zonasegura.seace.gob.pe/documentos//srv/nfs4/contratos/d6b379a8-8e95-47a7-80ca-34c544b8881c. Status code: 404\n",
      "Failed to download PDF 2003521 from http://zonasegura.seace.gob.pe/documentos//srv/nfs4/contratos/d731de14-766d-4d47-8f93-c29276e0e23b. Status code: 404\n",
      "Failed to download PDF 2008375 from http://zonasegura.seace.gob.pe/documentos//srv/nfs4/contratos/d732a173-a52d-4934-9bfb-53b5d5a65c1c. Status code: 404\n",
      "Failed to download PDF 2014794 from http://zonasegura.seace.gob.pe/documentos//srv/nfs4/contratos/d738b5f0-bf66-4d28-9e63-74e03e382753. Status code: 404\n",
      "Failed to download PDF 2013611 from http://zonasegura.seace.gob.pe/documentos//srv/nfs4/contratos/d7ef29be-3f57-45ee-9566-a26ed48161e9. Status code: 404\n",
      "Failed to download PDF 2010073 from http://zonasegura.seace.gob.pe/documentos//srv/nfs4/contratos/d7f4801c-c1f1-4138-86be-d3a91d6b194d. Status code: 404\n",
      "Failed to download PDF 2005740 from http://zonasegura.seace.gob.pe/documentos//srv/nfs4/contratos/d880d3bb-5344-4949-bdd1-bba1c4038f22. Status code: 404\n",
      "Failed to download PDF 2022964 from http://zonasegura.seace.gob.pe/documentos//srv/nfs4/contratos/d90584fd-60d2-45ac-b83a-4da7d3bcbfec. Status code: 404\n",
      "Failed to download PDF 2009691 from http://zonasegura.seace.gob.pe/documentos//srv/nfs4/contratos/d916f563-f481-4a47-aedc-ab21d62304d8. Status code: 404\n",
      "Failed to download PDF 2016891 from http://zonasegura.seace.gob.pe/documentos//srv/nfs4/contratos/d992d9a0-aeee-46cb-86f0-8385a207b45b. Status code: 404\n",
      "Failed to download PDF 2038855 from http://zonasegura.seace.gob.pe/documentos//srv/nfs4/contratos/da49dd32-241a-4a03-8a09-4836313695ab. Status code: 404\n",
      "Failed to download PDF 2035807 from http://zonasegura.seace.gob.pe/documentos//srv/nfs4/contratos/db5edb06-1f77-4166-9743-e0423dab2c1d. Status code: 404\n",
      "Failed to download PDF 2012603 from http://zonasegura.seace.gob.pe/documentos//srv/nfs4/contratos/db603b62-3869-45fa-8f97-e0c04c085b16. Status code: 404\n"
     ]
    },
    {
     "name": "stderr",
     "output_type": "stream",
     "text": [
      "  7%|█████▌                                                                         | 525/7500 [00:09<02:03, 56.29it/s]"
     ]
    },
    {
     "name": "stdout",
     "output_type": "stream",
     "text": [
      "Failed to download PDF 2035507 from http://zonasegura.seace.gob.pe/documentos//srv/nfs4/contratos/db86bc7b-0cbc-4314-906b-4c32978d1c86. Status code: 404\n",
      "Failed to download PDF 2024502 from http://zonasegura.seace.gob.pe/documentos//srv/nfs4/contratos/dbdec785-74cc-40b0-93e8-df779c59f107. Status code: 404\n",
      "Failed to download PDF 2012154 from http://zonasegura.seace.gob.pe/documentos//srv/nfs4/contratos/dd308422-673c-474f-af90-adef84406441. Status code: 404\n",
      "Failed to download PDF 2008370 from http://zonasegura.seace.gob.pe/documentos//srv/nfs4/contratos/dd776a69-7d58-4413-8ec0-f92bdae9990d. Status code: 404\n",
      "Failed to download PDF 2060083 from http://zonasegura.seace.gob.pe/documentos//srv/nfs4/contratos/ddeaa16c-f2f4-483e-886b-98e4a88a21e3. Status code: 404\n",
      "Failed to download PDF 2022698 from http://zonasegura.seace.gob.pe/documentos//srv/nfs4/contratos/dee239d6-4dae-4651-93f5-1618a139a3f3. Status code: 404\n",
      "Failed to download PDF 2036296 from http://zonasegura.seace.gob.pe/documentos//srv/nfs4/contratos/df3195af-b33c-4036-b10a-e107ee920413. Status code: 404\n",
      "Failed to download PDF 2008471 from http://zonasegura.seace.gob.pe/documentos//srv/nfs4/contratos/df3f5ccf-a583-45a6-b67b-baf6d128606d. Status code: 404\n",
      "Failed to download PDF 2006790 from http://zonasegura.seace.gob.pe/documentos//srv/nfs4/contratos/dfcb626f-5e7a-445d-be9d-dbd53e3177f2. Status code: 404\n",
      "Failed to download PDF 2009125 from http://zonasegura.seace.gob.pe/documentos//srv/nfs4/contratos/e0862cda-6706-4622-b8d3-871833571b92. Status code: 404\n",
      "Failed to download PDF 2014339 from http://zonasegura.seace.gob.pe/documentos//srv/nfs4/contratos/e0cd950d-95ce-4641-be43-5a5a714ff738. Status code: 404\n",
      "Failed to download PDF 2007475 from http://zonasegura.seace.gob.pe/documentos//srv/nfs4/contratos/e152579c-38c8-412c-9f68-c21af2bcdd12. Status code: 404\n",
      "Failed to download PDF 2046625 from http://zonasegura.seace.gob.pe/documentos//srv/nfs4/contratos/e1743d6e-ac13-4d4c-9076-341700ca0188. Status code: 404\n"
     ]
    },
    {
     "name": "stderr",
     "output_type": "stream",
     "text": [
      "  7%|█████▋                                                                         | 537/7500 [00:09<02:02, 56.63it/s]"
     ]
    },
    {
     "name": "stdout",
     "output_type": "stream",
     "text": [
      "Failed to download PDF 2015866 from http://zonasegura.seace.gob.pe/documentos//srv/nfs4/contratos/e1b75b8b-e764-4d70-9847-d423e39162c8. Status code: 404\n",
      "Failed to download PDF 2010495 from http://zonasegura.seace.gob.pe/documentos//srv/nfs4/contratos/e1e04f12-4fac-4426-baf2-d244de497ff5. Status code: 404\n",
      "Failed to download PDF 2023729 from http://zonasegura.seace.gob.pe/documentos//srv/nfs4/contratos/e214242b-153d-48c5-95f9-27932582522c. Status code: 404\n",
      "Failed to download PDF 2003253 from http://zonasegura.seace.gob.pe/documentos//srv/nfs4/contratos/e22ce8d7-1525-4179-9c5f-9c6196883bc7. Status code: 404\n",
      "Failed to download PDF 2012900 from http://zonasegura.seace.gob.pe/documentos//srv/nfs4/contratos/e2e54ab9-d79d-4b5d-8b19-cff6336ef7d4. Status code: 404\n",
      "Failed to download PDF 2014149 from http://zonasegura.seace.gob.pe/documentos//srv/nfs4/contratos/e5d0c540-5740-4ea2-9a9f-3957e6157a86. Status code: 404\n",
      "Failed to download PDF 2003942 from http://zonasegura.seace.gob.pe/documentos//srv/nfs4/contratos/e5d2b3e9-ce7e-40ba-8189-10f4d695555a. Status code: 404\n",
      "Failed to download PDF 2006789 from http://zonasegura.seace.gob.pe/documentos//srv/nfs4/contratos/e6e83f88-9384-41ec-ac38-f2702ce52870. Status code: 404\n",
      "Failed to download PDF 2007192 from http://zonasegura.seace.gob.pe/documentos//srv/nfs4/contratos/e7105b60-1bce-41d6-b8e5-62515fc0ee24. Status code: 404\n",
      "Failed to download PDF 2019962 from http://zonasegura.seace.gob.pe/documentos//srv/nfs4/contratos/e723857e-90ce-4259-bd4a-e22b858ca261. Status code: 404\n",
      "Failed to download PDF 2035524 from http://zonasegura.seace.gob.pe/documentos//srv/nfs4/contratos/e7290b3c-9dcf-46ff-8162-43d354a5514d. Status code: 404\n"
     ]
    },
    {
     "name": "stderr",
     "output_type": "stream",
     "text": [
      "  7%|█████▊                                                                         | 549/7500 [00:09<02:03, 56.23it/s]"
     ]
    },
    {
     "name": "stdout",
     "output_type": "stream",
     "text": [
      "Failed to download PDF 2055793 from http://zonasegura.seace.gob.pe/documentos//srv/nfs4/contratos/e76ecc43-67c3-4b86-86ea-2d58e2f81f61. Status code: 404\n",
      "Failed to download PDF 2014582 from http://zonasegura.seace.gob.pe/documentos//srv/nfs4/contratos/e831a548-2ef3-468a-8860-1ace543ff10e. Status code: 404\n",
      "Failed to download PDF 2020693 from http://zonasegura.seace.gob.pe/documentos//srv/nfs4/contratos/e8b47855-e188-4ca6-b819-0b9a75dc165f. Status code: 404\n",
      "Failed to download PDF 2007265 from http://zonasegura.seace.gob.pe/documentos//srv/nfs4/contratos/e8f058c3-c65b-4878-ab9e-bde8b005f5ca. Status code: 404\n",
      "Failed to download PDF 2019676 from http://zonasegura.seace.gob.pe/documentos//srv/nfs4/contratos/e8f696b8-053f-4b56-aa2e-bcfc534d7dba. Status code: 404\n",
      "Failed to download PDF 2012542 from http://zonasegura.seace.gob.pe/documentos//srv/nfs4/contratos/e9522dc9-7242-43cb-8717-2d8b3a289ba8. Status code: 404\n",
      "Failed to download PDF 2038640 from http://zonasegura.seace.gob.pe/documentos//srv/nfs4/contratos/e9cc692d-026e-420f-83c0-a72623cf3c74. Status code: 404\n",
      "Failed to download PDF 2010076 from http://zonasegura.seace.gob.pe/documentos//srv/nfs4/contratos/e9eff72e-b719-48eb-ae20-9b0680396afb. Status code: 404\n",
      "Failed to download PDF 2005396 from http://zonasegura.seace.gob.pe/documentos//srv/nfs4/contratos/ea112f84-c538-4147-82e3-c91f3cec079d. Status code: 404\n",
      "Failed to download PDF 2023083 from http://zonasegura.seace.gob.pe/documentos//srv/nfs4/contratos/ea2a6b56-c817-4161-8d53-0a07057a3ebe. Status code: 404\n",
      "Failed to download PDF 2004101 from http://zonasegura.seace.gob.pe/documentos//srv/nfs4/contratos/ea4d58ff-1799-4614-9864-0b031dc9b489. Status code: 404\n",
      "Failed to download PDF 2003715 from http://zonasegura.seace.gob.pe/documentos//srv/nfs4/contratos/eaa54e90-f3fb-44b5-ad05-abee0f81e969. Status code: 404\n"
     ]
    },
    {
     "name": "stderr",
     "output_type": "stream",
     "text": [
      "  7%|█████▉                                                                         | 562/7500 [00:09<01:57, 58.98it/s]"
     ]
    },
    {
     "name": "stdout",
     "output_type": "stream",
     "text": [
      "Failed to download PDF 2010490 from http://zonasegura.seace.gob.pe/documentos//srv/nfs4/contratos/eae08505-dceb-4497-8701-42d9b4967ac3. Status code: 404\n",
      "Failed to download PDF 2015377 from http://zonasegura.seace.gob.pe/documentos//srv/nfs4/contratos/eb2298da-3668-48e1-8dfb-07a5b7f8ddfa. Status code: 404\n",
      "Failed to download PDF 2008563 from http://zonasegura.seace.gob.pe/documentos//srv/nfs4/contratos/eb2e0ca9-ab95-410c-8bfc-288e93cad408. Status code: 404\n",
      "Failed to download PDF 2016959 from http://zonasegura.seace.gob.pe/documentos//srv/nfs4/contratos/ebbd0b1f-d45e-419c-845b-8b4f1273cb40. Status code: 404\n",
      "Failed to download PDF 2015697 from http://zonasegura.seace.gob.pe/documentos//srv/nfs4/contratos/ec28c98d-3d31-4f79-b38a-9da29f979967. Status code: 404\n",
      "Failed to download PDF 2042848 from http://zonasegura.seace.gob.pe/documentos//srv/nfs4/contratos/ec459f4a-331f-4838-b169-08c9968375ee. Status code: 404\n",
      "Failed to download PDF 2014089 from http://zonasegura.seace.gob.pe/documentos//srv/nfs4/contratos/ec627dd5-716a-49de-a28d-4be920f4e426. Status code: 404\n",
      "Failed to download PDF 2006575 from http://zonasegura.seace.gob.pe/documentos//srv/nfs4/contratos/ecbca712-bfab-41d0-9e62-9f10f365ceb8. Status code: 404\n",
      "Failed to download PDF 2006653 from http://zonasegura.seace.gob.pe/documentos//srv/nfs4/contratos/ed12ec62-d8f9-460f-9ae1-9f5481650e02. Status code: 404\n",
      "Failed to download PDF 2016557 from http://zonasegura.seace.gob.pe/documentos//srv/nfs4/contratos/ed25c5fe-5ecf-411c-a0cd-5559353bfcc3. Status code: 404\n",
      "Failed to download PDF 2015745 from http://zonasegura.seace.gob.pe/documentos//srv/nfs4/contratos/ed7cc767-23e7-4e11-929e-c4305e96c905. Status code: 404\n",
      "Failed to download PDF 2051661 from http://zonasegura.seace.gob.pe/documentos//srv/nfs4/contratos/edf412fb-25f3-45d8-bfe1-0f0db1f1aebd. Status code: 404\n",
      "Failed to download PDF 2015726 from http://zonasegura.seace.gob.pe/documentos//srv/nfs4/contratos/eeb11fcf-675c-46a6-ae2d-fe6e924bd427. Status code: 404\n",
      "Failed to download PDF 2010196 from http://zonasegura.seace.gob.pe/documentos//srv/nfs4/contratos/ef6f6a07-e83d-4342-b071-bc9d1b769529. Status code: 404\n"
     ]
    },
    {
     "name": "stderr",
     "output_type": "stream",
     "text": [
      "  8%|██████                                                                         | 576/7500 [00:09<01:51, 61.93it/s]"
     ]
    },
    {
     "name": "stdout",
     "output_type": "stream",
     "text": [
      "Failed to download PDF 2025409 from http://zonasegura.seace.gob.pe/documentos//srv/nfs4/contratos/efab42cc-7b67-4040-b33f-14dfacd546b0. Status code: 404\n",
      "Failed to download PDF 2018669 from http://zonasegura.seace.gob.pe/documentos//srv/nfs4/contratos/f033917f-16a9-49d4-a808-ba73d2ccf678. Status code: 404\n",
      "Failed to download PDF 2029741 from http://zonasegura.seace.gob.pe/documentos//srv/nfs4/contratos/f054c80d-5f67-4d01-bee5-d76120dcc25b. Status code: 404\n",
      "Failed to download PDF 2069226 from http://zonasegura.seace.gob.pe/documentos//srv/nfs4/contratos/f09cda99-5b3d-4938-bad3-27fc0ad92e6d. Status code: 404\n",
      "Failed to download PDF 2016256 from http://zonasegura.seace.gob.pe/documentos//srv/nfs4/contratos/f168b27f-2391-478b-bb5d-d1c8b9cd3ca9. Status code: 404\n",
      "Failed to download PDF 2023068 from http://zonasegura.seace.gob.pe/documentos//srv/nfs4/contratos/f16b90a1-22b1-455a-b7ec-63ebfe2d83c1. Status code: 404\n",
      "Failed to download PDF 2009961 from http://zonasegura.seace.gob.pe/documentos//srv/nfs4/contratos/f1b7ee61-c960-4bfb-acba-db56ff0d0552. Status code: 404\n",
      "Failed to download PDF 2015139 from http://zonasegura.seace.gob.pe/documentos//srv/nfs4/contratos/f1dfd3df-9f82-40b8-96c6-887d791a2137. Status code: 404\n",
      "Failed to download PDF 2008901 from http://zonasegura.seace.gob.pe/documentos//srv/nfs4/contratos/f26895f9-ac08-4d6d-8372-d2dfb36aefe0. Status code: 404\n",
      "Failed to download PDF 2006167 from http://zonasegura.seace.gob.pe/documentos//srv/nfs4/contratos/f275ad5d-b6ce-42d0-bf88-d581e888b24b. Status code: 404\n",
      "Failed to download PDF 2010497 from http://zonasegura.seace.gob.pe/documentos//srv/nfs4/contratos/f3323f06-d53f-4632-addc-382ec2a85ec7. Status code: 404\n",
      "Failed to download PDF 2006188 from http://zonasegura.seace.gob.pe/documentos//srv/nfs4/contratos/f461d321-7506-4d15-a172-9a771dfdb0d9. Status code: 404\n",
      "Failed to download PDF 2042370 from http://zonasegura.seace.gob.pe/documentos//srv/nfs4/contratos/f4f563fd-8595-40c6-af27-b742ce3f4544. Status code: 404\n",
      "Failed to download PDF 2009628 from http://zonasegura.seace.gob.pe/documentos//srv/nfs4/contratos/f57a94b6-40c8-47de-ae1e-6ddf16c4702d. Status code: 404\n"
     ]
    },
    {
     "name": "stderr",
     "output_type": "stream",
     "text": [
      "  8%|██████▏                                                                        | 590/7500 [00:10<01:50, 62.39it/s]"
     ]
    },
    {
     "name": "stdout",
     "output_type": "stream",
     "text": [
      "Failed to download PDF 2009895 from http://zonasegura.seace.gob.pe/documentos//srv/nfs4/contratos/f613a4d7-8f24-4265-868b-a1dff272beae. Status code: 404\n",
      "Failed to download PDF 2015321 from http://zonasegura.seace.gob.pe/documentos//srv/nfs4/contratos/f6a69647-e67e-42f7-8c52-b523fefb54c4. Status code: 404\n",
      "Failed to download PDF 2015803 from http://zonasegura.seace.gob.pe/documentos//srv/nfs4/contratos/f7296917-01ad-4e93-8ef8-ac1ea199560d. Status code: 404\n",
      "Failed to download PDF 2018489 from http://zonasegura.seace.gob.pe/documentos//srv/nfs4/contratos/f77502af-5fba-4132-8aa5-61660509b937. Status code: 404\n",
      "Failed to download PDF 2012282 from http://zonasegura.seace.gob.pe/documentos//srv/nfs4/contratos/f7f77e74-095b-4578-a665-3bb95824bf47. Status code: 404\n",
      "Failed to download PDF 2017739 from http://zonasegura.seace.gob.pe/documentos//srv/nfs4/contratos/f82b1f75-1fe6-40c0-8056-9b8a5d2d5c17. Status code: 404\n",
      "Failed to download PDF 2008453 from http://zonasegura.seace.gob.pe/documentos//srv/nfs4/contratos/f8ae2568-296a-4cef-97fe-7bde83ef1551. Status code: 404\n",
      "Failed to download PDF 2008764 from http://zonasegura.seace.gob.pe/documentos//srv/nfs4/contratos/f916a967-222a-4d3e-ae94-19a69f5be459. Status code: 404\n",
      "Failed to download PDF 2020801 from http://zonasegura.seace.gob.pe/documentos//srv/nfs4/contratos/f97fb3eb-6cd0-427b-b148-e28aeb714ccf. Status code: 404\n",
      "Failed to download PDF 2038681 from http://zonasegura.seace.gob.pe/documentos//srv/nfs4/contratos/fa206494-8f50-4cad-92b9-d18b2db683ef. Status code: 404\n",
      "Failed to download PDF 2009925 from http://zonasegura.seace.gob.pe/documentos//srv/nfs4/contratos/fa316dca-52f7-4775-9c2b-1bfb5b1eaa69. Status code: 404\n",
      "Failed to download PDF 2006097 from http://zonasegura.seace.gob.pe/documentos//srv/nfs4/contratos/faf9c253-6f79-498f-876c-9f86fc1feeee. Status code: 404\n",
      "Failed to download PDF 2008131 from http://zonasegura.seace.gob.pe/documentos//srv/nfs4/contratos/fb077fa0-283f-4a68-8f9d-9f63891266de. Status code: 404\n",
      "Failed to download PDF 2002776 from http://zonasegura.seace.gob.pe/documentos//srv/nfs4/contratos/fb8a89f8-d28b-40ce-8cd9-1bf3f4840e36. Status code: 404\n"
     ]
    },
    {
     "name": "stderr",
     "output_type": "stream",
     "text": [
      "  8%|██████▎                                                                        | 604/7500 [00:10<01:52, 61.16it/s]"
     ]
    },
    {
     "name": "stdout",
     "output_type": "stream",
     "text": [
      "Failed to download PDF 2006497 from http://zonasegura.seace.gob.pe/documentos//srv/nfs4/contratos/fbcaec85-a467-4172-b8f5-30723d9ca626. Status code: 404\n",
      "Failed to download PDF 2020057 from http://zonasegura.seace.gob.pe/documentos//srv/nfs4/contratos/fbd21ec0-df5d-46bb-9cf3-f06c68529b2d. Status code: 404\n",
      "Failed to download PDF 2035811 from http://zonasegura.seace.gob.pe/documentos//srv/nfs4/contratos/fcb0fa3e-dd6a-4a8d-b715-59a3263f75d3. Status code: 404\n",
      "Failed to download PDF 2049171 from http://zonasegura.seace.gob.pe/documentos//srv/nfs4/contratos/fd14f4bc-4a95-48f1-8670-a796fd28144f. Status code: 404\n",
      "Failed to download PDF 2006033 from http://zonasegura.seace.gob.pe/documentos//srv/nfs4/contratos/fd189823-dfb6-446f-a5ab-46ebbb6e01e1. Status code: 404\n",
      "Failed to download PDF 2018176 from http://zonasegura.seace.gob.pe/documentos//srv/nfs4/contratos/fd215f12-32a9-4abb-a990-16d26ebf012f. Status code: 404\n",
      "Failed to download PDF 2047204 from http://zonasegura.seace.gob.pe/documentos//srv/nfs4/contratos/fd88da27-2a71-4e0d-8a41-2f742294610d. Status code: 404\n",
      "Failed to download PDF 2019926 from http://zonasegura.seace.gob.pe/documentos//srv/nfs4/contratos/fdcf2a2b-5d9a-4176-8e23-d8cd7519bcf4. Status code: 404\n",
      "Failed to download PDF 2019677 from http://zonasegura.seace.gob.pe/documentos//srv/nfs4/contratos/fef53487-a4bd-45dc-be0d-c79b755469fa. Status code: 404\n",
      "Failed to download PDF 2017367 from http://zonasegura.seace.gob.pe/documentos//srv/nfs4/contratos/feff7de3-0c95-4fcc-82a2-c301a2ea759d. Status code: 404\n",
      "Failed to download PDF 2016741 from http://zonasegura.seace.gob.pe/documentos//srv/nfs4/contratos/ff4551d7-2532-4125-bc53-9dc0a5e9c34d. Status code: 404\n",
      "Failed to download PDF 2008600 from http://zonasegura.seace.gob.pe/documentos//srv/nfs4/contratos/ff63439f-f5e8-462c-bca9-c1adc96d67c6. Status code: 404\n",
      "Failed to download PDF 2005555 from http://zonasegura.seace.gob.pe/documentos//srv/nfs4/contratos/ffbdcf44-c2ac-4fde-8091-540011179006. Status code: 404\n"
     ]
    },
    {
     "name": "stderr",
     "output_type": "stream",
     "text": [
      " 46%|██████████████████████████████████▎                                       | 3479/7500 [1:49:20<4:27:10,  3.99s/it]"
     ]
    },
    {
     "name": "stdout",
     "output_type": "stream",
     "text": [
      "Failed to download PDF 1281362 from http://zonasegura.seace.gob.pe/documentos/mon\\docs\\contratos\\2020\\10007\\363697220052020154518.pdf. Status code: 404\n"
     ]
    },
    {
     "name": "stderr",
     "output_type": "stream",
     "text": [
      " 49%|█████████████████████████████████████▌                                      | 3706/7500 [1:56:36<36:57,  1.71it/s]"
     ]
    },
    {
     "name": "stdout",
     "output_type": "stream",
     "text": [
      "Failed to download PDF 1291996 from http://zonasegura.seace.gob.pe/documentos/mon\\docs\\contratos\\2020\\10215\\363773214082020135731.pdf. Status code: 404\n"
     ]
    },
    {
     "name": "stderr",
     "output_type": "stream",
     "text": [
      " 51%|█████████████████████████████████████▉                                    | 3847/7500 [1:59:46<1:44:42,  1.72s/it]"
     ]
    },
    {
     "name": "stdout",
     "output_type": "stream",
     "text": [
      "Failed to download PDF 1300298 from http://zonasegura.seace.gob.pe/documentos/mon\\docs\\contratos\\2020\\10486\\363773209092020181459.pdf. Status code: 404\n"
     ]
    },
    {
     "name": "stderr",
     "output_type": "stream",
     "text": [
      " 56%|█████████████████████████████████████████▍                                | 4205/7500 [2:13:05<1:15:42,  1.38s/it]"
     ]
    },
    {
     "name": "stdout",
     "output_type": "stream",
     "text": [
      "Failed to download PDF 1291636 from http://zonasegura.seace.gob.pe/documentos/mon\\docs\\contratos\\2020\\22\\364466711082020163110.pdf. Status code: 404\n"
     ]
    },
    {
     "name": "stderr",
     "output_type": "stream",
     "text": [
      "100%|████████████████████████████████████████████████████████████████████████████| 7500/7500 [3:17:55<00:00,  1.58s/it]\n"
     ]
    }
   ],
   "source": [
    "# Override SSL settings\n",
    "# ssl_.DEFAULT_CIPHERS += ':HIGH:!DH:!aNULL'\n",
    "\n",
    "# Disable only DH cipher\n",
    "requests.packages.urllib3.util.ssl_.DEFAULT_CIPHERS = 'HIGH:!DH:!aNULL'\n",
    "\n",
    "failed_downloads_df = pd.DataFrame(columns=['n_cod_contrato', 'urlcontrato', 'failed_download'])\n",
    "\n",
    "# Download and save PDFs\n",
    "for index, row in tqdm(OSCE_main_sample.iterrows(), total=OSCE_main_sample.shape[0]):\n",
    "    url = row['urlcontrato']\n",
    "    contract_code = row['n_cod_contrato']\n",
    "    try:\n",
    "        with warnings.catch_warnings():\n",
    "            warnings.filterwarnings(\"ignore\", category=InsecureRequestWarning)\n",
    "            response = requests.get(url, verify=False)\n",
    "            if response.status_code == 200:\n",
    "                # Generate a name for the PDF based on the contract's code\n",
    "                filename = os.path.join(save_directory, f'pdf_{contract_code}.pdf')\n",
    "                with open(filename, 'wb') as f:\n",
    "                    f.write(response.content)\n",
    "            else:\n",
    "                failed_downloads_df = pd.concat([failed_downloads_df,pd.DataFrame({'n_cod_contrato': contract_code, 'urlcontrato': url, 'failed_download': 1}, index=[0])], ignore_index=True)\n",
    "                #failed_downloads_df = failed_downloads_df.append({'Contract Code': contract_code, 'URL': url}, ignore_index=True)\n",
    "                print(f'Failed to download PDF {contract_code} from {url}. Status code: {response.status_code}')\n",
    "    except requests.exceptions.SSLError as e:\n",
    "        print(f\"An SSL error occurred: {e} in contract {contract_code} with url: {url}\")"
   ]
  },
  {
   "cell_type": "code",
   "execution_count": 8,
   "id": "526a353c",
   "metadata": {},
   "outputs": [],
   "source": [
    "failed_downloads_df.drop('urlcontrato',\n",
    "  axis='columns', inplace=True)"
   ]
  },
  {
   "cell_type": "markdown",
   "id": "a2263ca0",
   "metadata": {},
   "source": [
    "# OCR Text Extraction"
   ]
  },
  {
   "cell_type": "markdown",
   "id": "ea08f8b0",
   "metadata": {},
   "source": [
    "**OCR extraction with Tesseract in Windows requires to have the program installed from this [link](https://github.com/UB-Mannheim/tesseract/wiki).<br> After installing, we need to specify the location of the exe file as below.**"
   ]
  },
  {
   "cell_type": "code",
   "execution_count": 9,
   "id": "f1b8524d",
   "metadata": {},
   "outputs": [],
   "source": [
    "pytesseract.pytesseract.tesseract_cmd = r'C:\\Program Files\\Tesseract-OCR\\tesseract.exe'"
   ]
  },
  {
   "cell_type": "markdown",
   "id": "1edb1b83",
   "metadata": {},
   "source": [
    "**We first define the directory where the pdfs are located.**"
   ]
  },
  {
   "cell_type": "code",
   "execution_count": 10,
   "id": "92781b50",
   "metadata": {},
   "outputs": [],
   "source": [
    "pdfs = documentation + r'\\Main_sample\\downloaded_pdfs'"
   ]
  },
  {
   "cell_type": "markdown",
   "id": "c3e97d2f",
   "metadata": {},
   "source": [
    "**We span through the files of the base pdf directory, and its subdirectories, storing the filepath of each document.**"
   ]
  },
  {
   "cell_type": "code",
   "execution_count": 11,
   "id": "08590908",
   "metadata": {},
   "outputs": [
    {
     "data": {
      "text/plain": [
       "['C:\\\\Users\\\\matia\\\\OneDrive - Universidad del Pacífico\\\\01-Medidas_emergencia_PE\\\\01-DATA_PERU\\\\04-DATA_DOCUMENTATION\\\\Main_sample\\\\downloaded_pdfs\\\\pdf_1280466.pdf',\n",
       " 'C:\\\\Users\\\\matia\\\\OneDrive - Universidad del Pacífico\\\\01-Medidas_emergencia_PE\\\\01-DATA_PERU\\\\04-DATA_DOCUMENTATION\\\\Main_sample\\\\downloaded_pdfs\\\\pdf_2151431.pdf',\n",
       " 'C:\\\\Users\\\\matia\\\\OneDrive - Universidad del Pacífico\\\\01-Medidas_emergencia_PE\\\\01-DATA_PERU\\\\04-DATA_DOCUMENTATION\\\\Main_sample\\\\downloaded_pdfs\\\\pdf_2116665.pdf',\n",
       " 'C:\\\\Users\\\\matia\\\\OneDrive - Universidad del Pacífico\\\\01-Medidas_emergencia_PE\\\\01-DATA_PERU\\\\04-DATA_DOCUMENTATION\\\\Main_sample\\\\downloaded_pdfs\\\\pdf_2133613.pdf',\n",
       " 'C:\\\\Users\\\\matia\\\\OneDrive - Universidad del Pacífico\\\\01-Medidas_emergencia_PE\\\\01-DATA_PERU\\\\04-DATA_DOCUMENTATION\\\\Main_sample\\\\downloaded_pdfs\\\\pdf_2112068.pdf']"
      ]
     },
     "execution_count": 11,
     "metadata": {},
     "output_type": "execute_result"
    }
   ],
   "source": [
    "filenames = []\n",
    "\n",
    "for base, dirs, files in os.walk(pdfs):\n",
    "    for filename in files:\n",
    "        if (filename.lower().endswith('.pdf')):\n",
    "            filenames.append(os.path.join(base, filename))\n",
    "\n",
    "random.choices(filenames, k=5)"
   ]
  },
  {
   "cell_type": "markdown",
   "id": "deb67fcb",
   "metadata": {},
   "source": [
    "**We open each path and extract the text using the fitz package (a simple pdf reader). <br>Then we identify if the pdf was a scanned document (an image without *\"highlight-able\"* text) by setting a length threshold. <br>Only if the read pdf's text has a length below the threshold, we proceed by re-extracting the text using the Tesseract OCR package. <br>Each text is stored in a dataframe containing its filename, text, extraction type and file id.**"
   ]
  },
  {
   "cell_type": "code",
   "execution_count": 12,
   "id": "d694a94b",
   "metadata": {
    "scrolled": true
   },
   "outputs": [
    {
     "name": "stderr",
     "output_type": "stream",
     "text": [
      "\r\n",
      "  0%|                                                                                         | 0/6887 [00:00<?, ?it/s]"
     ]
    },
    {
     "name": "stdout",
     "output_type": "stream",
     "text": [
      "A FileDataError occurred: cannot open broken document in C:\\Users\\matia\\OneDrive - Universidad del Pacífico\\01-Medidas_emergencia_PE\\01-DATA_PERU\\04-DATA_DOCUMENTATION\\Main_sample\\downloaded_pdfs\\pdf_1146041.pdf\n"
     ]
    },
    {
     "name": "stderr",
     "output_type": "stream",
     "text": [
      "  0%|                                                                              | 6/6887 [01:12<30:06:44, 15.75s/it]"
     ]
    },
    {
     "name": "stdout",
     "output_type": "stream",
     "text": [
      "A FileDataError occurred: cannot open broken document in C:\\Users\\matia\\OneDrive - Universidad del Pacífico\\01-Medidas_emergencia_PE\\01-DATA_PERU\\04-DATA_DOCUMENTATION\\Main_sample\\downloaded_pdfs\\pdf_1149185.pdf\n"
     ]
    },
    {
     "name": "stderr",
     "output_type": "stream",
     "text": [
      "  1%|▌                                                                            | 50/6887 [12:17<22:08:07, 11.66s/it]"
     ]
    },
    {
     "name": "stdout",
     "output_type": "stream",
     "text": [
      "A FileDataError occurred: cannot open broken document in C:\\Users\\matia\\OneDrive - Universidad del Pacífico\\01-Medidas_emergencia_PE\\01-DATA_PERU\\04-DATA_DOCUMENTATION\\Main_sample\\downloaded_pdfs\\pdf_1159482.pdf\n"
     ]
    },
    {
     "name": "stderr",
     "output_type": "stream",
     "text": [
      "  1%|█                                                                            | 91/6887 [27:49<40:06:38, 21.25s/it]"
     ]
    },
    {
     "name": "stdout",
     "output_type": "stream",
     "text": [
      "An unspecified error occurred: cannot open empty document in C:\\Users\\matia\\OneDrive - Universidad del Pacífico\\01-Medidas_emergencia_PE\\01-DATA_PERU\\04-DATA_DOCUMENTATION\\Main_sample\\downloaded_pdfs\\pdf_1163559.pdf\n"
     ]
    },
    {
     "name": "stderr",
     "output_type": "stream",
     "text": [
      "  1%|█                                                                            | 99/6887 [31:20<52:10:35, 27.67s/it]"
     ]
    },
    {
     "name": "stdout",
     "output_type": "stream",
     "text": [
      "A FileDataError occurred: cannot open broken document in C:\\Users\\matia\\OneDrive - Universidad del Pacífico\\01-Medidas_emergencia_PE\\01-DATA_PERU\\04-DATA_DOCUMENTATION\\Main_sample\\downloaded_pdfs\\pdf_1163987.pdf\n"
     ]
    },
    {
     "name": "stderr",
     "output_type": "stream",
     "text": [
      "  2%|█▎                                                                          | 122/6887 [36:55<28:28:44, 15.16s/it]"
     ]
    },
    {
     "name": "stdout",
     "output_type": "stream",
     "text": [
      "A FileDataError occurred: cannot open broken document in C:\\Users\\matia\\OneDrive - Universidad del Pacífico\\01-Medidas_emergencia_PE\\01-DATA_PERU\\04-DATA_DOCUMENTATION\\Main_sample\\downloaded_pdfs\\pdf_1166393.pdf\n",
      "A FileDataError occurred: cannot open broken document in C:\\Users\\matia\\OneDrive - Universidad del Pacífico\\01-Medidas_emergencia_PE\\01-DATA_PERU\\04-DATA_DOCUMENTATION\\Main_sample\\downloaded_pdfs\\pdf_1166398.pdf\n"
     ]
    },
    {
     "name": "stderr",
     "output_type": "stream",
     "text": [
      "  2%|█▋                                                                          | 155/6887 [50:18<59:38:26, 31.89s/it]"
     ]
    },
    {
     "name": "stdout",
     "output_type": "stream",
     "text": [
      "A FileDataError occurred: cannot open broken document in C:\\Users\\matia\\OneDrive - Universidad del Pacífico\\01-Medidas_emergencia_PE\\01-DATA_PERU\\04-DATA_DOCUMENTATION\\Main_sample\\downloaded_pdfs\\pdf_1168385.pdf\n"
     ]
    },
    {
     "name": "stderr",
     "output_type": "stream",
     "text": [
      "  3%|█▉                                                                          | 178/6887 [59:48<53:45:43, 28.85s/it]"
     ]
    },
    {
     "name": "stdout",
     "output_type": "stream",
     "text": [
      "A FileDataError occurred: cannot open broken document in C:\\Users\\matia\\OneDrive - Universidad del Pacífico\\01-Medidas_emergencia_PE\\01-DATA_PERU\\04-DATA_DOCUMENTATION\\Main_sample\\downloaded_pdfs\\pdf_1170592.pdf\n"
     ]
    },
    {
     "name": "stderr",
     "output_type": "stream",
     "text": [
      "  3%|█▉                                                                        | 186/6887 [1:02:50<59:01:45, 31.71s/it]"
     ]
    },
    {
     "name": "stdout",
     "output_type": "stream",
     "text": [
      "A FileDataError occurred: cannot open broken document in C:\\Users\\matia\\OneDrive - Universidad del Pacífico\\01-Medidas_emergencia_PE\\01-DATA_PERU\\04-DATA_DOCUMENTATION\\Main_sample\\downloaded_pdfs\\pdf_1171333.pdf\n"
     ]
    },
    {
     "name": "stderr",
     "output_type": "stream",
     "text": [
      "  3%|██▍                                                                       | 224/6887 [1:18:06<47:54:05, 25.88s/it]"
     ]
    },
    {
     "name": "stdout",
     "output_type": "stream",
     "text": [
      "A FileDataError occurred: cannot open broken document in C:\\Users\\matia\\OneDrive - Universidad del Pacífico\\01-Medidas_emergencia_PE\\01-DATA_PERU\\04-DATA_DOCUMENTATION\\Main_sample\\downloaded_pdfs\\pdf_1174730.pdf\n"
     ]
    },
    {
     "name": "stderr",
     "output_type": "stream",
     "text": [
      "  4%|██▊                                                                       | 264/6887 [1:38:16<61:20:07, 33.34s/it]"
     ]
    },
    {
     "name": "stdout",
     "output_type": "stream",
     "text": [
      "A FileDataError occurred: cannot open broken document in C:\\Users\\matia\\OneDrive - Universidad del Pacífico\\01-Medidas_emergencia_PE\\01-DATA_PERU\\04-DATA_DOCUMENTATION\\Main_sample\\downloaded_pdfs\\pdf_1177078.pdf\n"
     ]
    },
    {
     "name": "stderr",
     "output_type": "stream",
     "text": [
      "  5%|███▊                                                                      | 353/6887 [2:21:34<43:40:38, 24.06s/it]\n"
     ]
    },
    {
     "ename": "KeyboardInterrupt",
     "evalue": "",
     "output_type": "error",
     "traceback": [
      "\u001b[1;31m---------------------------------------------------------------------------\u001b[0m",
      "\u001b[1;31mKeyboardInterrupt\u001b[0m                         Traceback (most recent call last)",
      "Cell \u001b[1;32mIn[12], line 31\u001b[0m\n\u001b[0;32m     29\u001b[0m pdf_text \u001b[38;5;241m=\u001b[39m \u001b[38;5;124m'\u001b[39m\u001b[38;5;124m'\u001b[39m\n\u001b[0;32m     30\u001b[0m \u001b[38;5;28;01mfor\u001b[39;00m i, image \u001b[38;5;129;01min\u001b[39;00m \u001b[38;5;28menumerate\u001b[39m(images):\n\u001b[1;32m---> 31\u001b[0m     text \u001b[38;5;241m=\u001b[39m \u001b[43mpytesseract\u001b[49m\u001b[38;5;241;43m.\u001b[39;49m\u001b[43mimage_to_string\u001b[49m\u001b[43m(\u001b[49m\u001b[43mimage\u001b[49m\u001b[43m)\u001b[49m\n\u001b[0;32m     32\u001b[0m     pdf_text\u001b[38;5;241m+\u001b[39m\u001b[38;5;241m=\u001b[39mtext\u001b[38;5;241m+\u001b[39m\u001b[38;5;124m'\u001b[39m\u001b[38;5;124m \u001b[39m\u001b[38;5;124m'\u001b[39m\n\u001b[0;32m     34\u001b[0m pdf_texts_df\u001b[38;5;241m.\u001b[39mloc[filenames\u001b[38;5;241m.\u001b[39mindex(filename), \u001b[38;5;124m'\u001b[39m\u001b[38;5;124mextraction_type\u001b[39m\u001b[38;5;124m'\u001b[39m] \u001b[38;5;241m=\u001b[39m \u001b[38;5;124m'\u001b[39m\u001b[38;5;124mOCR\u001b[39m\u001b[38;5;124m'\u001b[39m\n",
      "File \u001b[1;32m~\\anaconda3\\lib\\site-packages\\pytesseract\\pytesseract.py:423\u001b[0m, in \u001b[0;36mimage_to_string\u001b[1;34m(image, lang, config, nice, output_type, timeout)\u001b[0m\n\u001b[0;32m    418\u001b[0m \u001b[38;5;124;03m\"\"\"\u001b[39;00m\n\u001b[0;32m    419\u001b[0m \u001b[38;5;124;03mReturns the result of a Tesseract OCR run on the provided image to string\u001b[39;00m\n\u001b[0;32m    420\u001b[0m \u001b[38;5;124;03m\"\"\"\u001b[39;00m\n\u001b[0;32m    421\u001b[0m args \u001b[38;5;241m=\u001b[39m [image, \u001b[38;5;124m'\u001b[39m\u001b[38;5;124mtxt\u001b[39m\u001b[38;5;124m'\u001b[39m, lang, config, nice, timeout]\n\u001b[1;32m--> 423\u001b[0m \u001b[38;5;28;01mreturn\u001b[39;00m \u001b[43m{\u001b[49m\n\u001b[0;32m    424\u001b[0m \u001b[43m    \u001b[49m\u001b[43mOutput\u001b[49m\u001b[38;5;241;43m.\u001b[39;49m\u001b[43mBYTES\u001b[49m\u001b[43m:\u001b[49m\u001b[43m \u001b[49m\u001b[38;5;28;43;01mlambda\u001b[39;49;00m\u001b[43m:\u001b[49m\u001b[43m \u001b[49m\u001b[43mrun_and_get_output\u001b[49m\u001b[43m(\u001b[49m\u001b[38;5;241;43m*\u001b[39;49m\u001b[43m(\u001b[49m\u001b[43margs\u001b[49m\u001b[43m \u001b[49m\u001b[38;5;241;43m+\u001b[39;49m\u001b[43m \u001b[49m\u001b[43m[\u001b[49m\u001b[38;5;28;43;01mTrue\u001b[39;49;00m\u001b[43m]\u001b[49m\u001b[43m)\u001b[49m\u001b[43m)\u001b[49m\u001b[43m,\u001b[49m\n\u001b[0;32m    425\u001b[0m \u001b[43m    \u001b[49m\u001b[43mOutput\u001b[49m\u001b[38;5;241;43m.\u001b[39;49m\u001b[43mDICT\u001b[49m\u001b[43m:\u001b[49m\u001b[43m \u001b[49m\u001b[38;5;28;43;01mlambda\u001b[39;49;00m\u001b[43m:\u001b[49m\u001b[43m \u001b[49m\u001b[43m{\u001b[49m\u001b[38;5;124;43m'\u001b[39;49m\u001b[38;5;124;43mtext\u001b[39;49m\u001b[38;5;124;43m'\u001b[39;49m\u001b[43m:\u001b[49m\u001b[43m \u001b[49m\u001b[43mrun_and_get_output\u001b[49m\u001b[43m(\u001b[49m\u001b[38;5;241;43m*\u001b[39;49m\u001b[43margs\u001b[49m\u001b[43m)\u001b[49m\u001b[43m}\u001b[49m\u001b[43m,\u001b[49m\n\u001b[0;32m    426\u001b[0m \u001b[43m    \u001b[49m\u001b[43mOutput\u001b[49m\u001b[38;5;241;43m.\u001b[39;49m\u001b[43mSTRING\u001b[49m\u001b[43m:\u001b[49m\u001b[43m \u001b[49m\u001b[38;5;28;43;01mlambda\u001b[39;49;00m\u001b[43m:\u001b[49m\u001b[43m \u001b[49m\u001b[43mrun_and_get_output\u001b[49m\u001b[43m(\u001b[49m\u001b[38;5;241;43m*\u001b[39;49m\u001b[43margs\u001b[49m\u001b[43m)\u001b[49m\u001b[43m,\u001b[49m\n\u001b[0;32m    427\u001b[0m \u001b[43m\u001b[49m\u001b[43m}\u001b[49m\u001b[43m[\u001b[49m\u001b[43moutput_type\u001b[49m\u001b[43m]\u001b[49m\u001b[43m(\u001b[49m\u001b[43m)\u001b[49m\n",
      "File \u001b[1;32m~\\anaconda3\\lib\\site-packages\\pytesseract\\pytesseract.py:426\u001b[0m, in \u001b[0;36mimage_to_string.<locals>.<lambda>\u001b[1;34m()\u001b[0m\n\u001b[0;32m    418\u001b[0m \u001b[38;5;124;03m\"\"\"\u001b[39;00m\n\u001b[0;32m    419\u001b[0m \u001b[38;5;124;03mReturns the result of a Tesseract OCR run on the provided image to string\u001b[39;00m\n\u001b[0;32m    420\u001b[0m \u001b[38;5;124;03m\"\"\"\u001b[39;00m\n\u001b[0;32m    421\u001b[0m args \u001b[38;5;241m=\u001b[39m [image, \u001b[38;5;124m'\u001b[39m\u001b[38;5;124mtxt\u001b[39m\u001b[38;5;124m'\u001b[39m, lang, config, nice, timeout]\n\u001b[0;32m    423\u001b[0m \u001b[38;5;28;01mreturn\u001b[39;00m {\n\u001b[0;32m    424\u001b[0m     Output\u001b[38;5;241m.\u001b[39mBYTES: \u001b[38;5;28;01mlambda\u001b[39;00m: run_and_get_output(\u001b[38;5;241m*\u001b[39m(args \u001b[38;5;241m+\u001b[39m [\u001b[38;5;28;01mTrue\u001b[39;00m])),\n\u001b[0;32m    425\u001b[0m     Output\u001b[38;5;241m.\u001b[39mDICT: \u001b[38;5;28;01mlambda\u001b[39;00m: {\u001b[38;5;124m'\u001b[39m\u001b[38;5;124mtext\u001b[39m\u001b[38;5;124m'\u001b[39m: run_and_get_output(\u001b[38;5;241m*\u001b[39margs)},\n\u001b[1;32m--> 426\u001b[0m     Output\u001b[38;5;241m.\u001b[39mSTRING: \u001b[38;5;28;01mlambda\u001b[39;00m: \u001b[43mrun_and_get_output\u001b[49m\u001b[43m(\u001b[49m\u001b[38;5;241;43m*\u001b[39;49m\u001b[43margs\u001b[49m\u001b[43m)\u001b[49m,\n\u001b[0;32m    427\u001b[0m }[output_type]()\n",
      "File \u001b[1;32m~\\anaconda3\\lib\\site-packages\\pytesseract\\pytesseract.py:288\u001b[0m, in \u001b[0;36mrun_and_get_output\u001b[1;34m(image, extension, lang, config, nice, timeout, return_bytes)\u001b[0m\n\u001b[0;32m    277\u001b[0m \u001b[38;5;28;01mwith\u001b[39;00m save(image) \u001b[38;5;28;01mas\u001b[39;00m (temp_name, input_filename):\n\u001b[0;32m    278\u001b[0m     kwargs \u001b[38;5;241m=\u001b[39m {\n\u001b[0;32m    279\u001b[0m         \u001b[38;5;124m'\u001b[39m\u001b[38;5;124minput_filename\u001b[39m\u001b[38;5;124m'\u001b[39m: input_filename,\n\u001b[0;32m    280\u001b[0m         \u001b[38;5;124m'\u001b[39m\u001b[38;5;124moutput_filename_base\u001b[39m\u001b[38;5;124m'\u001b[39m: temp_name,\n\u001b[1;32m   (...)\u001b[0m\n\u001b[0;32m    285\u001b[0m         \u001b[38;5;124m'\u001b[39m\u001b[38;5;124mtimeout\u001b[39m\u001b[38;5;124m'\u001b[39m: timeout,\n\u001b[0;32m    286\u001b[0m     }\n\u001b[1;32m--> 288\u001b[0m     run_tesseract(\u001b[38;5;241m*\u001b[39m\u001b[38;5;241m*\u001b[39mkwargs)\n\u001b[0;32m    289\u001b[0m     filename \u001b[38;5;241m=\u001b[39m \u001b[38;5;124mf\u001b[39m\u001b[38;5;124m\"\u001b[39m\u001b[38;5;132;01m{\u001b[39;00mkwargs[\u001b[38;5;124m'\u001b[39m\u001b[38;5;124moutput_filename_base\u001b[39m\u001b[38;5;124m'\u001b[39m]\u001b[38;5;132;01m}\u001b[39;00m\u001b[38;5;132;01m{\u001b[39;00mextsep\u001b[38;5;132;01m}\u001b[39;00m\u001b[38;5;132;01m{\u001b[39;00mextension\u001b[38;5;132;01m}\u001b[39;00m\u001b[38;5;124m\"\u001b[39m\n\u001b[0;32m    290\u001b[0m     \u001b[38;5;28;01mwith\u001b[39;00m \u001b[38;5;28mopen\u001b[39m(filename, \u001b[38;5;124m'\u001b[39m\u001b[38;5;124mrb\u001b[39m\u001b[38;5;124m'\u001b[39m) \u001b[38;5;28;01mas\u001b[39;00m output_file:\n",
      "File \u001b[1;32m~\\anaconda3\\lib\\site-packages\\pytesseract\\pytesseract.py:262\u001b[0m, in \u001b[0;36mrun_tesseract\u001b[1;34m(input_filename, output_filename_base, extension, lang, config, nice, timeout)\u001b[0m\n\u001b[0;32m    259\u001b[0m     \u001b[38;5;28;01melse\u001b[39;00m:\n\u001b[0;32m    260\u001b[0m         \u001b[38;5;28;01mraise\u001b[39;00m TesseractNotFoundError()\n\u001b[1;32m--> 262\u001b[0m \u001b[38;5;28;01mwith\u001b[39;00m timeout_manager(proc, timeout) \u001b[38;5;28;01mas\u001b[39;00m error_string:\n\u001b[0;32m    263\u001b[0m     \u001b[38;5;28;01mif\u001b[39;00m proc\u001b[38;5;241m.\u001b[39mreturncode:\n\u001b[0;32m    264\u001b[0m         \u001b[38;5;28;01mraise\u001b[39;00m TesseractError(proc\u001b[38;5;241m.\u001b[39mreturncode, get_errors(error_string))\n",
      "File \u001b[1;32m~\\anaconda3\\lib\\contextlib.py:135\u001b[0m, in \u001b[0;36m_GeneratorContextManager.__enter__\u001b[1;34m(self)\u001b[0m\n\u001b[0;32m    133\u001b[0m \u001b[38;5;28;01mdel\u001b[39;00m \u001b[38;5;28mself\u001b[39m\u001b[38;5;241m.\u001b[39margs, \u001b[38;5;28mself\u001b[39m\u001b[38;5;241m.\u001b[39mkwds, \u001b[38;5;28mself\u001b[39m\u001b[38;5;241m.\u001b[39mfunc\n\u001b[0;32m    134\u001b[0m \u001b[38;5;28;01mtry\u001b[39;00m:\n\u001b[1;32m--> 135\u001b[0m     \u001b[38;5;28;01mreturn\u001b[39;00m \u001b[38;5;28;43mnext\u001b[39;49m\u001b[43m(\u001b[49m\u001b[38;5;28;43mself\u001b[39;49m\u001b[38;5;241;43m.\u001b[39;49m\u001b[43mgen\u001b[49m\u001b[43m)\u001b[49m\n\u001b[0;32m    136\u001b[0m \u001b[38;5;28;01mexcept\u001b[39;00m \u001b[38;5;167;01mStopIteration\u001b[39;00m:\n\u001b[0;32m    137\u001b[0m     \u001b[38;5;28;01mraise\u001b[39;00m \u001b[38;5;167;01mRuntimeError\u001b[39;00m(\u001b[38;5;124m\"\u001b[39m\u001b[38;5;124mgenerator didn\u001b[39m\u001b[38;5;124m'\u001b[39m\u001b[38;5;124mt yield\u001b[39m\u001b[38;5;124m\"\u001b[39m) \u001b[38;5;28;01mfrom\u001b[39;00m \u001b[38;5;28mNone\u001b[39m\n",
      "File \u001b[1;32m~\\anaconda3\\lib\\site-packages\\pytesseract\\pytesseract.py:127\u001b[0m, in \u001b[0;36mtimeout_manager\u001b[1;34m(proc, seconds)\u001b[0m\n\u001b[0;32m    125\u001b[0m \u001b[38;5;28;01mtry\u001b[39;00m:\n\u001b[0;32m    126\u001b[0m     \u001b[38;5;28;01mif\u001b[39;00m \u001b[38;5;129;01mnot\u001b[39;00m seconds:\n\u001b[1;32m--> 127\u001b[0m         \u001b[38;5;28;01myield\u001b[39;00m \u001b[43mproc\u001b[49m\u001b[38;5;241;43m.\u001b[39;49m\u001b[43mcommunicate\u001b[49m\u001b[43m(\u001b[49m\u001b[43m)\u001b[49m[\u001b[38;5;241m1\u001b[39m]\n\u001b[0;32m    128\u001b[0m         \u001b[38;5;28;01mreturn\u001b[39;00m\n\u001b[0;32m    130\u001b[0m     \u001b[38;5;28;01mtry\u001b[39;00m:\n",
      "File \u001b[1;32m~\\anaconda3\\lib\\subprocess.py:1154\u001b[0m, in \u001b[0;36mPopen.communicate\u001b[1;34m(self, input, timeout)\u001b[0m\n\u001b[0;32m   1151\u001b[0m     endtime \u001b[38;5;241m=\u001b[39m \u001b[38;5;28;01mNone\u001b[39;00m\n\u001b[0;32m   1153\u001b[0m \u001b[38;5;28;01mtry\u001b[39;00m:\n\u001b[1;32m-> 1154\u001b[0m     stdout, stderr \u001b[38;5;241m=\u001b[39m \u001b[38;5;28;43mself\u001b[39;49m\u001b[38;5;241;43m.\u001b[39;49m\u001b[43m_communicate\u001b[49m\u001b[43m(\u001b[49m\u001b[38;5;28;43minput\u001b[39;49m\u001b[43m,\u001b[49m\u001b[43m \u001b[49m\u001b[43mendtime\u001b[49m\u001b[43m,\u001b[49m\u001b[43m \u001b[49m\u001b[43mtimeout\u001b[49m\u001b[43m)\u001b[49m\n\u001b[0;32m   1155\u001b[0m \u001b[38;5;28;01mexcept\u001b[39;00m \u001b[38;5;167;01mKeyboardInterrupt\u001b[39;00m:\n\u001b[0;32m   1156\u001b[0m     \u001b[38;5;66;03m# https://bugs.python.org/issue25942\u001b[39;00m\n\u001b[0;32m   1157\u001b[0m     \u001b[38;5;66;03m# See the detailed comment in .wait().\u001b[39;00m\n\u001b[0;32m   1158\u001b[0m     \u001b[38;5;28;01mif\u001b[39;00m timeout \u001b[38;5;129;01mis\u001b[39;00m \u001b[38;5;129;01mnot\u001b[39;00m \u001b[38;5;28;01mNone\u001b[39;00m:\n",
      "File \u001b[1;32m~\\anaconda3\\lib\\subprocess.py:1528\u001b[0m, in \u001b[0;36mPopen._communicate\u001b[1;34m(self, input, endtime, orig_timeout)\u001b[0m\n\u001b[0;32m   1524\u001b[0m \u001b[38;5;66;03m# Wait for the reader threads, or time out.  If we time out, the\u001b[39;00m\n\u001b[0;32m   1525\u001b[0m \u001b[38;5;66;03m# threads remain reading and the fds left open in case the user\u001b[39;00m\n\u001b[0;32m   1526\u001b[0m \u001b[38;5;66;03m# calls communicate again.\u001b[39;00m\n\u001b[0;32m   1527\u001b[0m \u001b[38;5;28;01mif\u001b[39;00m \u001b[38;5;28mself\u001b[39m\u001b[38;5;241m.\u001b[39mstdout \u001b[38;5;129;01mis\u001b[39;00m \u001b[38;5;129;01mnot\u001b[39;00m \u001b[38;5;28;01mNone\u001b[39;00m:\n\u001b[1;32m-> 1528\u001b[0m     \u001b[38;5;28;43mself\u001b[39;49m\u001b[38;5;241;43m.\u001b[39;49m\u001b[43mstdout_thread\u001b[49m\u001b[38;5;241;43m.\u001b[39;49m\u001b[43mjoin\u001b[49m\u001b[43m(\u001b[49m\u001b[38;5;28;43mself\u001b[39;49m\u001b[38;5;241;43m.\u001b[39;49m\u001b[43m_remaining_time\u001b[49m\u001b[43m(\u001b[49m\u001b[43mendtime\u001b[49m\u001b[43m)\u001b[49m\u001b[43m)\u001b[49m\n\u001b[0;32m   1529\u001b[0m     \u001b[38;5;28;01mif\u001b[39;00m \u001b[38;5;28mself\u001b[39m\u001b[38;5;241m.\u001b[39mstdout_thread\u001b[38;5;241m.\u001b[39mis_alive():\n\u001b[0;32m   1530\u001b[0m         \u001b[38;5;28;01mraise\u001b[39;00m TimeoutExpired(\u001b[38;5;28mself\u001b[39m\u001b[38;5;241m.\u001b[39margs, orig_timeout)\n",
      "File \u001b[1;32m~\\anaconda3\\lib\\threading.py:1096\u001b[0m, in \u001b[0;36mThread.join\u001b[1;34m(self, timeout)\u001b[0m\n\u001b[0;32m   1093\u001b[0m     \u001b[38;5;28;01mraise\u001b[39;00m \u001b[38;5;167;01mRuntimeError\u001b[39;00m(\u001b[38;5;124m\"\u001b[39m\u001b[38;5;124mcannot join current thread\u001b[39m\u001b[38;5;124m\"\u001b[39m)\n\u001b[0;32m   1095\u001b[0m \u001b[38;5;28;01mif\u001b[39;00m timeout \u001b[38;5;129;01mis\u001b[39;00m \u001b[38;5;28;01mNone\u001b[39;00m:\n\u001b[1;32m-> 1096\u001b[0m     \u001b[38;5;28;43mself\u001b[39;49m\u001b[38;5;241;43m.\u001b[39;49m\u001b[43m_wait_for_tstate_lock\u001b[49m\u001b[43m(\u001b[49m\u001b[43m)\u001b[49m\n\u001b[0;32m   1097\u001b[0m \u001b[38;5;28;01melse\u001b[39;00m:\n\u001b[0;32m   1098\u001b[0m     \u001b[38;5;66;03m# the behavior of a negative timeout isn't documented, but\u001b[39;00m\n\u001b[0;32m   1099\u001b[0m     \u001b[38;5;66;03m# historically .join(timeout=x) for x<0 has acted as if timeout=0\u001b[39;00m\n\u001b[0;32m   1100\u001b[0m     \u001b[38;5;28mself\u001b[39m\u001b[38;5;241m.\u001b[39m_wait_for_tstate_lock(timeout\u001b[38;5;241m=\u001b[39m\u001b[38;5;28mmax\u001b[39m(timeout, \u001b[38;5;241m0\u001b[39m))\n",
      "File \u001b[1;32m~\\anaconda3\\lib\\threading.py:1116\u001b[0m, in \u001b[0;36mThread._wait_for_tstate_lock\u001b[1;34m(self, block, timeout)\u001b[0m\n\u001b[0;32m   1113\u001b[0m     \u001b[38;5;28;01mreturn\u001b[39;00m\n\u001b[0;32m   1115\u001b[0m \u001b[38;5;28;01mtry\u001b[39;00m:\n\u001b[1;32m-> 1116\u001b[0m     \u001b[38;5;28;01mif\u001b[39;00m \u001b[43mlock\u001b[49m\u001b[38;5;241;43m.\u001b[39;49m\u001b[43macquire\u001b[49m\u001b[43m(\u001b[49m\u001b[43mblock\u001b[49m\u001b[43m,\u001b[49m\u001b[43m \u001b[49m\u001b[43mtimeout\u001b[49m\u001b[43m)\u001b[49m:\n\u001b[0;32m   1117\u001b[0m         lock\u001b[38;5;241m.\u001b[39mrelease()\n\u001b[0;32m   1118\u001b[0m         \u001b[38;5;28mself\u001b[39m\u001b[38;5;241m.\u001b[39m_stop()\n",
      "\u001b[1;31mKeyboardInterrupt\u001b[0m: "
     ]
    }
   ],
   "source": [
    "# Create a dataframe to store the texts of each PDF\n",
    "pdf_texts_df = pd.DataFrame(columns = ['filename', 'text', 'extraction_type'])\n",
    "broken_pdfs_df = pd.DataFrame(columns=['n_cod_contrato', 'broken_pdf'])\n",
    "\n",
    "# Loop through every file in the directory\n",
    "for filename in tqdm(filenames):\n",
    "    if filename.lower().endswith('.pdf'):\n",
    "        try:\n",
    "        \n",
    "            # Read the text directly from the PDF file\n",
    "            reader = fitz.open(filename)\n",
    "            pdf_text = ''\n",
    "\n",
    "            for page in reader:\n",
    "                pdf_text+=page.get_text()+' '\n",
    "            \n",
    "            pdf_texts_df.loc[filenames.index(filename), 'extraction_type'] = 'PDF_Reader'\n",
    "            \n",
    "            if len(re.sub(r'[^a-zA-Z]', '', pdf_text))<1000:\n",
    "            \n",
    "                # Open the PDF file\n",
    "                with open(filename, 'rb') as file:\n",
    "                    pdf_bytes = file.read()\n",
    "\n",
    "                # Convert the PDF to images\n",
    "                images = convert_from_bytes(pdf_bytes)\n",
    "\n",
    "                # Use OCR to extract text from each image/page\n",
    "                pdf_text = ''\n",
    "                for i, image in enumerate(images):\n",
    "                    text = pytesseract.image_to_string(image)\n",
    "                    pdf_text+=text+' '\n",
    "            \n",
    "                pdf_texts_df.loc[filenames.index(filename), 'extraction_type'] = 'OCR'\n",
    "\n",
    "            # Clean the extracted text\n",
    "\n",
    "            clean_text = re.sub('\\$+', ' ', pdf_text)  # Replace multiple \\$ with a space\n",
    "            clean_text = re.sub('\\n+', ' ', clean_text)  # Replace multiple newlines with one space\n",
    "            clean_text = re.sub('\\.+', '.', clean_text)  # Replace multiple . with one space\n",
    "            clean_text = re.sub('\\,+', ',', clean_text)  # Replace multiple newlines with one space\n",
    "            clean_text = clean_text.replace(';', ' ')  # Replace semicolons with spaces\n",
    "            clean_text = re.sub(' +', ' ', clean_text)  # Replace multiple spaces with one\n",
    "            clean_text = re.sub(r'[^a-zA-ZÀ-ÿ0-9 \\,\\.\\/\\:]', '', clean_text)\n",
    "        \n",
    "            # Store the joined text in the dataframe, using the filename (without .pdf) as the key\n",
    "            pdf_texts_df.loc[filenames.index(filename), 'filename'] = filename[:-4]\n",
    "            pdf_texts_df.loc[filenames.index(filename), 'text'] = clean_text\n",
    "            \n",
    "        except Exception as e:\n",
    "            error_message = str(e)\n",
    "            if 'cannot open broken document' in error_message:  # Replace 'FileDataError' with the actual error message you expect\n",
    "                print(f\"A FileDataError occurred: {e} in {filename}\")\n",
    "                broken_pdfs_df = pd.concat([broken_pdfs_df, pd.DataFrame({'n_cod_contrato': [filename.replace(pdfs+'\\\\pdf_', '').replace('.pdf','')], 'broken_pdf': 1}, index=[0])], ignore_index=True)\n",
    "                #broken_pdfs_df = pd.concat([broken_pdfs_df, pd.DataFrame({'Contract Code': filename.str.replace(pdfs+'\\\\pdf_', '', regex=False)}, index=[0])], ignore_index=True)\n",
    "            else:\n",
    "                print(f\"An unspecified error occurred: {e} in {filename}\")\n",
    "                broken_pdfs_df = pd.concat([broken_pdfs_df, pd.DataFrame({'n_cod_contrato': [filename.replace(pdfs+'\\\\pdf_', '').replace('.pdf','')], 'broken_pdf': 1}, index=[0])], ignore_index=True)"
   ]
  },
  {
   "cell_type": "code",
   "execution_count": null,
   "id": "1794c421",
   "metadata": {},
   "outputs": [],
   "source": [
    "pdf_texts_df['n_cod_contrato'] = pdf_texts_df['filename'].str.replace(pdfs+'\\\\pdf_', '', regex=False)\n",
    "pdf_texts_df.drop('filename', axis='columns', inplace=True)"
   ]
  },
  {
   "cell_type": "code",
   "execution_count": null,
   "id": "7b39c6af",
   "metadata": {},
   "outputs": [],
   "source": [
    "main_analysis_dfs = data_pro + r'\\main_analysis_dfs'\n",
    "\n",
    "# Create the directory if it doesn't exist\n",
    "if not os.path.exists(main_analysis_dfs):\n",
    "    os.makedirs(main_analysis_dfs)"
   ]
  },
  {
   "cell_type": "code",
   "execution_count": null,
   "id": "e2abc6b6",
   "metadata": {},
   "outputs": [],
   "source": [
    "display(failed_downloads_df)\n",
    "display(broken_pdfs_df)\n",
    "display(pdf_texts_df)"
   ]
  },
  {
   "cell_type": "code",
   "execution_count": null,
   "id": "e35974ed",
   "metadata": {},
   "outputs": [],
   "source": [
    "pdf_texts_df.to_excel(main_analysis_dfs + r'\\pdf_texts.xlsx', index = False)\n",
    "failed_downloads_df.to_excel(main_analysis_dfs + r'\\failed_downloads.xlsx', index = False)\n",
    "broken_pdfs_df.to_excel(main_analysis_dfs + r'\\broken_pdfs.xlsx', index = False)"
   ]
  },
  {
   "cell_type": "markdown",
   "id": "1d925a7c",
   "metadata": {},
   "source": [
    "# Preparing Data for Unit Price Extraction"
   ]
  },
  {
   "cell_type": "code",
   "execution_count": 17,
   "id": "f227bec1",
   "metadata": {},
   "outputs": [],
   "source": [
    "extraction_df = pd.read_excel(data_pro + r'\\main_analysis_dfs\\pdf_texts.xlsx')"
   ]
  },
  {
   "cell_type": "code",
   "execution_count": 24,
   "id": "a67581c4",
   "metadata": {},
   "outputs": [
    {
     "data": {
      "text/html": [
       "<div>\n",
       "<style scoped>\n",
       "    .dataframe tbody tr th:only-of-type {\n",
       "        vertical-align: middle;\n",
       "    }\n",
       "\n",
       "    .dataframe tbody tr th {\n",
       "        vertical-align: top;\n",
       "    }\n",
       "\n",
       "    .dataframe thead th {\n",
       "        text-align: right;\n",
       "    }\n",
       "</style>\n",
       "<table border=\"1\" class=\"dataframe\">\n",
       "  <thead>\n",
       "    <tr style=\"text-align: right;\">\n",
       "      <th></th>\n",
       "      <th>text</th>\n",
       "      <th>extraction_type</th>\n",
       "      <th>n_cod_contrato</th>\n",
       "    </tr>\n",
       "  </thead>\n",
       "  <tbody>\n",
       "    <tr>\n",
       "      <th>0</th>\n",
       "      <td>ee rey ela par ee res  contrato n0012018hh se...</td>\n",
       "      <td>OCR</td>\n",
       "      <td>1147865.0</td>\n",
       "    </tr>\n",
       "    <tr>\n",
       "      <th>1</th>\n",
       "      <td>4 see . hospital peru  ministerio. de salud ca...</td>\n",
       "      <td>OCR</td>\n",
       "      <td>1148734.0</td>\n",
       "    </tr>\n",
       "    <tr>\n",
       "      <th>2</th>\n",
       "      <td>es  ieee a x : eae . be ap pe peru  ministerio...</td>\n",
       "      <td>OCR</td>\n",
       "      <td>1149147.0</td>\n",
       "    </tr>\n",
       "    <tr>\n",
       "      <th>3</th>\n",
       "      <td>fox  hospital .  7m peru  ministerio de salud...</td>\n",
       "      <td>OCR</td>\n",
       "      <td>1149733.0</td>\n",
       "    </tr>\n",
       "    <tr>\n",
       "      <th>4</th>\n",
       "      <td>ey  :  ea we : hospital ee peru  ministerio:de...</td>\n",
       "      <td>OCR</td>\n",
       "      <td>1149901.0</td>\n",
       "    </tr>\n",
       "    <tr>\n",
       "      <th>...</th>\n",
       "      <td>...</td>\n",
       "      <td>...</td>\n",
       "      <td>...</td>\n",
       "    </tr>\n",
       "    <tr>\n",
       "      <th>3935</th>\n",
       "      <td>nes peru ministeriode salud 8 licitacion publi...</td>\n",
       "      <td>OCR</td>\n",
       "      <td>2168959.0</td>\n",
       "    </tr>\n",
       "    <tr>\n",
       "      <th>3936</th>\n",
       "      <td>patricia  , piedra z on errod 0 i minsterio s...</td>\n",
       "      <td>OCR</td>\n",
       "      <td>2169593.0</td>\n",
       "    </tr>\n",
       "    <tr>\n",
       "      <th>3937</th>\n",
       "      <td>see vi sli eea aes cit , iceministerio de rede...</td>\n",
       "      <td>OCR</td>\n",
       "      <td>2170324.0</td>\n",
       "    </tr>\n",
       "    <tr>\n",
       "      <th>3938</th>\n",
       "      <td>marina de guerra del peru nt direcion ejecutiv...</td>\n",
       "      <td>OCR</td>\n",
       "      <td>2170926.0</td>\n",
       "    </tr>\n",
       "    <tr>\n",
       "      <th>3939</th>\n",
       "      <td>adjudigacion simplificada n 0322022 f marca f ...</td>\n",
       "      <td>OCR</td>\n",
       "      <td>2174441.0</td>\n",
       "    </tr>\n",
       "  </tbody>\n",
       "</table>\n",
       "<p>3940 rows × 3 columns</p>\n",
       "</div>"
      ],
      "text/plain": [
       "                                                   text extraction_type  \\\n",
       "0      ee rey ela par ee res  contrato n0012018hh se...             OCR   \n",
       "1     4 see . hospital peru  ministerio. de salud ca...             OCR   \n",
       "2     es  ieee a x : eae . be ap pe peru  ministerio...             OCR   \n",
       "3      fox  hospital .  7m peru  ministerio de salud...             OCR   \n",
       "4     ey  :  ea we : hospital ee peru  ministerio:de...             OCR   \n",
       "...                                                 ...             ...   \n",
       "3935  nes peru ministeriode salud 8 licitacion publi...             OCR   \n",
       "3936   patricia  , piedra z on errod 0 i minsterio s...             OCR   \n",
       "3937  see vi sli eea aes cit , iceministerio de rede...             OCR   \n",
       "3938  marina de guerra del peru nt direcion ejecutiv...             OCR   \n",
       "3939  adjudigacion simplificada n 0322022 f marca f ...             OCR   \n",
       "\n",
       "      n_cod_contrato  \n",
       "0          1147865.0  \n",
       "1          1148734.0  \n",
       "2          1149147.0  \n",
       "3          1149733.0  \n",
       "4          1149901.0  \n",
       "...              ...  \n",
       "3935       2168959.0  \n",
       "3936       2169593.0  \n",
       "3937       2170324.0  \n",
       "3938       2170926.0  \n",
       "3939       2174441.0  \n",
       "\n",
       "[3940 rows x 3 columns]"
      ]
     },
     "execution_count": 24,
     "metadata": {},
     "output_type": "execute_result"
    }
   ],
   "source": [
    "extraction_df"
   ]
  },
  {
   "cell_type": "code",
   "execution_count": 30,
   "id": "6790d06b",
   "metadata": {},
   "outputs": [],
   "source": [
    "extraction_df['text'].fillna('NA', inplace=True)\n",
    "extraction_df['text'] = extraction_df['text'].str.lower()\n",
    "extraction_df['text'] = extraction_df['text'].apply(lambda x: re.sub('\\s+', ' ', x).strip())\n",
    "extraction_df['text'] = extraction_df['text'].apply(lambda x: re.sub(r'(\\.|\\,)\\1+', r'\\1', x).strip())\n",
    "extraction_df.drop('extraction_type', axis='columns', inplace=True)"
   ]
  },
  {
   "cell_type": "code",
   "execution_count": 31,
   "id": "b106cf32",
   "metadata": {},
   "outputs": [],
   "source": [
    "# Split a text into smaller chunks of size n, preferably ending at the end of a sentence\n",
    "def create_chunks(text, n, tokenizer):\n",
    "    tokens = tokenizer.encode(text)\n",
    "    \"\"\"Yield successive n-sized chunks from text.\"\"\"\n",
    "    i = 0\n",
    "    while i < len(tokens):\n",
    "        # Find the nearest end of sentence within a range of 0.9 * n and 1.1 * n tokens\n",
    "        j = min(i + int(1.1 * n), len(tokens))\n",
    "        while j > i + int(0.9 * n):\n",
    "            # Decode the tokens and check for full stop or newline\n",
    "            chunk = tokenizer.decode(tokens[i:j])\n",
    "            if chunk.endswith(\".\") or chunk.endswith(\"\\n\"):\n",
    "                break\n",
    "            j -= 1\n",
    "        # If no end of sentence found, use n tokens as the chunk size\n",
    "        if j == i + int(0.9 * n):\n",
    "            j = min(i + n, len(tokens))\n",
    "        yield tokens[i:j]\n",
    "        i = j"
   ]
  },
  {
   "cell_type": "code",
   "execution_count": 32,
   "id": "52e6f01f",
   "metadata": {},
   "outputs": [
    {
     "name": "stderr",
     "output_type": "stream",
     "text": [
      "100%|██████████████████████████████████████████████████████████████████████████████| 3940/3940 [01:31<00:00, 43.11it/s]\n"
     ]
    }
   ],
   "source": [
    "# Initialise tokenizer\n",
    "tokenizer = tiktoken.encoding_for_model('gpt-3.5-turbo')\n",
    "\n",
    "prompt=[]\n",
    "\n",
    "for i in tqdm(range(len(extraction_df['text']))):\n",
    "    chunks = create_chunks(extraction_df.loc[i,'text'], 1500, tokenizer)\n",
    "    text_chunks = [tokenizer.decode(chunk) for chunk in chunks]\n",
    "    if len(text_chunks)>=2:\n",
    "        prompt.append(' '.join(text_chunks[:1]+text_chunks[-1:]))\n",
    "    else:\n",
    "        prompt.append(' '.join(text_chunks))\n",
    "extraction_df['text'] = prompt"
   ]
  },
  {
   "cell_type": "code",
   "execution_count": 33,
   "id": "0c373a1e",
   "metadata": {},
   "outputs": [],
   "source": [
    "extraction_df['text'] = extraction_df['text'] + '---->'"
   ]
  },
  {
   "cell_type": "code",
   "execution_count": 34,
   "id": "b30b4bc6",
   "metadata": {},
   "outputs": [],
   "source": [
    "os.environ['OPENAI_API_KEY'] = \"\""
   ]
  },
  {
   "cell_type": "code",
   "execution_count": 35,
   "id": "1c35f21f",
   "metadata": {},
   "outputs": [],
   "source": [
    "openai.api_key = os.getenv(\"OPENAI_API_KEY\")"
   ]
  },
  {
   "cell_type": "code",
   "execution_count": 36,
   "id": "79c371d5",
   "metadata": {},
   "outputs": [
    {
     "name": "stderr",
     "output_type": "stream",
     "text": [
      " 68%|███████████████████████████████████████████████████▊                        | 2683/3940 [2:05:35<55:01,  2.63s/it]"
     ]
    },
    {
     "name": "stdout",
     "output_type": "stream",
     "text": [
      "API error occurred. Retrying in 1 seconds...\n"
     ]
    },
    {
     "name": "stderr",
     "output_type": "stream",
     "text": [
      "100%|████████████████████████████████████████████████████████████████████████████| 3940/3940 [3:02:26<00:00,  2.78s/it]\n"
     ]
    },
    {
     "data": {
      "text/html": [
       "<div>\n",
       "<style scoped>\n",
       "    .dataframe tbody tr th:only-of-type {\n",
       "        vertical-align: middle;\n",
       "    }\n",
       "\n",
       "    .dataframe tbody tr th {\n",
       "        vertical-align: top;\n",
       "    }\n",
       "\n",
       "    .dataframe thead th {\n",
       "        text-align: right;\n",
       "    }\n",
       "</style>\n",
       "<table border=\"1\" class=\"dataframe\">\n",
       "  <thead>\n",
       "    <tr style=\"text-align: right;\">\n",
       "      <th></th>\n",
       "      <th>text</th>\n",
       "      <th>n_cod_contrato</th>\n",
       "      <th>gpt_unit_prices</th>\n",
       "    </tr>\n",
       "  </thead>\n",
       "  <tbody>\n",
       "    <tr>\n",
       "      <th>0</th>\n",
       "      <td>ee rey ela par ee res contrato n0012018hh serv...</td>\n",
       "      <td>1147865.0</td>\n",
       "      <td>8.0; 16.0; 16.0; 8.0; 16.2; 7.5; 7.5; 16.2; 7...</td>\n",
       "    </tr>\n",
       "    <tr>\n",
       "      <th>1</th>\n",
       "      <td>4 see . hospital peru ministerio. de salud cay...</td>\n",
       "      <td>1148734.0</td>\n",
       "      <td>0.28; 0.25; 0.22; 0.12; 0.12; 0.35; 0.35; 0.3...</td>\n",
       "    </tr>\n",
       "    <tr>\n",
       "      <th>2</th>\n",
       "      <td>es ieee a x : eae . be ap pe peru ministerio i...</td>\n",
       "      <td>1149147.0</td>\n",
       "      <td>5276.66; 3650.0 \\n\\n###\\n\\n</td>\n",
       "    </tr>\n",
       "    <tr>\n",
       "      <th>3</th>\n",
       "      <td>fox hospital . 7m peru ministerio de salud cay...</td>\n",
       "      <td>1149733.0</td>\n",
       "      <td>4.667 \\n\\n###\\n\\n</td>\n",
       "    </tr>\n",
       "    <tr>\n",
       "      <th>4</th>\n",
       "      <td>ey : ea we : hospital ee peru ministerio:de sa...</td>\n",
       "      <td>1149901.0</td>\n",
       "      <td>0.3; 4.0; 1.0; 1.0; 1.0; 3.35; 2.3; 2.5; 1.0;...</td>\n",
       "    </tr>\n",
       "    <tr>\n",
       "      <th>...</th>\n",
       "      <td>...</td>\n",
       "      <td>...</td>\n",
       "      <td>...</td>\n",
       "    </tr>\n",
       "    <tr>\n",
       "      <th>3935</th>\n",
       "      <td>nes peru ministeriode salud 8 licitacion publi...</td>\n",
       "      <td>2168959.0</td>\n",
       "      <td>\\n\\n###\\n\\n</td>\n",
       "    </tr>\n",
       "    <tr>\n",
       "      <th>3936</th>\n",
       "      <td>patricia , piedra z on errod 0 i minsterio ss ...</td>\n",
       "      <td>2169593.0</td>\n",
       "      <td>6.726; 6.785 \\n\\n###\\n\\n</td>\n",
       "    </tr>\n",
       "    <tr>\n",
       "      <th>3937</th>\n",
       "      <td>see vi sli eea aes cit , iceministerio de rede...</td>\n",
       "      <td>2170324.0</td>\n",
       "      <td>135.0; 48.0; 67.0; 75.0; 67.0 \\n\\n###\\n\\n</td>\n",
       "    </tr>\n",
       "    <tr>\n",
       "      <th>3938</th>\n",
       "      <td>marina de guerra del peru nt direcion ejecutiv...</td>\n",
       "      <td>2170926.0</td>\n",
       "      <td>0.08; 2.42; 0.38; 2.2; 0.84 \\n\\n###\\n\\n</td>\n",
       "    </tr>\n",
       "    <tr>\n",
       "      <th>3939</th>\n",
       "      <td>adjudigacion simplificada n 0322022 f marca f ...</td>\n",
       "      <td>2174441.0</td>\n",
       "      <td>2850.0; 2850.0; 2850.0; 2850.0; 2850.0; 2850....</td>\n",
       "    </tr>\n",
       "  </tbody>\n",
       "</table>\n",
       "<p>3940 rows × 3 columns</p>\n",
       "</div>"
      ],
      "text/plain": [
       "                                                   text  n_cod_contrato  \\\n",
       "0     ee rey ela par ee res contrato n0012018hh serv...       1147865.0   \n",
       "1     4 see . hospital peru ministerio. de salud cay...       1148734.0   \n",
       "2     es ieee a x : eae . be ap pe peru ministerio i...       1149147.0   \n",
       "3     fox hospital . 7m peru ministerio de salud cay...       1149733.0   \n",
       "4     ey : ea we : hospital ee peru ministerio:de sa...       1149901.0   \n",
       "...                                                 ...             ...   \n",
       "3935  nes peru ministeriode salud 8 licitacion publi...       2168959.0   \n",
       "3936  patricia , piedra z on errod 0 i minsterio ss ...       2169593.0   \n",
       "3937  see vi sli eea aes cit , iceministerio de rede...       2170324.0   \n",
       "3938  marina de guerra del peru nt direcion ejecutiv...       2170926.0   \n",
       "3939  adjudigacion simplificada n 0322022 f marca f ...       2174441.0   \n",
       "\n",
       "                                        gpt_unit_prices  \n",
       "0      8.0; 16.0; 16.0; 8.0; 16.2; 7.5; 7.5; 16.2; 7...  \n",
       "1      0.28; 0.25; 0.22; 0.12; 0.12; 0.35; 0.35; 0.3...  \n",
       "2                           5276.66; 3650.0 \\n\\n###\\n\\n  \n",
       "3                                     4.667 \\n\\n###\\n\\n  \n",
       "4      0.3; 4.0; 1.0; 1.0; 1.0; 3.35; 2.3; 2.5; 1.0;...  \n",
       "...                                                 ...  \n",
       "3935                                        \\n\\n###\\n\\n  \n",
       "3936                           6.726; 6.785 \\n\\n###\\n\\n  \n",
       "3937          135.0; 48.0; 67.0; 75.0; 67.0 \\n\\n###\\n\\n  \n",
       "3938            0.08; 2.42; 0.38; 2.2; 0.84 \\n\\n###\\n\\n  \n",
       "3939   2850.0; 2850.0; 2850.0; 2850.0; 2850.0; 2850....  \n",
       "\n",
       "[3940 rows x 3 columns]"
      ]
     },
     "execution_count": 36,
     "metadata": {},
     "output_type": "execute_result"
    }
   ],
   "source": [
    "# Iterate through each row in DataFrame\n",
    "for index, row in tqdm(extraction_df.iterrows(), total=extraction_df.shape[0]):\n",
    "    user_content = row['text']\n",
    "    time.sleep(2) \n",
    "    \n",
    "    try:\n",
    "        # Call OpenAI API\n",
    "        completion = openai.ChatCompletion.create(\n",
    "            model=\"ft:gpt-3.5-turbo-0613:personal::7wfSDkB5\",\n",
    "            request_timeout = 100,\n",
    "            messages=[\n",
    "                {\"role\": \"system\", \"content\": \"Dado el texto extraido de un contrato, extrae los precios unitarios de los bienes comprados.\"},\n",
    "                {\"role\": \"user\", \"content\": user_content}\n",
    "            ]\n",
    "        )\n",
    "    \n",
    "        # Extract the generated message and store it in DataFrame\n",
    "        generated_message = completion.choices[0].message['content']\n",
    "        extraction_df.at[index, 'gpt_unit_prices'] = generated_message\n",
    "\n",
    "    except openai.error.RateLimitError as e:\n",
    "        retry_time = e.retry_after if hasattr(e, 'retry_after') else 1\n",
    "        print(f\"Rate limit error. Retrying in {retry_time} seconds...\")\n",
    "        time.sleep(retry_time)\n",
    "        completion = openai.ChatCompletion.create(\n",
    "            model=\"ft:gpt-3.5-turbo-0613:personal::7wfSDkB5\",\n",
    "            request_timeout = 100,\n",
    "            messages=[\n",
    "                {\"role\": \"system\", \"content\": \"Dado el texto extraido de un contrato, extrae los precios unitarios de los bienes comprados.\"},\n",
    "                {\"role\": \"user\", \"content\": user_content}\n",
    "            ]\n",
    "        )\n",
    "    \n",
    "        # Extract the generated message and store it in DataFrame\n",
    "        generated_message = completion.choices[0].message['content']\n",
    "        extraction_df.at[index, 'gpt_unit_prices'] = generated_message\n",
    "        \n",
    "    except openai.error.ServiceUnavailableError as e:\n",
    "        retry_time = e.retry_after if hasattr(e, 'retry_after') else 1\n",
    "        print(f\"Service Unavailable error. Retrying in {retry_time} seconds...\")\n",
    "        time.sleep(retry_time)\n",
    "        completion = openai.ChatCompletion.create(\n",
    "            model=\"ft:gpt-3.5-turbo-0613:personal::7wfSDkB5\",\n",
    "            request_timeout = 100,\n",
    "            messages=[\n",
    "                {\"role\": \"system\", \"content\": \"Dado el texto extraido de un contrato, extrae los precios unitarios de los bienes comprados.\"},\n",
    "                {\"role\": \"user\", \"content\": user_content}\n",
    "            ]\n",
    "        )\n",
    "    \n",
    "        # Extract the generated message and store it in DataFrame\n",
    "        generated_message = completion.choices[0].message['content']\n",
    "        extraction_df.at[index, 'gpt_unit_prices'] = generated_message\n",
    "\n",
    "    except openai.error.APIError as e:\n",
    "        retry_time = e.retry_after if hasattr(e, 'retry_after') else 1\n",
    "        print(f\"API error occurred. Retrying in {retry_time} seconds...\")\n",
    "        time.sleep(retry_time)\n",
    "        completion = openai.ChatCompletion.create(\n",
    "            model=\"ft:gpt-3.5-turbo-0613:personal::7wfSDkB5\",\n",
    "            request_timeout = 100,\n",
    "            messages=[\n",
    "                {\"role\": \"system\", \"content\": \"Dado el texto extraido de un contrato, extrae los precios unitarios de los bienes comprados.\"},\n",
    "                {\"role\": \"user\", \"content\": user_content}\n",
    "            ]\n",
    "        )\n",
    "    \n",
    "        # Extract the generated message and store it in DataFrame\n",
    "        generated_message = completion.choices[0].message['content']\n",
    "        extraction_df.at[index, 'gpt_unit_prices'] = generated_message\n",
    "\n",
    "    except OSError as e:\n",
    "        retry_time = 1  # Adjust the retry time as needed\n",
    "        print(f\"Connection error occurred: {e}. Retrying in {retry_time} seconds...\")      \n",
    "        time.sleep(retry_time)\n",
    "        completion = openai.ChatCompletion.create(\n",
    "            model=\"ft:gpt-3.5-turbo-0613:personal::7wfSDkB5\",\n",
    "            request_timeout = 100,\n",
    "            messages=[\n",
    "                {\"role\": \"system\", \"content\": \"Dado el texto extraido de un contrato, extrae los precios unitarios de los bienes comprados.\"},\n",
    "                {\"role\": \"user\", \"content\": user_content}\n",
    "            ]\n",
    "        )\n",
    "    \n",
    "        # Extract the generated message and store it in DataFrame\n",
    "        generated_message = completion.choices[0].message['content']\n",
    "        extraction_df.at[index, 'gpt_unit_prices'] = generated_message\n",
    "        \n",
    "    except requests.Timeout as e:\n",
    "        retry_time = 1  # Adjust the retry time as needed\n",
    "        print(f\"Timeout error occurred: {e}. Retrying in {retry_time} seconds...\")      \n",
    "        time.sleep(retry_time)\n",
    "        completion = openai.ChatCompletion.create(\n",
    "            model=\"ft:gpt-3.5-turbo-0613:personal::7wfSDkB5\",\n",
    "            request_timeout = 100,\n",
    "            messages=[\n",
    "                {\"role\": \"system\", \"content\": \"Dado el texto extraido de un contrato, extrae los precios unitarios de los bienes comprados.\"},\n",
    "                {\"role\": \"user\", \"content\": user_content}\n",
    "            ]\n",
    "        )\n",
    "    \n",
    "        # Extract the generated message and store it in DataFrame\n",
    "        generated_message = completion.choices[0].message['content']\n",
    "        extraction_df.at[index, 'gpt_unit_prices'] = generated_message\n",
    "        \n",
    "    except Exception as e:\n",
    "        retry_time = 1\n",
    "        print(f\"An unexpected error occurred: {e}. Retrying in {retry_time} seconds...\")\n",
    "        time.sleep(retry_time)\n",
    "        completion = openai.ChatCompletion.create(\n",
    "            model=\"ft:gpt-3.5-turbo-0613:personal::7wfSDkB5\",\n",
    "            request_timeout = 100,\n",
    "            messages=[\n",
    "                {\"role\": \"system\", \"content\": \"Dado el texto extraido de un contrato, extrae los precios unitarios de los bienes comprados.\"},\n",
    "                {\"role\": \"user\", \"content\": user_content}\n",
    "            ]\n",
    "        )\n",
    "    \n",
    "        # Extract the generated message and store it in DataFrame\n",
    "        generated_message = completion.choices[0].message['content']\n",
    "        extraction_df.at[index, 'gpt_unit_prices'] = generated_message\n",
    "        \n",
    "# Print the updated DataFrame to check if it worked\n",
    "extraction_df"
   ]
  },
  {
   "cell_type": "code",
   "execution_count": 37,
   "id": "b4e57f02",
   "metadata": {},
   "outputs": [],
   "source": [
    "extraction_df.to_excel(main_analysis_dfs + r'\\extraction_df.xlsx', index = False)"
   ]
  },
  {
   "cell_type": "code",
   "execution_count": null,
   "id": "f1528f4c",
   "metadata": {},
   "outputs": [],
   "source": []
  }
 ],
 "metadata": {
  "kernelspec": {
   "display_name": "Python 3 (ipykernel)",
   "language": "python",
   "name": "python3"
  },
  "language_info": {
   "codemirror_mode": {
    "name": "ipython",
    "version": 3
   },
   "file_extension": ".py",
   "mimetype": "text/x-python",
   "name": "python",
   "nbconvert_exporter": "python",
   "pygments_lexer": "ipython3",
   "version": "3.10.9"
  }
 },
 "nbformat": 4,
 "nbformat_minor": 5
}
