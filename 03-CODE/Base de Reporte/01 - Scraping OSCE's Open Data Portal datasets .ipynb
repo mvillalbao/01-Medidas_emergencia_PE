{
 "cells": [
  {
   "cell_type": "code",
   "execution_count": 1,
   "id": "a507ef8e",
   "metadata": {},
   "outputs": [],
   "source": [
    "import os\n",
    "import requests\n",
    "from bs4 import BeautifulSoup\n",
    "from tqdm import tqdm"
   ]
  },
  {
   "cell_type": "code",
   "execution_count": 2,
   "id": "19e666e9",
   "metadata": {},
   "outputs": [
    {
     "data": {
      "text/plain": [
       "'d:\\\\01-Medidas_emergencia_PE_2024\\\\03-CODE\\\\Base de Reporte'"
      ]
     },
     "execution_count": 2,
     "metadata": {},
     "output_type": "execute_result"
    }
   ],
   "source": [
    "os.getcwd()"
   ]
  },
  {
   "cell_type": "code",
   "execution_count": 3,
   "id": "bad36fcf",
   "metadata": {},
   "outputs": [],
   "source": [
    "os.chdir(\"../../\")\n",
    "root = os.getcwd()\n",
    "data_raw = root + r'\\01-DATA_RAW'\n",
    "data_processed = root + r'\\02-DATA_PROCESSED'"
   ]
  },
  {
   "cell_type": "markdown",
   "id": "af92db08",
   "metadata": {},
   "source": [
    "# [Ordenes de Compra y/o Servicios](https://bi.seace.gob.pe/pentaho/api/repos/%3Apublic%3Aportal%3Adatosabiertoscontratacionesdirectas.html/content?userid=public&password=key#)"
   ]
  },
  {
   "cell_type": "code",
   "execution_count": 4,
   "id": "ec3f5569",
   "metadata": {
    "scrolled": true
   },
   "outputs": [
    {
     "name": "stderr",
     "output_type": "stream",
     "text": [
      "100%|██████████| 80/80 [07:57<00:00,  5.97s/it]\n"
     ]
    }
   ],
   "source": [
    "# Set up\n",
    "url = 'https://bi.seace.gob.pe/pentaho/api/repos/%3Apublic%3Aportal%3Adatosabiertoscontratacionesdirectas.html/content?userid=public&password=key'  # URL to scrape\n",
    "folder_location = data_raw + r'\\scraped_files\\DATOS_ORDENES_DE_COMPRA'  # Folder where you want to store scraped files\n",
    "if not os.path.exists(folder_location):\n",
    "    os.mkdir(folder_location)\n",
    "\n",
    "response = requests.get(url)\n",
    "soup= BeautifulSoup(response.text, \"html.parser\") \n",
    "\n",
    "for link in tqdm(soup.find_all('a', href=True)):\n",
    "    href = link.get('href')\n",
    "    if 'tinyurl.com' in href: #all files of interest are referenced with a tinyurl url\n",
    "        \n",
    "        # Name the Excel files using the last portion of each link which are unique in this case\n",
    "        filename = os.path.join(folder_location, href.split('/')[-1] + '.xlsx')\n",
    "\n",
    "        # Make a GET request to the tinyurl link, follow redirects\n",
    "        file_response = requests.get(href, allow_redirects=True)\n",
    "\n",
    "        # Save the content in the response to a file\n",
    "        with open(filename, 'wb') as f:\n",
    "            f.write(file_response.content)"
   ]
  },
  {
   "cell_type": "markdown",
   "id": "1a2f7370",
   "metadata": {},
   "source": [
    "# [Datos de la Convocatoria o Invitación](https://bi.seace.gob.pe/pentaho/api/repos/%3Apublic%3Aportal%3Adatosabiertosconvocatorias.html/content?userid=public&password=key)"
   ]
  },
  {
   "cell_type": "code",
   "execution_count": 5,
   "id": "d8cbd834",
   "metadata": {},
   "outputs": [
    {
     "name": "stderr",
     "output_type": "stream",
     "text": [
      "100%|██████████| 28/28 [00:33<00:00,  1.21s/it]\n"
     ]
    }
   ],
   "source": [
    "# Set up\n",
    "url = 'https://bi.seace.gob.pe/pentaho/api/repos/%3Apublic%3Aportal%3Adatosabiertosconvocatorias.html/content?userid=public&password=key'  # URL to scrape\n",
    "folder_location = data_raw + r'\\scraped_files\\DATOS_DE_CONVOCATORIA'  # Folder where you want to store scraped files\n",
    "if not os.path.exists(folder_location):\n",
    "    os.mkdir(folder_location)\n",
    "\n",
    "response = requests.get(url)\n",
    "soup= BeautifulSoup(response.text, \"html.parser\") \n",
    "\n",
    "for link in tqdm(soup.find_all('a', href=True)):\n",
    "    href = link.get('href')\n",
    "    if 'tinyurl.com' in href: #all files of interest are referenced with a tinyurl url\n",
    "        \n",
    "        # Name the Excel files using the last portion of each link which are unique in this case\n",
    "        filename = os.path.join(folder_location, href.split('/')[-1] + '.xlsx')\n",
    "\n",
    "        # Make a GET request to the tinyurl link, follow redirects\n",
    "        file_response = requests.get(href, allow_redirects=True)\n",
    "\n",
    "        # Save the content in the response to a file\n",
    "        with open(filename, 'wb') as f:\n",
    "            f.write(file_response.content)"
   ]
  },
  {
   "cell_type": "markdown",
   "id": "d913e1f8",
   "metadata": {},
   "source": [
    "# [Contratos](https://bi.seace.gob.pe/pentaho/api/repos/%3Apublic%3Aportal%3Adatosabiertoscontratos.html/content?userid=public&password=key)"
   ]
  },
  {
   "cell_type": "code",
   "execution_count": 6,
   "id": "17c7e5cd",
   "metadata": {},
   "outputs": [
    {
     "name": "stderr",
     "output_type": "stream",
     "text": [
      "100%|██████████| 13/13 [00:23<00:00,  1.82s/it]\n"
     ]
    }
   ],
   "source": [
    "# Set up\n",
    "url = 'https://bi.seace.gob.pe/pentaho/api/repos/%3Apublic%3Aportal%3Adatosabiertoscontratos.html/content?userid=public&password=key'  # URL to scrape\n",
    "folder_location = data_raw + r'\\scraped_files\\DATOS_DE_CONTRATOS'  # Folder where you want to store scraped files\n",
    "if not os.path.exists(folder_location):\n",
    "    os.mkdir(folder_location)\n",
    "\n",
    "response = requests.get(url)\n",
    "soup= BeautifulSoup(response.text, \"html.parser\") \n",
    "\n",
    "for link in tqdm(soup.find_all('a', href=True)):\n",
    "    href = link.get('href')\n",
    "    if 'tinyurl.com' in href: #all files of interest are referenced with a tinyurl url\n",
    "        \n",
    "        # Name the Excel files using the last portion of each link which are unique in this case\n",
    "        filename = os.path.join(folder_location, href.split('/')[-1] + '.xlsx')\n",
    "\n",
    "        # Make a GET request to the tinyurl link, follow redirects\n",
    "        file_response = requests.get(href, allow_redirects=True)\n",
    "\n",
    "        # Save the content in the response to a file\n",
    "        with open(filename, 'wb') as f:\n",
    "            f.write(file_response.content)"
   ]
  },
  {
   "cell_type": "markdown",
   "id": "f7ba967b",
   "metadata": {},
   "source": [
    "# [Datos de la Adjudicación](https://bi.seace.gob.pe/pentaho/api/repos/%3Apublic%3Aportal%3Adatosabiertosadjudicaciones.html/content?userid=public&password=key)"
   ]
  },
  {
   "cell_type": "code",
   "execution_count": 7,
   "id": "3cfb3c8f",
   "metadata": {},
   "outputs": [
    {
     "name": "stderr",
     "output_type": "stream",
     "text": [
      "100%|██████████| 28/28 [00:31<00:00,  1.13s/it]\n"
     ]
    }
   ],
   "source": [
    "# Set up\n",
    "url = 'https://bi.seace.gob.pe/pentaho/api/repos/%3Apublic%3Aportal%3Adatosabiertosadjudicaciones.html/content?userid=public&password=key'  # URL to scrape\n",
    "folder_location = data_raw + r'\\scraped_files\\DATOS_DE_ADJUDICACIONES'  # Folder where you want to store scraped files\n",
    "if not os.path.exists(folder_location):\n",
    "    os.mkdir(folder_location)\n",
    "\n",
    "response = requests.get(url)\n",
    "soup= BeautifulSoup(response.text, \"html.parser\") \n",
    "\n",
    "for link in tqdm(soup.find_all('a', href=True)):\n",
    "    href = link.get('href')\n",
    "    if 'tinyurl.com' in href: #all files of interest are referenced with a tinyurl url\n",
    "        \n",
    "        # Name the Excel files using the last portion of each link which are unique in this case\n",
    "        filename = os.path.join(folder_location, href.split('/')[-1] + '.xlsx')\n",
    "\n",
    "        # Make a GET request to the tinyurl link, follow redirects\n",
    "        file_response = requests.get(href, allow_redirects=True)\n",
    "\n",
    "        # Save the content in the response to a file\n",
    "        with open(filename, 'wb') as f:\n",
    "            f.write(file_response.content)"
   ]
  }
 ],
 "metadata": {
  "kernelspec": {
   "display_name": "Python 3 (ipykernel)",
   "language": "python",
   "name": "python3"
  },
  "language_info": {
   "codemirror_mode": {
    "name": "ipython",
    "version": 3
   },
   "file_extension": ".py",
   "mimetype": "text/x-python",
   "name": "python",
   "nbconvert_exporter": "python",
   "pygments_lexer": "ipython3",
   "version": "3.11.7"
  }
 },
 "nbformat": 4,
 "nbformat_minor": 5
}
